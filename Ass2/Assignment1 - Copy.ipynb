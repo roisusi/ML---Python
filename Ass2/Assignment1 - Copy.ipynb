{
 "cells": [
  {
   "cell_type": "markdown",
   "metadata": {
    "deletable": false,
    "editable": false,
    "nbgrader": {
     "cell_type": "markdown",
     "checksum": "8ee51dfde9401519abe05a3cbabe9d45",
     "grade": false,
     "grade_id": "cell-cb0dc62f7fc0de70",
     "locked": true,
     "schema_version": 3,
     "solution": false,
     "task": false
    }
   },
   "source": [
    "<a id=\"home\"></a>\n",
    "## Assignment 1\n",
    "In this assignment you will need to implement functions throughout the classification flow.<br/>\n",
    "\n",
    "To receive YOUR specific task, go to section 1c - [Your personal implementation tasks](#1c), \n",
    "<b>after</b> you run the preceding step - [import packages](#Preceding) and implement & run the [myName](#myName), [myId](#myId) functions. <br/>\n",
    "\n",
    "<b>Index of functions you need to implement (total possible points: 7)</b>:<br/>\n",
    "\n",
    "| Section | Section-name | points | Section | Section-name | points | Section | Section-name | points |\n",
    "| :- | :- | :- | :- | :- | :- | :- | :- | :- | \n",
    "| Guidelines | [General assignment instructions](#gen_instructions) | | Imports | [Import packages](#Preceding) | | Part 1. | [Student info](#student_info) | 0.5 |\n",
    "| 1c. | [info: YOUR personal implementation tasks](#1c) | | Part 2. | [Load the dataset](#load_dataset) | 0.5 | Part 3. | [Scaling](#scaling) | 1.5 |\n",
    "| Part 4.a. | [Calculate Test,Train Distance](#dist) | 1.5 | Part 4.b. | [KNN main flow - predict](#predict) | 2 | Part 5. | [Model Evaluation](#evaluation) | 1 |"
   ]
  },
  {
   "cell_type": "markdown",
   "metadata": {
    "deletable": false,
    "editable": false,
    "nbgrader": {
     "cell_type": "markdown",
     "checksum": "981edc90566525fbb43029ff2f2a3da4",
     "grade": false,
     "grade_id": "cell-ca69e2535b75b2c7",
     "locked": true,
     "schema_version": 3,
     "solution": false,
     "task": false
    }
   },
   "source": [
    "<a id=\"gen_instructions\"></a>\n",
    "## Working on the assignment, todo and not todo:\n",
    "<b><u>Todo</u></b>:<br />\n",
    "<div class=\"alert alert-success\">\n",
    "<ul><li>&#x2714; <b> Work by yourself</b> and submit your own assignment, <b>no pairing</b> to other students</li>\n",
    "<li>&#x2714; Test and save your assignment - <b>submit the last tested and saved version</b></li>\n",
    "<li>&#x2714; Work on the <b>original notebook</b> of the assignment</li>\n",
    "<li>&#x2714; submit <b>only</b> the <b>notebook (.ipynb)</b> file</li></ul>\n",
    "</div>\n",
    "<b><u>Not todo</u></b>:<br />\n",
    "<div class=\"alert alert-danger\">\n",
    "<ul><li>&#x2718; do <b>NOT</b> submit an <b>empty assignment</b></li>\n",
    "<li>&#x2718; do <b>NOT submit extra files</b>, <u>unless you're asked to do so</u></li>\n",
    "<li>&#x2718; <b>Do NOT submit a .py/.txt/.rar/.zip (or any non (.ipynb) file)</b> <u>version for the notebook</u> of the assignment</li>\n",
    "<li>&#x2718; <b>do NOT change</b> the notebook file name</li></ul>\n",
    "</div>"
   ]
  },
  {
   "cell_type": "markdown",
   "metadata": {
    "deletable": false,
    "editable": false,
    "nbgrader": {
     "cell_type": "markdown",
     "checksum": "f1a9d4d276461971ba68d93132747cba",
     "grade": false,
     "grade_id": "cell-ea4ee7600bd9ed5e",
     "locked": true,
     "schema_version": 3,
     "solution": false,
     "task": false
    }
   },
   "source": [
    "<b>Not good - Any of the following</b>:<br/>\n",
    "<div class=\"alert alert-danger\">\n",
    "<ul><li>&#x2718; Code not Implemented</li>\n",
    "<li>&#x2718; No returned value</li>\n",
    "<li>&#x2718; Did not remove the '<code>raise NotImplementedError()</code>' line</li></ul>\n",
    "<code># --------------------------- (AFTER YOUR IMPLEMENTATION) RUN THIS CODE CELL  -------------------------------------\n",
    "'''\n",
    "What do you need to do?\n",
    "\n",
    "Complete the 'method_to_implement' function to do something (some explanation ...) and\n",
    "     return that value back\n",
    "'''\n",
    "def method_to_implement():\n",
    "    # YOUR CODE HERE\n",
    "    raise NotImplementedError()\n",
    "</code></div>"
   ]
  },
  {
   "cell_type": "markdown",
   "metadata": {
    "deletable": false,
    "editable": false,
    "nbgrader": {
     "cell_type": "markdown",
     "checksum": "473c2cba5d018e1f58dc68d82d659616",
     "grade": false,
     "grade_id": "cell-bc8fb22ee5c6eb59",
     "locked": true,
     "schema_version": 3,
     "solution": false,
     "task": false
    }
   },
   "source": [
    "<b>Good - All of the following</b>:<br/>\n",
    "<div class=\"alert alert-success\">\n",
    "<ul>\n",
    "<li>&#x2714; Your code starts one line after the '<code># YOUR CODE HERE</code>' remark</li>\n",
    "<li>&#x2714; Removed the '<code>raise NotImplementedError()</code>' line</li>\n",
    "<li>&#x2714; Implemented code</li>\n",
    "<li>&#x2714; returned expected value</li></ul>\n",
    "<code># --------------------------- (AFTER YOUR IMPLEMENTATION) RUN THIS CODE CELL  -------------------------------------\n",
    "'''\n",
    "What do you need to do?\n",
    "\n",
    "Complete the 'method_to_implement' function to do something (some explanation ...) and\n",
    "     return that value back\n",
    "'''\n",
    "def method_to_implement():\n",
    "    # YOUR CODE HERE\n",
    "    implemented code ...\n",
    "</code></div>"
   ]
  },
  {
   "cell_type": "markdown",
   "metadata": {
    "deletable": false,
    "editable": false,
    "nbgrader": {
     "cell_type": "markdown",
     "checksum": "53c7d9e4ce6bc3fbd7619e837b600208",
     "grade": false,
     "grade_id": "cell-b266a145274f9296",
     "locked": true,
     "schema_version": 3,
     "solution": false,
     "task": false
    }
   },
   "source": [
    "[Go to the beginning of the assignment](#home)\n",
    "## Preceding Step - import modules (packages)\n",
    "This step is necessary in order to use external modules (packages). <br/>\n",
    "**No other modules are allowed**\n",
    "\n",
    "**Use the following libraries for the assignment, when needed**:"
   ]
  },
  {
   "cell_type": "markdown",
   "metadata": {
    "deletable": false,
    "editable": false,
    "nbgrader": {
     "cell_type": "markdown",
     "checksum": "73f30cfaece8572d92a51924f9d4413e",
     "grade": false,
     "grade_id": "cell-be1367efe30e8370",
     "locked": true,
     "schema_version": 3,
     "solution": false,
     "task": false
    }
   },
   "source": [
    "<b>Import packaged - permitted packages</b>:<br />\n",
    "<div class=\"alert alert-success\">\n",
    "&#x2714; Any package or module imported in the following code cell are permitted\n",
    "</div>\n",
    "<hr>\n",
    "<b>Import packaged - Illegal packages</b>:<br/>\n",
    "<div class=\"alert alert-danger\">\n",
    "&#x2718; Any package or module NOT IMPORTED in the following code cell are ILLEGAL\n",
    "</div>"
   ]
  },
  {
   "cell_type": "code",
   "execution_count": 1,
   "metadata": {
    "deletable": false,
    "editable": false,
    "nbgrader": {
     "cell_type": "code",
     "checksum": "8c53c2d68e36d8698526c49f53e221bf",
     "grade": false,
     "grade_id": "run_import_packages",
     "locked": true,
     "schema_version": 3,
     "solution": false,
     "task": false
    }
   },
   "outputs": [],
   "source": [
    "# ------------>>>>>>>> RUN THIS CODE CELL <<<<<<<<------------\n",
    "# === CELL TYPE: IMPORTS AND SETUP \n",
    "\n",
    "import sys                       # for testing use only\n",
    "import os                        # for testing use only\n",
    "from datetime import datetime    # for testing use only\n",
    "import random                    # for testing use only\n",
    "import hashlib                   # for testing use only\n",
    "import pandas as pd\n",
    "import numpy as np\n",
    "import math \n",
    "import statistics"
   ]
  },
  {
   "cell_type": "markdown",
   "metadata": {
    "deletable": false,
    "editable": false,
    "nbgrader": {
     "cell_type": "markdown",
     "checksum": "422a67a0af2af9d73fc1b8281c4e9468",
     "grade": false,
     "grade_id": "cell-5ca642c6cc50de95",
     "locked": true,
     "schema_version": 3,
     "solution": false,
     "task": false
    }
   },
   "source": [
    "[Go to the beginning of the assignment](#home)\n",
    "<a id=\"student_info\"></a>\n",
    "<h3>Part 1 - Student information methods and YOUR personal implementation:</h3><br/>\n",
    "The following 2 cells consist of 2 methods which aim to validate your details.<br/>\n",
    "Please <b>make sure to implement <u>both</u> of them</b><br/><br/>\n",
    "<table align='left'>\n",
    "    <tr><td>\n",
    "        <img src=\"./images/id-card.png\" alt=\"name and id\" width=\"150\" align='left'/>\n",
    "    </td></tr>\n",
    "</table>    "
   ]
  },
  {
   "cell_type": "markdown",
   "metadata": {
    "deletable": false,
    "editable": false,
    "nbgrader": {
     "cell_type": "markdown",
     "checksum": "38f34f798c7be8eedd0d03921529c23e",
     "grade": false,
     "grade_id": "cell-b29c5e0dec15a940",
     "locked": true,
     "schema_version": 3,
     "solution": false,
     "task": false
    }
   },
   "source": [
    "### Part 1.a. Instructions\n",
    "<a id=\"myName\"></a>\n",
    "<u>Part 1.a.</u> Student information methods; \n",
    "<u>method name</u>: <b>myName</b><br/>\n",
    "<pre>\n",
    "Complete the following function to return your full name (as a string)\n",
    "    For example: assume your name is John Smith, you should write:\n",
    "    return 'John Smith'\n",
    "------------\n",
    "return value:\n",
    "- your full name (as a string)\n",
    "---------------------\n",
    "</pre>"
   ]
  },
  {
   "cell_type": "code",
   "execution_count": 2,
   "metadata": {
    "deletable": false,
    "nbgrader": {
     "cell_type": "code",
     "checksum": "4aaaa91c50706cbc9355b512ce8cb2ab",
     "grade": false,
     "grade_id": "answer-myName",
     "locked": false,
     "schema_version": 3,
     "solution": true,
     "task": false
    }
   },
   "outputs": [],
   "source": [
    "# 1.a.\n",
    "# ------------>>>>>>>> RUN THIS CODE CELL <<<<<<<<------------\n",
    "# --------  (run after implementation)\n",
    "# === CODE TYPE: ANSWER \n",
    "\n",
    "def myName():\n",
    "    # YOUR CODE HERE\n",
    "    return 'Roi Susi'"
   ]
  },
  {
   "cell_type": "code",
   "execution_count": 3,
   "metadata": {},
   "outputs": [],
   "source": [
    "# 1.a.\n",
    "# ------------>>>>>>>> RUN THIS CODE CELL <<<<<<<<------------\n",
    "# --------  (run after implementation)\n",
    "# === CODE TYPE: SELF TESTING\n",
    "# Use the following code to test your implementation:\n",
    "student_name = myName()\n",
    "# --- add additional code to check your code if needed:\n",
    "# YOUR CODE HERE\n"
   ]
  },
  {
   "cell_type": "markdown",
   "metadata": {
    "deletable": false,
    "editable": false,
    "nbgrader": {
     "cell_type": "markdown",
     "checksum": "764af3142ebc1cc8cd4b0d0acb519f26",
     "grade": false,
     "grade_id": "cell-7393537dbc746775",
     "locked": true,
     "schema_version": 3,
     "solution": false,
     "task": false
    }
   },
   "source": [
    "### Part 1.b. Instructions\n",
    "<a id=\"myId\"></a>\n",
    "<u>Part 1.b.</u> Student information methods; \n",
    "<u>method name</u>: <b>myId</b><br/>\n",
    "<pre>\n",
    "Complete the following function to return your ID number (as an integer number)\n",
    "    For example: assume your ID number is 1234, you should write:\n",
    "    return 1234\n",
    "------------\n",
    "return value:\n",
    "- your ID number (as an integer number)\n",
    "---------------------\n",
    "</pre>"
   ]
  },
  {
   "cell_type": "code",
   "execution_count": 4,
   "metadata": {
    "deletable": false,
    "nbgrader": {
     "cell_type": "code",
     "checksum": "345f93f80ef05fb8ccc5080a7282a268",
     "grade": false,
     "grade_id": "answer-myId",
     "locked": false,
     "schema_version": 3,
     "solution": true,
     "task": false
    }
   },
   "outputs": [],
   "source": [
    "# 1.b.\n",
    "# ------------>>>>>>>> RUN THIS CODE CELL <<<<<<<<------------\n",
    "# --------  (run after implementation)\n",
    "# === CODE TYPE: ANSWER \n",
    "\n",
    "def myId():\n",
    "    # YOUR CODE HERE\n",
    "    return 300685906"
   ]
  },
  {
   "cell_type": "code",
   "execution_count": 5,
   "metadata": {},
   "outputs": [],
   "source": [
    "# 1.b.\n",
    "# ------------>>>>>>>> RUN THIS CODE CELL <<<<<<<<------------\n",
    "# --------  (run after implementation)\n",
    "# === CODE TYPE: SELF TESTING\n",
    "# Use the following code to test your implementation:\n",
    "student_id = myId()\n",
    "# --- add additional code to check your code if needed:\n",
    "# YOUR CODE HERE\n"
   ]
  },
  {
   "cell_type": "code",
   "execution_count": 6,
   "metadata": {
    "deletable": false,
    "editable": false,
    "nbgrader": {
     "cell_type": "code",
     "checksum": "722d8ecaeff5467dcc885e2339739fcf",
     "grade": true,
     "grade_id": "test1-1_student_info",
     "locked": true,
     "points": 0.5,
     "schema_version": 3,
     "solution": false,
     "task": false
    }
   },
   "outputs": [
    {
     "name": "stdout",
     "output_type": "stream",
     "text": [
      "Part 1.a. 1.b. - Test 1 (name: test1-1_student_info, points: 0.5)\n",
      "\t--->Testing the implementation of 'myName' and 'myId' ...\n",
      "\n",
      "Good Job!\n",
      "You've passed the test for the implementation of 'myName' and 'myId'  :-)\n",
      "\n",
      "Output dataframe:\n",
      "-----------------\n"
     ]
    },
    {
     "data": {
      "text/html": [
       "<div>\n",
       "<style scoped>\n",
       "    .dataframe tbody tr th:only-of-type {\n",
       "        vertical-align: middle;\n",
       "    }\n",
       "\n",
       "    .dataframe tbody tr th {\n",
       "        vertical-align: top;\n",
       "    }\n",
       "\n",
       "    .dataframe thead th {\n",
       "        text-align: right;\n",
       "    }\n",
       "</style>\n",
       "<table border=\"1\" class=\"dataframe\">\n",
       "  <thead>\n",
       "    <tr style=\"text-align: right;\">\n",
       "      <th></th>\n",
       "      <th>value</th>\n",
       "      <th>type</th>\n",
       "      <th>date_time</th>\n",
       "    </tr>\n",
       "  </thead>\n",
       "  <tbody>\n",
       "    <tr>\n",
       "      <th>student_name</th>\n",
       "      <td>Roi Susi</td>\n",
       "      <td>&lt;class 'str'&gt;</td>\n",
       "      <td>2021-04-11 11:49:27</td>\n",
       "    </tr>\n",
       "    <tr>\n",
       "      <th>student_id</th>\n",
       "      <td>300685906</td>\n",
       "      <td>&lt;class 'int'&gt;</td>\n",
       "      <td>2021-04-11 11:49:27</td>\n",
       "    </tr>\n",
       "  </tbody>\n",
       "</table>\n",
       "</div>"
      ],
      "text/plain": [
       "                  value           type            date_time\n",
       "student_name   Roi Susi  <class 'str'>  2021-04-11 11:49:27\n",
       "student_id    300685906  <class 'int'>  2021-04-11 11:49:27"
      ]
     },
     "execution_count": 6,
     "metadata": {},
     "output_type": "execute_result"
    }
   ],
   "source": [
    "# 1.a. 1.b.\n",
    "# ------------>>>>>>>> RUN THIS CODE CELL <<<<<<<<------------\n",
    "# --------  (run only)\n",
    "# === CODE TYPE: GRADED TEST \n",
    "\n",
    "print (\"Part 1.a. 1.b. - Test 1 (name: test1-1_student_info, points: 0.5)\")\n",
    "print (\"\\t--->Testing the implementation of 'myName' and 'myId' ...\")\n",
    "\n",
    "# dataframe for output:\n",
    "dt1 = datetime.now()\n",
    "try:\n",
    "    student_name, student_id = myName(), myId()\n",
    "except Exception as e:\n",
    "    print ('You probably have a syntax or implementation error,  \\nerror Message:',str(e), '\\nTry fixing your code')\n",
    "    raise\n",
    "\n",
    "assert type(student_name) is str or type(student_id) is int, \"name is not a string or id is not an integer\"\n",
    "\n",
    "s_datetime =  [dt1.strftime('%Y-%m-%d %H:%M:%S'), datetime.now().strftime('%Y-%m-%d %H:%M:%S')]\n",
    "df_output = pd.DataFrame({'value': [student_name, student_id], 'type': [type(student_name), type(student_id)], 'date_time': s_datetime},index=['student_name','student_id'])\n",
    "\n",
    "print (\"\\nGood Job!\\nYou've passed the test for the implementation of 'myName' and 'myId'  :-)\")\n",
    "\n",
    "print ('\\nOutput dataframe:')\n",
    "print ('-----------------')\n",
    "df_output\n"
   ]
  },
  {
   "cell_type": "markdown",
   "metadata": {
    "deletable": false,
    "editable": false,
    "nbgrader": {
     "cell_type": "markdown",
     "checksum": "b88f98c1473998d1ce7f84c6fa96ba90",
     "grade": false,
     "grade_id": "cell-4b5abf73a24dacb5",
     "locked": true,
     "schema_version": 3,
     "solution": false,
     "task": false
    }
   },
   "source": [
    "[Go to the beginning of the assignment](#home)\n",
    "<a id=\"1c\"></a>\n",
    "## 1.c. Info: Your personal implementation tasks - <u>implement the following methods</u> ...\n",
    "Run the following code cell to and you will know what do YOU NEED to implement"
   ]
  },
  {
   "cell_type": "code",
   "execution_count": 7,
   "metadata": {
    "deletable": false,
    "editable": false,
    "nbgrader": {
     "cell_type": "code",
     "checksum": "28367eb237432146927ed1c027a9f880",
     "grade": false,
     "grade_id": "run-implementation-tasks",
     "locked": true,
     "schema_version": 3,
     "solution": false,
     "task": false
    }
   },
   "outputs": [
    {
     "name": "stdout",
     "output_type": "stream",
     "text": [
      "Assignment 1 (- 7 points for the test):\n",
      "-----------------------\n",
      "What do you need to implement?\n",
      "1.   methods: myName, myId - Your personal information (- 0.5 points for the test)\n",
      "2.   methods: load_dataset - load the dataset (- 0.5 points for the tests)\n",
      "3.   methods: scale_fit_transform, scale_transform_for_test \n",
      "\t- the scaling type YOU NEED to implement is: t-distribution standardization (- 1.5 points for the tests)\n",
      "4.a. methods: calc_distance \n",
      "\t- the distance method YOU NEED to implement is: euclidean (- 1.5 points for the tests)\n",
      "4.b. methods: predict - KNN predict main flow (- 2 points for the tests)\n",
      "5.   methods: evaluate_performance \n",
      "\t- the evaluation metric YOU NEED to implement is: error_rate (- 1 points for the tests)\n"
     ]
    }
   ],
   "source": [
    "# 1.c.\n",
    "# ------------>>>>>>>> RUN THIS CODE CELL <<<<<<<<------------\n",
    "# === CELL TYPE: IMPLEMENTATION TASKS\n",
    "\n",
    "# --------------------------- RUN THIS CODE CELL (IMPLEMENTATION INFO) -------------------------------------\n",
    "# Run the following to get information about your implementation\n",
    "# ---------------------------\n",
    "def get_assignment_params(student_id):\n",
    "    num_modulo = 2 ** 31-1\n",
    "    created_1st_state = int(hashlib.md5(str(student_id).encode('utf-8')).hexdigest(),16) % num_modulo\n",
    "    created_2nd_state = int(hashlib.md5(str(created_1st_state).encode('utf-8')).hexdigest(),16) % num_modulo\n",
    "    created_3rd_state = int(hashlib.md5(str(created_2nd_state).encode('utf-8')).hexdigest(),16) % num_modulo\n",
    "    scale_types, dist_methods, eval_metrics, binary_cols, score_cols = ['t-distribution standardization', 'minmax normalization'], ['manhattan', 'euclidean', 'chebyshev'], ['accuracy', 'error_rate', 'precision', 'recall'], np.array(['gender_num', 'lunch_type', 'has_preparations']), np.array(['math_score', 'reading_score', 'writing_score'])\n",
    "    \n",
    "    assignment_params = {}\n",
    "    assignment_params['num_train'] = 800\n",
    "    assignment_params['index_col'] = 'student_id'\n",
    "    assignment_params['o_features'] = ['social_grp', 'parent_edu']\n",
    "    \n",
    "    np.random.seed(created_1st_state)\n",
    "    np.random.seed(123)\n",
    "    assignment_params['indices_1st'] = list(np.random.choice(12000, 1000, replace=False))\n",
    "    np.random.seed(created_2nd_state)\n",
    "    np.random.seed(345)\n",
    "    assignment_params['indices_2nd'] = list(np.random.permutation(1000))\n",
    "    \n",
    "    random.seed(created_3rd_state)\n",
    "    random.seed(456)\n",
    "    y_col = random.choice(binary_cols)\n",
    "    assignment_params['y_col'] = y_col\n",
    "    assignment_params['binary_cols'] = list(binary_cols[binary_cols!=y_col])\n",
    "    \n",
    "    np.random.seed(created_1st_state)\n",
    "    np.random.seed(789)\n",
    "    indx_score = sorted(np.random.choice(3, 2, replace=False))\n",
    "    selected_score_cols = score_cols[indx_score]\n",
    "    assignment_params['score_col_1'] = selected_score_cols[0]\n",
    "    assignment_params['score_col_2'] = selected_score_cols[1]\n",
    "    random.seed(created_1st_state)\n",
    "    random.seed(789)\n",
    "    assignment_params['if_correlated_filter'] = random.choice(selected_score_cols)\n",
    "    \n",
    "    random.seed(created_2nd_state)  \n",
    "    assignment_params['scale_type'] = random.choice(scale_types)\n",
    "    \n",
    "    random.seed(created_3rd_state)  \n",
    "    assignment_params['dist_method'] = random.choice(['manhattan', 'euclidean'])\n",
    "    \n",
    "    random.seed(created_1st_state)  \n",
    "    assignment_params['eval_metric'] = random.choice(eval_metrics)\n",
    "    \n",
    "    cols_no_filter = assignment_params['o_features'] + assignment_params['binary_cols'] + list(selected_score_cols)\n",
    "    cols_w_filter = assignment_params['o_features'] + assignment_params['binary_cols'] + [assignment_params['if_correlated_filter']]\n",
    "    assignment_params['cols_no_filter'] = cols_no_filter\n",
    "    assignment_params['cols_w_filter'] = cols_w_filter\n",
    "    \n",
    "    return assignment_params\n",
    "# ---------------------------\n",
    "try:    \n",
    "    student_name, student_id = myName(), myId()\n",
    "except Exception as e:\n",
    "    print ('You probably did not implement student-info functions, \\nerror Message:',str(e))\n",
    "    raise\n",
    "assert type(student_name) is str or type(student_id) is int, \"name is not a string or id is not an integer\"         \n",
    "# ---------------------------\n",
    "assignment_params = get_assignment_params(student_id)\n",
    "# ---------------------------\n",
    "print ('Assignment 1 (- 7 points for the test):')\n",
    "print ('-----------------------')\n",
    "print ('What do you need to implement?')\n",
    "print ('1.   methods: myName, myId - Your personal information (- 0.5 points for the test)')\n",
    "print ('2.   methods: load_dataset - load the dataset (- 0.5 points for the tests)')\n",
    "print (\"3.   methods: scale_fit_transform, scale_transform_for_test \\n\\t- the scaling type YOU NEED to implement is: \" + assignment_params['scale_type'] + \" (- 1.5 points for the tests)\")\n",
    "print (\"4.a. methods: calc_distance \\n\\t- the distance method YOU NEED to implement is: \" + assignment_params['dist_method'] + \" (- 1.5 points for the tests)\")\n",
    "print (\"4.b. methods: predict - KNN predict main flow\" + \" (- 2 points for the tests)\")\n",
    "print (\"5.   methods: evaluate_performance \\n\\t- the evaluation metric YOU NEED to implement is: \" + assignment_params['eval_metric'] + \" (- 1 points for the tests)\")"
   ]
  },
  {
   "cell_type": "markdown",
   "metadata": {
    "deletable": false,
    "editable": false,
    "nbgrader": {
     "cell_type": "markdown",
     "checksum": "efd796820508269c0ec1e5918243f567",
     "grade": false,
     "grade_id": "cell-c59183ed38d92855",
     "locked": true,
     "schema_version": 3,
     "solution": false,
     "task": false
    }
   },
   "source": [
    "[Go to the beginning of the assignment](#home)\n",
    "<a id=\"load_dataset\"></a>\n",
    "### Part 2 - Loading dataset and preprocess data\n",
    "<img src=\"./images/load_dataframe.jpg\" alt=\"load dataframe\" width=\"100\" align='left'/>"
   ]
  },
  {
   "cell_type": "markdown",
   "metadata": {},
   "source": [
    "### Part 2. Instructions\n",
    "\n",
    "<u>Part 2.</u> - load dataset from file; \n",
    "<u>method name</u>: <b>load_dataset</b><br/>\n",
    "\n",
    "<pre>\n",
    "Complete the following function to return a dataframe containing the feature vectors (X) and \n",
    "    a series containing the categories (y).\n",
    "The feature vector dataframe, should not contain the column of the category. \n",
    "------------\n",
    "input parameters:\n",
    "- file_name - a path containing the csv file name, which you need to load the dataset from.\n",
    "                  Note: this is a relative path, you should not edit this value, and use only\n",
    "                        this parameter as the file name.\n",
    "- category_column - the column name which represent the category column.\n",
    "- index_column - the column which you should consider as the index.\n",
    "   Note: set the index while loading the dataset or right after, but make sure it is before splitting \n",
    "         the dataset to X (the feature vectors) and y (the categories), which should share the same index.\n",
    "------------\n",
    "The return statement should look like the following:\n",
    "return X, y\n",
    "</pre>"
   ]
  },
  {
   "cell_type": "code",
   "execution_count": 8,
   "metadata": {
    "deletable": false,
    "nbgrader": {
     "cell_type": "code",
     "checksum": "3db300279b70a008c3e56faa5cb0d6d5",
     "grade": false,
     "grade_id": "answer-load-dataset",
     "locked": false,
     "schema_version": 3,
     "solution": true,
     "task": false
    }
   },
   "outputs": [],
   "source": [
    "# 2.\n",
    "# ------------>>>>>>>> RUN THIS CODE CELL <<<<<<<<------------\n",
    "# --------  (run after implementation)\n",
    "# === CODE TYPE: ANSWER \n",
    "\n",
    "def load_dataset(file_name, category_column, index_column):\n",
    "    df_students = pd.read_csv(file_name)\n",
    "    X = df_students.drop([category_column,index_column],axis=1)\n",
    "    y = df_students[category_column]\n",
    "    return X, y\n",
    "    "
   ]
  },
  {
   "cell_type": "code",
   "execution_count": 9,
   "metadata": {},
   "outputs": [],
   "source": [
    "# 2.\n",
    "# ------------>>>>>>>> RUN THIS CODE CELL <<<<<<<<------------\n",
    "# --------  (run after implementation)\n",
    "# === CODE TYPE: SELF TESTING\n",
    "# Use the following code to test your implementation:\n",
    "file_name = 'data' + os.sep + 'Students-Performance_numeric.csv'\n",
    "student_name, student_id = myName(), myId()\n",
    "assignment_params = get_assignment_params(student_id)\n",
    "X, y = load_dataset(file_name, assignment_params['y_col'], assignment_params['index_col'])\n",
    "# --- add additional code to check your code if needed:\n",
    "# YOUR CODE HERE\n",
    "\n",
    "\n"
   ]
  },
  {
   "cell_type": "code",
   "execution_count": 10,
   "metadata": {},
   "outputs": [],
   "source": [
    "# 2.\n",
    "# ------------>>>>>>>> RUN THIS CODE CELL <<<<<<<<------------\n",
    "# --------  (run after implementation, if used)\n",
    "# === CODE TYPE: SELF TESTING\n",
    "# ---- Add your additional tests here if needed:\n",
    "# YOUR CODE HERE\n"
   ]
  },
  {
   "cell_type": "code",
   "execution_count": 11,
   "metadata": {
    "deletable": false,
    "editable": false,
    "nbgrader": {
     "cell_type": "code",
     "checksum": "81f0b402062a409a81a281527adb8b64",
     "grade": true,
     "grade_id": "test2-1_load_dataset",
     "locked": true,
     "points": 0.1,
     "schema_version": 3,
     "solution": false,
     "task": false
    }
   },
   "outputs": [
    {
     "name": "stdout",
     "output_type": "stream",
     "text": [
      "Part 1. - Test 1 (name: test2-1_load_dataset, points: 0.1) - Sanity\n",
      "\t--->Testing the implementation of 'load_dataset' ...\n",
      "Good Job!\n",
      "You've passed the 1st test for the 'load_dataset' function implementation :-)\n"
     ]
    }
   ],
   "source": [
    "# 2.\n",
    "# ------------>>>>>>>> RUN THIS CODE CELL <<<<<<<<------------\n",
    "# --------  (run only)\n",
    "# === CODE TYPE: GRADED TEST \n",
    "\n",
    "print (\"Part 1. - Test 1 (name: test2-1_load_dataset, points: 0.1) - Sanity\")\n",
    "print (\"\\t--->Testing the implementation of 'load_dataset' ...\")\n",
    "\n",
    "file_name = 'data' + os.sep + 'Students-Performance_numeric.csv'\n",
    "\n",
    "try:    \n",
    "    student_name, student_id = myName(), myId()\n",
    "    assert type(student_name) is str or type(student_id) is int, \"name is not a string or id is not an integer\"\n",
    "    assignment_params = get_assignment_params(student_id)\n",
    "    X, y = load_dataset(file_name, assignment_params['y_col'], assignment_params['index_col'])\n",
    "except Exception as e:\n",
    "    print ('You probably have a syntax or implementation error,  \\nerror Message:',str(e), '\\nTry fixing your code')\n",
    "    raise\n",
    "\n",
    "print (\"Good Job!\\nYou've passed the 1st test for the 'load_dataset' function implementation :-)\")"
   ]
  },
  {
   "cell_type": "code",
   "execution_count": 12,
   "metadata": {
    "deletable": false,
    "editable": false,
    "nbgrader": {
     "cell_type": "code",
     "checksum": "bbf385bf4198c45053d070b09ac5463a",
     "grade": true,
     "grade_id": "test2-2_load_dataset",
     "locked": true,
     "points": 0.1,
     "schema_version": 3,
     "solution": false,
     "task": false
    }
   },
   "outputs": [
    {
     "name": "stdout",
     "output_type": "stream",
     "text": [
      "Part 1. - Test 2 (name: test2-2_load_dataset, points: 0.1) - Sanity (2)\n",
      "\t--->Testing the implementation of 'load_dataset' ...\n",
      "Good Job!\n",
      "You've passed the 2nd test for the 'load_dataset' function implementation :-)\n"
     ]
    }
   ],
   "source": [
    "# 2.\n",
    "# ------------>>>>>>>> RUN THIS CODE CELL <<<<<<<<------------\n",
    "# --------  (run only)\n",
    "# === CODE TYPE: GRADED TEST \n",
    "\n",
    "print (\"Part 1. - Test 2 (name: test2-2_load_dataset, points: 0.1) - Sanity (2)\")\n",
    "print (\"\\t--->Testing the implementation of 'load_dataset' ...\")\n",
    "\n",
    "file_name = 'data' + os.sep + 'Students-Performance_numeric.csv'\n",
    "\n",
    "try:    \n",
    "    student_name, student_id = myName(), myId()\n",
    "    assert type(student_name) is str or type(student_id) is int, \"name is not a string or id is not an integer\"\n",
    "    assignment_params = get_assignment_params(student_id)\n",
    "    X, y = load_dataset(file_name, assignment_params['y_col'], assignment_params['index_col'])\n",
    "    # ---------------------------\n",
    "    X = X[assignment_params['cols_no_filter']]\n",
    "    X, y = X.iloc[assignment_params['indices_1st'],:], y.iloc[assignment_params['indices_1st']]\n",
    "    X, y = X.iloc[assignment_params['indices_2nd'],:], y.iloc[assignment_params['indices_2nd']]\n",
    "    X_train, y_train = X.iloc[:assignment_params['num_train'],:],  y.iloc[:assignment_params['num_train']]\n",
    "    X_test, y_test = X.iloc[assignment_params['num_train']:,:], y.iloc[assignment_params['num_train']:]\n",
    "    # ---------------------------\n",
    "except Exception as e:\n",
    "    print ('You probably have a syntax or implementation error,  \\nerror Message:',str(e), '\\nTry fixing your code')\n",
    "    raise\n",
    "\n",
    "print (\"Good Job!\\nYou've passed the 2nd test for the 'load_dataset' function implementation :-)\")"
   ]
  },
  {
   "cell_type": "code",
   "execution_count": 13,
   "metadata": {
    "deletable": false,
    "editable": false,
    "nbgrader": {
     "cell_type": "code",
     "checksum": "886ebf2da1c5aa0d49a8f0f8e9413c1f",
     "grade": true,
     "grade_id": "test2-3_load_dataset",
     "locked": true,
     "points": 0.3,
     "schema_version": 3,
     "solution": false,
     "task": false
    }
   },
   "outputs": [
    {
     "name": "stdout",
     "output_type": "stream",
     "text": [
      "Part 1. - Test 3 (name: test2-3_load_dataset, points: 0.3)\n",
      "\t--->Testing the implementation of 'load_dataset' ...\n",
      "Good Job!\n",
      "You've passed the 3rd test for the 'load_dataset' function implementation :-)\n"
     ]
    }
   ],
   "source": [
    "# 2.\n",
    "# ------------>>>>>>>> RUN THIS CODE CELL <<<<<<<<------------\n",
    "# --------  (run only)\n",
    "# === CODE TYPE: GRADED TEST \n",
    "\n",
    "print (\"Part 1. - Test 3 (name: test2-3_load_dataset, points: 0.3)\")\n",
    "print (\"\\t--->Testing the implementation of 'load_dataset' ...\")\n",
    "\n",
    "file_name = 'data' + os.sep + 'Students-Performance_numeric.csv'\n",
    "\n",
    "try:    \n",
    "    student_name, student_id = myName(), myId()\n",
    "    assert type(student_name) is str or type(student_id) is int, \"name is not a string or id is not an integer\"\n",
    "    assignment_params = get_assignment_params(student_id)\n",
    "    X, y = load_dataset(file_name, assignment_params['y_col'], assignment_params['index_col'])\n",
    "except Exception as e:\n",
    "    print ('You probably have a syntax or implementation error,  \\nerror Message:',str(e), '\\nTry fixing your code')\n",
    "    raise\n",
    "\n",
    "assert type(X) is pd.DataFrame or type(y) is pd.Series, \"Wrong type for feature vectors dataframe or for category series\"\n",
    "np.testing.assert_array_equal(X.index, y.index, 'X and y should have the same index')\n",
    "assert X.shape == (12000,7) and X.shape[0] == y.shape[0], 'Wrong shape forfeature vector dataframe or category series'\n",
    "    \n",
    "print (\"Good Job!\\nYou've passed the 3rd test for the 'load_dataset' function implementation :-)\")"
   ]
  },
  {
   "cell_type": "markdown",
   "metadata": {
    "deletable": false,
    "editable": false,
    "nbgrader": {
     "cell_type": "markdown",
     "checksum": "c74808921bddfba08f36d3733b4818ac",
     "grade": false,
     "grade_id": "cell-bb26b311afc8d111",
     "locked": true,
     "schema_version": 3,
     "solution": false,
     "task": false
    }
   },
   "source": [
    "[Go to the beginning of the assignment](#home)\n",
    "<a id=\"scaling\"></a>\n",
    "## Part 3 -  scaling \n",
    "<img src=\"./images/architect-scale.jpg\" alt=\"Scale\" style=\"width: 500px;\" align='left'/>"
   ]
  },
  {
   "cell_type": "markdown",
   "metadata": {
    "deletable": false,
    "editable": false,
    "nbgrader": {
     "cell_type": "markdown",
     "checksum": "ae8ccb7d63849fc2b92a94c93fd11b33",
     "grade": false,
     "grade_id": "cell-7370bb5a0c629bfc",
     "locked": true,
     "schema_version": 3,
     "solution": false,
     "task": false
    }
   },
   "source": [
    "<b>Scaling (scale_fit_transform, scale_transform_for_test) - Permitted method usage</b>:<br />\n",
    "<div class=\"alert alert-success\">\n",
    "<ul><li>&#x2714; Any function, which calculates the minimum and the maximum (such as numpy's function)</li>\n",
    "<li>&#x2714; Any function, which calculates the average (such as series's function)</li>\n",
    "<li>&#x2714; Any function, which calculates a standard deviation/ std/ stddev (such as dataframe's function)\n",
    "    <ul><li><u>Make sure you use the sample's std</u></li></ul>\n",
    "<li>&#x2714; Any function, which calculates a variance / var (such as statistic's function)</li>\n",
    "    <ul><li><u>Make sure you use the sample's variance</u></li></ul>\n",
    "<li>&#x2714; Any other basic mathematical function (+,*, ...) </li></ul>\n",
    "</div>\n",
    "<hr>\n",
    "<b>Scaling (scale_fit_transform, scale_transform_for_test) - Illegal method usage</b>:<br/>\n",
    "<div class=\"alert alert-danger\">\n",
    "    <ul><li>&#x2718; Any function, which performs the scaling</li></ul>\n",
    "</div>\n",
    "<br>\n",
    "<pre>\n",
    "<b><u>Important Notes - for those who need to implement (t-distribution) standardization</u></b>\n",
    "  * <u>By default, numpy's methods</u> for variance (var) and standard-deviation (std) \n",
    "    <u>are on the population</u>.\n",
    "  * <u>By default, pandas' methods</u> for variance (var) and standard-deviation (std)\n",
    "    <u>are on the sample</u>.\n",
    "</pre>         "
   ]
  },
  {
   "cell_type": "markdown",
   "metadata": {
    "deletable": false,
    "editable": false,
    "nbgrader": {
     "cell_type": "markdown",
     "checksum": "0a89a188109f13ee2e28c5c35ec7603d",
     "grade": false,
     "grade_id": "cell-cf4cc5d57920f5fb",
     "locked": true,
     "schema_version": 3,
     "solution": false,
     "task": false
    }
   },
   "source": [
    "### Part 3.a. Instructions\n",
    "<u>Part 3.a. - Scaling (scale dataframe columns)</u>;\n",
    "<u>method name</u>: <b>scale_fit_transform</b><br/>\n",
    "\n",
    "<pre>\n",
    "Complete the following function to return a <b>copy</b> of the train feature vector dataframe, \n",
    "       with scaled features and a dataframe containing the scaled trained information.\n",
    "                   \n",
    "------------\n",
    "input parameter:\n",
    "- X_train - the input dataframe\n",
    "------------\n",
    "return values:\n",
    "- trained_scaling_info - a dataframe containing the trained info for each column (see the example ahead)\n",
    "- X_train_scaled - a <b>copy</b> of the input X_train dataframe, with scaled columns (the scaling \n",
    "                   is dependent on the above 'scale_type', which was assigned for you above)\n",
    "------------\n",
    "returned statement should look as following:\n",
    "return trained_scaling_info,  X_train_scaled\n",
    "---------------------\n",
    "</pre>\n",
    "For example, let's assume we've got the following x_train:\n",
    "\n",
    "| | sepal_length | sepal_width | petal_length | \n",
    "| :- | :- | :- | :- | \n",
    "| <b>0</b> |  5.1 | 3.5 | 1.4 |  \n",
    "| <b>1</b> |  4.9 | 3 | 1.4 |   \n",
    "| <b>2</b> |  4.7 | 3.2 | 1.3 |  \n",
    "| <b>3</b> |  4.6 | 3.1 | 1.5 | \n",
    "| <b>4</b> |  5 | 3.6 | 1.4 | \n",
    "\n",
    "------\n",
    "\n",
    "<u>Case 1</u> - the <b>'scale_type'</b> (which is assigned for you ahead equals) <b>'minmax'</b> - <br />\n",
    "The trained_scaling_info output dataframe should look like this:\n",
    "\n",
    "| | min | max |\n",
    "| :- | :- | :- |\n",
    "| sepal_length | 4.6 | 5.1 |\n",
    "| sepal_width | 3.0 | 3.6 |\n",
    "| petal_length | 1.3 | 1.5 |\n",
    "\n",
    "And the corresponding X_train_scaled output dataframe should look like this:\n",
    "\n",
    "| | sepal_length | sepal_width | petal_length | \n",
    "| :- | :- | :- | :- |\n",
    "| <b>0</b> | 1.0 | 0.833333 | 0.5 |\n",
    "| <b>1</b> | 0.6 | 0.000000 | 0.5 |\n",
    "| <b>2</b> | 0.2 | 0.333333 | 0.0 |\n",
    "| <b>3</b> | 0.0 | 0.166667 | 1.0 |\n",
    "| <b>4</b> | 0.8 | 1.000000 | 0.5 |\n",
    "\n",
    "------\n",
    "\n",
    "<u>Case 2</u> - the <b>scale_type</b> </b> (which is assigned for you ahead equals) <b>'standard'</b> - <br />\n",
    "\n",
    "| | mean | std |\n",
    "| :- | :- | :- |\n",
    "| sepal_length | 4.86 | 0.207364 |\n",
    "| sepal_width | 3.28 | 0.258844 |\n",
    "| petal_length | 1.40 | 0.070711 |\n",
    "\t\t\n",
    "And the corresponding X_train_scaled output dataframe should look like this:\n",
    "\n",
    "| | sepal_length | sepal_width | petal_length | \n",
    "| :- | :- | :- | :- |\n",
    "| <b>0</b> | 1.157383 | 0.849934 | 0.000000 |\n",
    "| <b>1</b> | 0.192897 |-1.081734 | 0.000000 |\n",
    "| <b>2</b> | -0.771589 | -0.309067 | -1.414214 |\n",
    "| <b>3</b> | -1.253831 | -0.695401 | 1.414214 |\n",
    "| <b>4</b> | 0.675140 | 1.236268 | 0.000000 |"
   ]
  },
  {
   "cell_type": "markdown",
   "metadata": {
    "deletable": false,
    "editable": false,
    "nbgrader": {
     "cell_type": "markdown",
     "checksum": "d2b64ab247e32efb5c4800653bed0bfb",
     "grade": false,
     "grade_id": "cell-a7fd44658db27ab4",
     "locked": true,
     "schema_version": 3,
     "solution": false,
     "task": false
    }
   },
   "source": [
    "### 3. Scaling - you need to <u>implement the following method</u> ..."
   ]
  },
  {
   "cell_type": "code",
   "execution_count": 14,
   "metadata": {
    "deletable": false,
    "editable": false,
    "nbgrader": {
     "cell_type": "code",
     "checksum": "6f22d371cdbf142289e1a1918a40ae1a",
     "grade": false,
     "grade_id": "cell-233fcc7263c330ef",
     "locked": true,
     "schema_version": 3,
     "solution": false,
     "task": false
    }
   },
   "outputs": [
    {
     "name": "stdout",
     "output_type": "stream",
     "text": [
      "The scaling type you need to implement is: t-distribution standardization\n"
     ]
    }
   ],
   "source": [
    "## 3.\n",
    "# ------------>>>>>>>> RUN THIS CODE CELL <<<<<<<<------------\n",
    "# === CELL TYPE: IMPLEMENTATION TASKS\n",
    "\n",
    "try:    \n",
    "    student_name, student_id = myName(), myId()\n",
    "    assert type(student_name) is str or type(student_id) is int, \"name is not a string or id is not an integer\"    \n",
    "    assignment_params = get_assignment_params(student_id)\n",
    "except Exception as e:\n",
    "    print ('You probably did not implement student-info functions, \\nerror Message:',str(e))\n",
    "    raise\n",
    "# ----------------------------\n",
    "                    \n",
    "print (\"The scaling type you need to implement is: \" + assignment_params['scale_type'])"
   ]
  },
  {
   "cell_type": "code",
   "execution_count": 15,
   "metadata": {
    "deletable": false,
    "nbgrader": {
     "cell_type": "code",
     "checksum": "bfbcf38f8048ae3201be037965c7cbf0",
     "grade": false,
     "grade_id": "cell-6bb70642ef15c3b8",
     "locked": false,
     "schema_version": 3,
     "solution": true,
     "task": false
    }
   },
   "outputs": [],
   "source": [
    "# 3.a.\n",
    "# ------------>>>>>>>> RUN THIS CODE CELL <<<<<<<<------------\n",
    "# --------  (run after implementation)\n",
    "# === CODE TYPE: ASSISTANCE TO ANSWER \n",
    "# ---- Add assistance code here IF NEEDED:\n",
    "# YOUR CODE HERE\n"
   ]
  },
  {
   "cell_type": "code",
   "execution_count": 16,
   "metadata": {
    "deletable": false,
    "nbgrader": {
     "cell_type": "code",
     "checksum": "284537080fd974895be79f8539355849",
     "grade": false,
     "grade_id": "answer-scale_fit_transform",
     "locked": false,
     "schema_version": 3,
     "solution": true,
     "task": false
    }
   },
   "outputs": [],
   "source": [
    "# 3.a.\n",
    "# ------------>>>>>>>> RUN THIS CODE CELL <<<<<<<<------------\n",
    "# --------  (run after implementation)\n",
    "# === CODE TYPE: ANSWER \n",
    "\n",
    "def scale_fit_transform(X_train):\n",
    "    X_train_scaled = X_train.copy()\n",
    "    \n",
    "    cols = []\n",
    "    means = []\n",
    "    stds = []\n",
    "    \n",
    "    for col in X_train.columns:\n",
    "        cols.append(col)\n",
    "\n",
    "    #Calculate mean,std useing Numpy\n",
    "    for i in range(len(cols)):\n",
    "        means.append(np.mean(X_train[cols[i]]))\n",
    "        stds.append(np.std(X_train[cols[i]]))\n",
    "    \n",
    "    #Create DataFrame with t-distribution standardization\n",
    "    trained_scaling_info = pd.DataFrame(list(zip(means,stds)),\n",
    "    index=cols,\n",
    "    columns=['mean', 'std'])\n",
    "\n",
    "    #Scale the DataFrame X_train using t-distribution standardization scaling\n",
    "    for i in range(len(X_train_scaled.columns)):\n",
    "        X_train_scaled[cols[i]] = X_train_scaled[cols[i]].apply(lambda x: ((x-means[i])/stds[i]))\n",
    "        \n",
    "    return trained_scaling_info,  X_train_scaled"
   ]
  },
  {
   "cell_type": "code",
   "execution_count": 17,
   "metadata": {},
   "outputs": [],
   "source": [
    "# 3.a.\n",
    "# ------------>>>>>>>> RUN THIS CODE CELL <<<<<<<<------------\n",
    "# --------  (run after implementation)\n",
    "# === CODE TYPE: SELF TESTING\n",
    "# Use the following code to test your implementation:\n",
    "file_name = 'data' + os.sep + 'Students-Performance_numeric.csv'\n",
    "student_name, student_id = myName(), myId()\n",
    "assignment_params = get_assignment_params(student_id)    \n",
    "X, y = load_dataset(file_name, assignment_params['y_col'], assignment_params['index_col'])\n",
    "X = X[assignment_params['cols_w_filter']]\n",
    "X, y = X.iloc[assignment_params['indices_1st'],:], y.iloc[assignment_params['indices_1st']]\n",
    "X, y = X.iloc[assignment_params['indices_2nd'],:], y.iloc[assignment_params['indices_2nd']]\n",
    "X_train, y_train = X.iloc[:assignment_params['num_train'],:],  y.iloc[:assignment_params['num_train']]\n",
    "X_test, y_test = X.iloc[assignment_params['num_train']:,:], y.iloc[assignment_params['num_train']:]\n",
    "trained_scaling_info,  X_train_scaled = scale_fit_transform(X_train)\n",
    "# --- add additional code to check your code if needed:\n",
    "# YOUR CODE HERE\n",
    "\n"
   ]
  },
  {
   "cell_type": "code",
   "execution_count": 18,
   "metadata": {},
   "outputs": [],
   "source": [
    "# 3.a.\n",
    "# ------------>>>>>>>> RUN THIS CODE CELL <<<<<<<<------------\n",
    "# --------  (run after implementation, if used)\n",
    "# === CODE TYPE: SELF TESTING\n",
    "# ---- Add your additional tests here if needed:\n",
    "# YOUR CODE HERE\n"
   ]
  },
  {
   "cell_type": "code",
   "execution_count": 19,
   "metadata": {
    "deletable": false,
    "editable": false,
    "nbgrader": {
     "cell_type": "code",
     "checksum": "fcc79ec48e51c39740a8e973a0bb348f",
     "grade": true,
     "grade_id": "test3a-1_scale_fit_transform",
     "locked": true,
     "points": 0.1,
     "schema_version": 3,
     "solution": false,
     "task": false
    }
   },
   "outputs": [
    {
     "name": "stdout",
     "output_type": "stream",
     "text": [
      "Parts 3.a. - Test 1 (name: test3a-1_scale_fit_transform, points: 0.1) - Sanity\n",
      "\t--->Testing the implementation of 'scale_fit_transform' ...\n",
      "\t\tTesing a 't-distribution standardization' scale type ...\n",
      "\n",
      "\n",
      "Good Job!\n",
      "You've passed the 1st test for the 'scale_fit_transform' function implementation :-)\n"
     ]
    }
   ],
   "source": [
    "# 3.a.\n",
    "# ------------>>>>>>>> RUN THIS CODE CELL <<<<<<<<------------\n",
    "# --------  (run only)\n",
    "# === CODE TYPE: GRADED TEST \n",
    "\n",
    "print (\"Parts 3.a. - Test 1 (name: test3a-1_scale_fit_transform, points: 0.1) - Sanity\")\n",
    "print (\"\\t--->Testing the implementation of 'scale_fit_transform' ...\")\n",
    "\n",
    "file_name = 'data' + os.sep + 'Students-Performance_numeric.csv'\n",
    "\n",
    "try:    \n",
    "    student_name, student_id = myName(), myId()\n",
    "    assert type(student_name) is str or type(student_id) is int, \"name is not a string or id is not an integer\"\n",
    "    assignment_params = get_assignment_params(student_id)    \n",
    "    print (\"\\t\\tTesing a '\" + assignment_params['scale_type'] + \"' scale type ...\\n\")\n",
    "    X, y = load_dataset(file_name, assignment_params['y_col'], assignment_params['index_col'])\n",
    "    X = X[assignment_params['cols_w_filter']]\n",
    "    X, y = X.iloc[assignment_params['indices_1st'],:], y.iloc[assignment_params['indices_1st']]\n",
    "    X, y = X.iloc[assignment_params['indices_2nd'],:], y.iloc[assignment_params['indices_2nd']]\n",
    "    X_train, y_train = X.iloc[:assignment_params['num_train'],:],  y.iloc[:assignment_params['num_train']]\n",
    "    X_test, y_test = X.iloc[assignment_params['num_train']:,:], y.iloc[assignment_params['num_train']:]\n",
    "    trained_scaling_info,  X_train_scaled = scale_fit_transform(X_train)\n",
    "except Exception as e:\n",
    "    print ('You probably have a syntax or implementation error,  \\nerror Message:',str(e), '\\nTry fixing your code')\n",
    "    raise\n",
    "\n",
    "\n",
    "print (\"\\nGood Job!\\nYou've passed the 1st test for the 'scale_fit_transform' function implementation :-)\")"
   ]
  },
  {
   "cell_type": "code",
   "execution_count": 20,
   "metadata": {
    "deletable": false,
    "editable": false,
    "nbgrader": {
     "cell_type": "code",
     "checksum": "e0fe656ca8b5eb75cfe3107970fb104a",
     "grade": true,
     "grade_id": "test3a-2_scale_fit_transform",
     "locked": true,
     "points": 0.3,
     "schema_version": 3,
     "solution": false,
     "task": false
    }
   },
   "outputs": [
    {
     "name": "stdout",
     "output_type": "stream",
     "text": [
      "Parts 3.a. - Test 2 (name: test3a-2_scale_fit_transform, points: 0.3)\n",
      "\t--->Testing the implementation of 'scale_fit_transform' ...\n",
      "\t\tTesing a 't-distribution standardization' scale type ...\n",
      "\n",
      "\n",
      "Good Job!\n",
      "You've passed the 2nd test for the 'scale_fit_transform' function implementation :-)\n"
     ]
    }
   ],
   "source": [
    "# 3.a.\n",
    "# ------------>>>>>>>> RUN THIS CODE CELL <<<<<<<<------------\n",
    "# --------  (run only)\n",
    "# === CODE TYPE: GRADED TEST \n",
    "\n",
    "print (\"Parts 3.a. - Test 2 (name: test3a-2_scale_fit_transform, points: 0.3)\")\n",
    "print (\"\\t--->Testing the implementation of 'scale_fit_transform' ...\")\n",
    "\n",
    "file_name = 'data' + os.sep + 'Students-Performance_numeric.csv'\n",
    "\n",
    "try:    \n",
    "    student_name, student_id = myName(), myId()\n",
    "    assert type(student_name) is str or type(student_id) is int, \"name is not a string or id is not an integer\"\n",
    "    assignment_params = get_assignment_params(student_id)    \n",
    "    print (\"\\t\\tTesing a '\" + assignment_params['scale_type'] + \"' scale type ...\\n\")\n",
    "    X, y = load_dataset(file_name, assignment_params['y_col'], assignment_params['index_col'])\n",
    "    X = X[assignment_params['cols_w_filter']]\n",
    "    X, y = X.iloc[assignment_params['indices_1st'],:], y.iloc[assignment_params['indices_1st']]\n",
    "    X, y = X.iloc[assignment_params['indices_2nd'],:], y.iloc[assignment_params['indices_2nd']]\n",
    "    X_train, y_train = X.iloc[:assignment_params['num_train'],:],  y.iloc[:assignment_params['num_train']]\n",
    "    X_test, y_test = X.iloc[assignment_params['num_train']:,:], y.iloc[assignment_params['num_train']:]\n",
    "    trained_scaling_info,  X_train_scaled = scale_fit_transform(X_train)\n",
    "except Exception as e:\n",
    "    print ('You probably have a syntax or implementation error,  \\nerror Message:',str(e), '\\nTry fixing your code')\n",
    "    raise\n",
    "# --------------------------- \n",
    "assert X_train_scaled.shape == X_train.shape, 'Wrong shape for scaled train dataframe'\n",
    "np.testing.assert_array_equal(X_train_scaled.index, X_train.index, 'scaled train and train dataframes should have the same index')\n",
    "np.testing.assert_array_equal(X_train_scaled.columns, assignment_params['cols_w_filter'], 'scaled trained and train dataframes should have the same column names')\n",
    " \n",
    "print (\"\\nGood Job!\\nYou've passed the 2nd test for the 'scale_fit_transform' function implementation :-)\")"
   ]
  },
  {
   "cell_type": "code",
   "execution_count": 21,
   "metadata": {
    "deletable": false,
    "editable": false,
    "nbgrader": {
     "cell_type": "code",
     "checksum": "75199ab8320cb7f152e1572066df2c0c",
     "grade": true,
     "grade_id": "test3a-3_scale_fit_transform",
     "locked": true,
     "points": 0.3,
     "schema_version": 3,
     "solution": false,
     "task": false
    }
   },
   "outputs": [
    {
     "name": "stdout",
     "output_type": "stream",
     "text": [
      "Parts 3.a. - Test 3 (name: test3a-3_scale_fit_transform, points: 0.3)\n",
      "\t--->Testing the implementation of 'scale_fit_transform' ...\n",
      "\t\tTesing a 't-distribution standardization' scale type ...\n",
      "\n",
      "\n",
      "Good Job!\n",
      "You've passed the 3rd test for the 'scale_fit_transform' functions implementation :-)\n"
     ]
    }
   ],
   "source": [
    "# 3.a.\n",
    "# ------------>>>>>>>> RUN THIS CODE CELL <<<<<<<<------------\n",
    "# --------  (run only)\n",
    "# === CODE TYPE: GRADED TEST \n",
    "\n",
    "print (\"Parts 3.a. - Test 3 (name: test3a-3_scale_fit_transform, points: 0.3)\")\n",
    "print (\"\\t--->Testing the implementation of 'scale_fit_transform' ...\")\n",
    "\n",
    "file_name = 'data' + os.sep + 'Students-Performance_numeric.csv'\n",
    "\n",
    "try:    \n",
    "    student_name, student_id = myName(), myId()\n",
    "    assert type(student_name) is str or type(student_id) is int, \"name is not a string or id is not an integer\"\n",
    "    assignment_params = get_assignment_params(student_id)    \n",
    "    print (\"\\t\\tTesing a '\" + assignment_params['scale_type'] + \"' scale type ...\\n\")\n",
    "    X, y = load_dataset(file_name, assignment_params['y_col'], assignment_params['index_col'])\n",
    "    X = X[assignment_params['cols_w_filter']]\n",
    "    X, y = X.iloc[assignment_params['indices_1st'],:], y.iloc[assignment_params['indices_1st']]\n",
    "    X, y = X.iloc[assignment_params['indices_2nd'],:], y.iloc[assignment_params['indices_2nd']]\n",
    "    X_train, y_train = X.iloc[:assignment_params['num_train'],:],  y.iloc[:assignment_params['num_train']]\n",
    "    X_test, y_test = X.iloc[assignment_params['num_train']:,:], y.iloc[assignment_params['num_train']:]\n",
    "    trained_scaling_info,  X_train_scaled = scale_fit_transform(X_train)\n",
    "except Exception as e:\n",
    "    print ('You probably have a syntax or implementation error,  \\nerror Message:',str(e), '\\nTry fixing your code')\n",
    "    raise\n",
    "# --------------------------- \n",
    "if 't-distribution standardization' == assignment_params['scale_type']:\n",
    "    arr_train_aggr = np.round(X_train_scaled.mean().values+0.00001,4)\n",
    "    np.testing.assert_array_equal([0.,0.,0.,0.,0.], arr_train_aggr, 'Wrong average standardization scaled values')\n",
    "else:    \n",
    "    arr_train_aggr = np.round(X_train_scaled.min().values+0.00001,4)\n",
    "    np.testing.assert_array_equal([0.,0.,0.,0.,0.], arr_train_aggr, 'Wrong average minmax scaled values')\n",
    "\n",
    "print (\"\\nGood Job!\\nYou've passed the 3rd test for the 'scale_fit_transform' functions implementation :-)\")"
   ]
  },
  {
   "cell_type": "markdown",
   "metadata": {
    "deletable": false,
    "editable": false,
    "nbgrader": {
     "cell_type": "markdown",
     "checksum": "410b59a94431887dab7419eaa9de5927",
     "grade": false,
     "grade_id": "cell-106f15152fa8dab0",
     "locked": true,
     "schema_version": 3,
     "solution": false,
     "task": false
    }
   },
   "source": [
    "### Part 3.b. Instructions\n",
    "<u>Part 3.b. - Scaling (scale dataframe columns)</u>;\n",
    "<u>method name</u>: <b>scale_transform_for_test</b><br/>\n",
    "\n",
    "<pre>\n",
    "Complete the following function to return a <b>copy</b> of the test feature vector dataframe, \n",
    "       with scaled features.\n",
    "    * The scaling will be done using the trained 'trained_scaling_info' (produced in the above 'scale_fit_transform').\n",
    "input parameters:\n",
    "- trained_scaling_info - a dataframe containing the trained info for each column (produced in the above 'scale_fit_transform')\n",
    "- X_test - the input dataframe\n",
    "------------\n",
    "return values:\n",
    "- X_test_scaled - a <b>copy</b> of the input test dataframe, with scaled columns (the scaling \n",
    "                   is dependent on the above 'scale_type', which was assigned for you above)\n",
    "                   Note: the scaling should be done by the min/max or mean/std of each column from the training,\n",
    "                         as given in the input 'trained_scaling_info' dataframe parameter.\n",
    "------------\n",
    "returned statement should look as following:\n",
    "return X_test_scaled\n",
    "---------------------\n",
    "</pre>"
   ]
  },
  {
   "cell_type": "code",
   "execution_count": 22,
   "metadata": {
    "deletable": false,
    "nbgrader": {
     "cell_type": "code",
     "checksum": "4cde66a33206d4f176515ab7dbc89f7a",
     "grade": false,
     "grade_id": "cell-0a5b0b729d40744f",
     "locked": false,
     "schema_version": 3,
     "solution": true,
     "task": false
    }
   },
   "outputs": [],
   "source": [
    "# 3.b.\n",
    "# ------------>>>>>>>> RUN THIS CODE CELL <<<<<<<<------------\n",
    "# --------  (run after implementation)\n",
    "# === CODE TYPE: ASSISTANCE TO ANSWER \n",
    "# ---- Add assistance code here IF NEEDED:\n",
    "# YOUR CODE HERE\n"
   ]
  },
  {
   "cell_type": "code",
   "execution_count": 23,
   "metadata": {
    "deletable": false,
    "nbgrader": {
     "cell_type": "code",
     "checksum": "ed0311c40df10b5ca3a4a7ef04b3b63a",
     "grade": false,
     "grade_id": "answer-scale_transform_for_test",
     "locked": false,
     "schema_version": 3,
     "solution": true,
     "task": false
    }
   },
   "outputs": [],
   "source": [
    "# 3.b.\n",
    "# ------------>>>>>>>> RUN THIS CODE CELL <<<<<<<<------------\n",
    "# --------  (run after implementation)\n",
    "# === CODE TYPE: ANSWER \n",
    "\n",
    "def scale_transform_for_test(trained_scaling_info,  X_test):\n",
    "    # YOUR CODE HERE\n",
    "    X_test_scaled = X_test.copy()\n",
    "    for i in X_test_scaled.columns:\n",
    "        X_test_scaled[i] = (X_test_scaled[i] - trained_scaling_info.loc[i,'mean'])/trained_scaling_info.loc[i,'std']\n",
    "    return X_test_scaled"
   ]
  },
  {
   "cell_type": "code",
   "execution_count": 24,
   "metadata": {},
   "outputs": [],
   "source": [
    "# 3.b.\n",
    "# ------------>>>>>>>> RUN THIS CODE CELL <<<<<<<<------------\n",
    "# --------  (run after implementation)\n",
    "# === CODE TYPE: SELF TESTING\n",
    "# Use the following code to test your implementation:\n",
    "file_name = 'data' + os.sep + 'Students-Performance_numeric.csv'\n",
    "student_name, student_id = myName(), myId()\n",
    "assignment_params = get_assignment_params(student_id)    \n",
    "X, y = load_dataset(file_name, assignment_params['y_col'], assignment_params['index_col'])\n",
    "X = X[assignment_params['cols_w_filter']]\n",
    "X, y = X.iloc[assignment_params['indices_1st'],:], y.iloc[assignment_params['indices_1st']]\n",
    "X, y = X.iloc[assignment_params['indices_2nd'],:], y.iloc[assignment_params['indices_2nd']]\n",
    "X_train, y_train = X.iloc[:assignment_params['num_train'],:],  y.iloc[:assignment_params['num_train']]\n",
    "X_test, y_test = X.iloc[assignment_params['num_train']:,:], y.iloc[assignment_params['num_train']:]\n",
    "trained_scaling_info,  X_train_scaled = scale_fit_transform(X_train)\n",
    "X_test_scaled = scale_transform_for_test(trained_scaling_info,  X_test)\n",
    "# --- add additional code to check your code if needed:\n",
    "# YOUR CODE HERE\n"
   ]
  },
  {
   "cell_type": "code",
   "execution_count": 25,
   "metadata": {},
   "outputs": [],
   "source": [
    "# 3.b.\n",
    "# ------------>>>>>>>> RUN THIS CODE CELL <<<<<<<<------------\n",
    "# --------  (run after implementation, if used)\n",
    "# === CODE TYPE: SELF TESTING\n",
    "# ---- Add your additional tests here if needed:\n",
    "# YOUR CODE HERE\n"
   ]
  },
  {
   "cell_type": "code",
   "execution_count": 26,
   "metadata": {
    "deletable": false,
    "editable": false,
    "nbgrader": {
     "cell_type": "code",
     "checksum": "9a8f3798987c0f00e81c461e81d8e63e",
     "grade": true,
     "grade_id": "test3b-1_scale_transform_for_test",
     "locked": true,
     "points": 0.1,
     "schema_version": 3,
     "solution": false,
     "task": false
    }
   },
   "outputs": [
    {
     "name": "stdout",
     "output_type": "stream",
     "text": [
      "Parts 3.b. - Test 1 (name: test3b-1_scale_transform_for_test, points: 0.1) - Sanity\n",
      "\t--->Testing the implementation of 'scale_transform_for_test' ...\n",
      "\t\tTesing a 't-distribution standardization' scale type ...\n",
      "\n",
      "\n",
      "Good Job!\n",
      "You've passed the 1st test for the 'scale_transform_for_test' function implementation :-)\n"
     ]
    }
   ],
   "source": [
    "# 3.b.\n",
    "# ------------>>>>>>>> RUN THIS CODE CELL <<<<<<<<------------\n",
    "# --------  (run only)\n",
    "# === CODE TYPE: GRADED TEST \n",
    "\n",
    "print (\"Parts 3.b. - Test 1 (name: test3b-1_scale_transform_for_test, points: 0.1) - Sanity\")\n",
    "print (\"\\t--->Testing the implementation of 'scale_transform_for_test' ...\")\n",
    "\n",
    "file_name = 'data' + os.sep + 'Students-Performance_numeric.csv'\n",
    "\n",
    "try:    \n",
    "    student_name, student_id = myName(), myId()\n",
    "    assert type(student_name) is str or type(student_id) is int, \"name is not a string or id is not an integer\"\n",
    "    assignment_params = get_assignment_params(student_id)    \n",
    "    print (\"\\t\\tTesing a '\" + assignment_params['scale_type'] + \"' scale type ...\\n\")\n",
    "    X, y = load_dataset(file_name, assignment_params['y_col'], assignment_params['index_col'])\n",
    "    X = X[assignment_params['cols_w_filter']]\n",
    "    X, y = X.iloc[assignment_params['indices_1st'],:], y.iloc[assignment_params['indices_1st']]\n",
    "    X, y = X.iloc[assignment_params['indices_2nd'],:], y.iloc[assignment_params['indices_2nd']]\n",
    "    X_train, y_train = X.iloc[:assignment_params['num_train'],:],  y.iloc[:assignment_params['num_train']]\n",
    "    X_test, y_test = X.iloc[assignment_params['num_train']:,:], y.iloc[assignment_params['num_train']:]\n",
    "    trained_scaling_info,  X_train_scaled = scale_fit_transform(X_train)\n",
    "    X_test_scaled = scale_transform_for_test(trained_scaling_info,  X_test)\n",
    "except Exception as e:\n",
    "    print ('You probably have a syntax or implementation error,  \\nerror Message:',str(e), '\\nTry fixing your code')\n",
    "    raise\n",
    "\n",
    "print (\"\\nGood Job!\\nYou've passed the 1st test for the 'scale_transform_for_test' function implementation :-)\")"
   ]
  },
  {
   "cell_type": "code",
   "execution_count": 27,
   "metadata": {
    "deletable": false,
    "editable": false,
    "nbgrader": {
     "cell_type": "code",
     "checksum": "b329011f4098ac94f4f217a4725f7147",
     "grade": true,
     "grade_id": "test3b-2_scale_transform_for_test",
     "locked": true,
     "points": 0.3,
     "schema_version": 3,
     "solution": false,
     "task": false
    }
   },
   "outputs": [
    {
     "name": "stdout",
     "output_type": "stream",
     "text": [
      "Parts 3.b. - Test 2 (name: test3b-2_scale_transform_for_test, points: 0.3)\n",
      "\t--->Testing the implementation of 'scale_transform_for_test' ...\n",
      "\t\tTesing a 't-distribution standardization' scale type ...\n",
      "\n",
      "\n",
      "Good Job!\n",
      "You've passed the 2nd test for the 'scale_transform_for_test' function implementation :-)\n"
     ]
    }
   ],
   "source": [
    "# 3.b.\n",
    "# ------------>>>>>>>> RUN THIS CODE CELL <<<<<<<<------------\n",
    "# --------  (run only)\n",
    "# === CODE TYPE: GRADED TEST \n",
    "\n",
    "print (\"Parts 3.b. - Test 2 (name: test3b-2_scale_transform_for_test, points: 0.3)\")\n",
    "print (\"\\t--->Testing the implementation of 'scale_transform_for_test' ...\")\n",
    "\n",
    "file_name = 'data' + os.sep + 'Students-Performance_numeric.csv'\n",
    "\n",
    "try:    \n",
    "    student_name, student_id = myName(), myId()\n",
    "    assert type(student_name) is str or type(student_id) is int, \"name is not a string or id is not an integer\"\n",
    "    assignment_params = get_assignment_params(student_id)    \n",
    "    print (\"\\t\\tTesing a '\" + assignment_params['scale_type'] + \"' scale type ...\\n\")\n",
    "    X, y = load_dataset(file_name, assignment_params['y_col'], assignment_params['index_col'])\n",
    "    X = X[assignment_params['cols_w_filter']]\n",
    "    X, y = X.iloc[assignment_params['indices_1st'],:], y.iloc[assignment_params['indices_1st']]\n",
    "    X, y = X.iloc[assignment_params['indices_2nd'],:], y.iloc[assignment_params['indices_2nd']]\n",
    "    X_train, y_train = X.iloc[:assignment_params['num_train'],:],  y.iloc[:assignment_params['num_train']]\n",
    "    X_test, y_test = X.iloc[assignment_params['num_train']:,:], y.iloc[assignment_params['num_train']:]\n",
    "    trained_scaling_info,  X_train_scaled = scale_fit_transform(X_train)\n",
    "    X_test_scaled = scale_transform_for_test(trained_scaling_info,  X_test)\n",
    "except Exception as e:\n",
    "    print ('You probably have a syntax or implementation error,  \\nerror Message:',str(e), '\\nTry fixing your code')\n",
    "    raise\n",
    "# --------------------------- \n",
    "assert X_test_scaled.shape == X_test.shape, 'Wrong shape for scaled test dataframe'\n",
    "np.testing.assert_array_equal(X_test_scaled.index, X_test.index, 'scaled test and test dataframes should have the same index')\n",
    "np.testing.assert_array_equal(X_train_scaled.columns, X_test_scaled.columns, 'scaled train and scaled test dataframes should have the same column names')\n",
    "\n",
    "print (\"\\nGood Job!\\nYou've passed the 2nd test for the 'scale_transform_for_test' function implementation :-)\")"
   ]
  },
  {
   "cell_type": "code",
   "execution_count": 28,
   "metadata": {
    "deletable": false,
    "editable": false,
    "nbgrader": {
     "cell_type": "code",
     "checksum": "20675ddfeda7af4290b40e09b10d751d",
     "grade": true,
     "grade_id": "test3-scaling-train-test",
     "locked": true,
     "points": 0.4,
     "schema_version": 3,
     "solution": false,
     "task": false
    }
   },
   "outputs": [
    {
     "name": "stdout",
     "output_type": "stream",
     "text": [
      "Parts 3.a., 3.b. - Test 1 (name: test3-scaling-train-test, points: 0.4)\n",
      "\t--->Testing the implementation of 'scale_fit_transform' and 'scale_transform_for_test' ...\n",
      "\t\tTesing a 't-distribution standardization' scale type ...\n",
      "\n",
      "\n",
      "Good Job!\n",
      "You've passed the test for both the 'scale_fit_transform' and 'scale_transform_for_test' functions implementation :-)\n"
     ]
    }
   ],
   "source": [
    "# 3.a., 3.b.\n",
    "# ------------>>>>>>>> RUN THIS CODE CELL <<<<<<<<------------\n",
    "# --------  (run only)\n",
    "# === CODE TYPE: GRADED TEST \n",
    "\n",
    "print (\"Parts 3.a., 3.b. - Test 1 (name: test3-scaling-train-test, points: 0.4)\")\n",
    "print (\"\\t--->Testing the implementation of 'scale_fit_transform' and 'scale_transform_for_test' ...\")\n",
    "\n",
    "file_name = 'data' + os.sep + 'Students-Performance_numeric.csv'\n",
    "try:    \n",
    "    student_name, student_id = myName(), myId()\n",
    "    assert type(student_name) is str or type(student_id) is int, \"name is not a string or id is not an integer\"\n",
    "    assignment_params = get_assignment_params(student_id)    \n",
    "    print (\"\\t\\tTesing a '\" + assignment_params['scale_type'] + \"' scale type ...\\n\")\n",
    "    X, y = load_dataset(file_name, assignment_params['y_col'], assignment_params['index_col'])\n",
    "    X = X[assignment_params['cols_w_filter']]\n",
    "    X, y = X.iloc[assignment_params['indices_1st'],:], y.iloc[assignment_params['indices_1st']]\n",
    "    X, y = X.iloc[assignment_params['indices_2nd'],:], y.iloc[assignment_params['indices_2nd']]\n",
    "    X_train, y_train = X.iloc[:assignment_params['num_train'],:],  y.iloc[:assignment_params['num_train']]\n",
    "    X_test, y_test = X.iloc[assignment_params['num_train']:,:], y.iloc[assignment_params['num_train']:]\n",
    "    trained_scaling_info,  X_train_scaled = scale_fit_transform(X_train)\n",
    "    X_test_scaled = scale_transform_for_test(trained_scaling_info,  X_test)\n",
    "except Exception as e:\n",
    "    print ('You probably have a syntax or implementation error,  \\nerror Message:',str(e), '\\nTry fixing your code')\n",
    "    raise\n",
    "# --------------------------- \n",
    "mean_mean_scl_test =np.round(X_test_scaled.mean().values.mean(),4)\n",
    "abs_mean_mean_scl_test = abs(mean_mean_scl_test)\n",
    "max_mean_scl_test =np.round(X_test_scaled.mean().values.max(),4)\n",
    "trained_scaling_info_means = trained_scaling_info.mean().values \n",
    "\n",
    "if 't-distribution standardization' == assignment_params['scale_type']:\n",
    "    assert 0<abs_mean_mean_scl_test and abs_mean_mean_scl_test<0.4, 'Wrong average tandardized scaled values'\n",
    "    # print (i, assignment_params['scale_type'], trained_scaling_info_means)\n",
    "    np.testing.assert_array_less([14.23,3.62],np.round(trained_scaling_info_means,2), 'Wrong standardization trained_scaling_info')\n",
    "else:    \n",
    "    assert max_mean_scl_test>0.6, 'Wrong average minmax scaled values'\n",
    "    np.testing.assert_array_less([2.1,22.3],np.round(trained_scaling_info_means,2), 'wrong minmax trained_scaling_info')\n",
    "\n",
    "print (\"\\nGood Job!\\nYou've passed the test for both the 'scale_fit_transform' and 'scale_transform_for_test' functions implementation :-)\")"
   ]
  },
  {
   "cell_type": "markdown",
   "metadata": {
    "deletable": false,
    "editable": false,
    "nbgrader": {
     "cell_type": "markdown",
     "checksum": "8bcb1fa582a61291ffce3d1f1602a12a",
     "grade": false,
     "grade_id": "cell-1516877a7370a40d",
     "locked": true,
     "schema_version": 3,
     "solution": false,
     "task": false
    }
   },
   "source": [
    "## Part 4 - KNN\n",
    "<img src=\"./images/3nn_majority.png\" alt=\"KNN\" width=\"300\" align='left'/>"
   ]
  },
  {
   "cell_type": "markdown",
   "metadata": {
    "deletable": false,
    "editable": false,
    "nbgrader": {
     "cell_type": "markdown",
     "checksum": "d2623332b6fc2e655df486a191fb1f27",
     "grade": false,
     "grade_id": "cell-ae0cb3f6b38f7b84",
     "locked": true,
     "schema_version": 3,
     "solution": false,
     "task": false
    }
   },
   "source": [
    "[Go to the beginning of the assignment](#home)\n",
    "<a id=\"dist\"></a>\n",
    "### Part 4.a. - Calculate (vector) distance "
   ]
  },
  {
   "cell_type": "markdown",
   "metadata": {
    "deletable": false,
    "editable": false,
    "nbgrader": {
     "cell_type": "markdown",
     "checksum": "c9df80ad360f0692f80c91bd3d10edf7",
     "grade": false,
     "grade_id": "cell-4031938accc6ebf1",
     "locked": true,
     "schema_version": 3,
     "solution": false,
     "task": false
    }
   },
   "source": [
    "<b>Calculate test-train vector distance (calc_distance) - Permitted method usage</b>:<br />\n",
    "<div class=\"alert alert-success\">\n",
    "<ul><li>&#x2714; Any function, which calculates the minimum and the maximum (such as numpy's function)</li>\n",
    "<li>&#x2714; Any function, which calculates the average (such as series's function)</li>\n",
    "<li>&#x2714; Any function, which calculates a power (such as standard python's function)</li>\n",
    "<li>&#x2714; Any function, which calculates a square root / sqrt (such as statistic's function)</li>\n",
    "<li>&#x2714; Any other basic vector or scalar mathematical function </li></ul>\n",
    "</div>\n",
    "<hr>\n",
    "<b>Calculate test-train vector distance (calc_distance) - Illegal method usage</b>:<br/>\n",
    "<div class=\"alert alert-danger\">\n",
    "    <ul><li>&#x2718; Any function, which performs the any of the vector distance functions</li></ul>\n",
    "\n",
    "</div>"
   ]
  },
  {
   "cell_type": "markdown",
   "metadata": {
    "deletable": false,
    "editable": false,
    "nbgrader": {
     "cell_type": "markdown",
     "checksum": "3d425c150763ece9d30d0a335099dc93",
     "grade": false,
     "grade_id": "cell-2b4695225266b2f0",
     "locked": true,
     "schema_version": 3,
     "solution": false,
     "task": false
    }
   },
   "source": [
    "### Part 4.a. Instructions\n",
    "<u>Part 4.a. - Vector Distance</u>;\n",
    "<u>method name</u>: <b>calc_distance</b><br/>\n",
    "\n",
    "<pre>\n",
    "The following is expected:\n",
    "- Change the following function to return a dataframe, containing the vector distances, \n",
    "        between each of the test vectors and each of the train vectors.\n",
    "  * Each row in the returned dataframe should correspond to each of the feature vectors in the test set.\n",
    "  * The index of the returned dataframe, should be equal to the indexes of \n",
    "      the test set (the X_test parameter).\n",
    "  * The column names of the returned dataframe, should be equal to the indexes of \n",
    "       the train set (the X_train parameter).\n",
    "  * Each cell should contain the distance between the test vector, represented by the index, \n",
    "           and train vector, represented by the column name.\n",
    "  * The distance function which you need to implement, is assigned for you ahead\n",
    "    ( it could be one of the following: 'manhattan', 'euclidean', 'chebyshev'\n",
    "------------\n",
    "input parameter:\n",
    "- X_test  - test set feature vector dataframe\n",
    "- X_train - train set feature vector dataframe\n",
    "------------\n",
    "return value:\n",
    "- dist_dataframe - a dataframe containing the distances as described above.\n",
    "------------\n",
    "returned statement should look as following:\n",
    "return dist_dataframe\n",
    "---------------------\n",
    "</pre>"
   ]
  },
  {
   "cell_type": "markdown",
   "metadata": {
    "deletable": false,
    "editable": false,
    "nbgrader": {
     "cell_type": "markdown",
     "checksum": "76feb0ac8014007f60db91b91ccba22b",
     "grade": false,
     "grade_id": "cell-739ebd021580f09b",
     "locked": true,
     "schema_version": 3,
     "solution": false,
     "task": false
    }
   },
   "source": [
    "### 4.a. Vector distance - you need to <u>implement the following method</u> ..."
   ]
  },
  {
   "cell_type": "code",
   "execution_count": 29,
   "metadata": {
    "deletable": false,
    "editable": false,
    "nbgrader": {
     "cell_type": "code",
     "checksum": "56b05485ed52ae8f66d82b839262568e",
     "grade": false,
     "grade_id": "cell-cda840cd071dae6c",
     "locked": true,
     "schema_version": 3,
     "solution": false,
     "task": false
    }
   },
   "outputs": [
    {
     "name": "stdout",
     "output_type": "stream",
     "text": [
      "The distance method you need to implement is: euclidean\n"
     ]
    }
   ],
   "source": [
    "## 4.a.\n",
    "# ------------>>>>>>>> RUN THIS CODE CELL <<<<<<<<------------\n",
    "# === CELL TYPE: IMPLEMENTATION TASKS\n",
    "\n",
    "try:    \n",
    "    student_name, student_id = myName(), myId()\n",
    "    assert type(student_name) is str or type(student_id) is int, \"name is not a string or id is not an integer\"\n",
    "    assignment_params = get_assignment_params(student_id)\n",
    "except Exception as e:\n",
    "    print ('You probably did not implement student-info functions, \\nerror Message:',str(e))\n",
    "    raise\n",
    "                    \n",
    "print (\"The distance method you need to implement is: \" + assignment_params['dist_method'])"
   ]
  },
  {
   "cell_type": "code",
   "execution_count": 30,
   "metadata": {
    "deletable": false,
    "nbgrader": {
     "cell_type": "code",
     "checksum": "b658dcd28ecb27236b81e6899be6b923",
     "grade": false,
     "grade_id": "cell-a3589b3c99836096",
     "locked": false,
     "schema_version": 3,
     "solution": true,
     "task": false
    }
   },
   "outputs": [],
   "source": [
    "# 4.a.\n",
    "# ------------>>>>>>>> RUN THIS CODE CELL <<<<<<<<------------\n",
    "# --------  (run after implementation)\n",
    "# === CODE TYPE: ASSISTANCE TO ANSWER \n",
    "# ---- Add assistance code here IF NEEDED:\n",
    "# YOUR CODE HERE\n"
   ]
  },
  {
   "cell_type": "code",
   "execution_count": 31,
   "metadata": {
    "deletable": false,
    "nbgrader": {
     "cell_type": "code",
     "checksum": "b6fca6cb01e1fc97d1b11b3839b9d178",
     "grade": false,
     "grade_id": "answer-calc_distance",
     "locked": false,
     "schema_version": 3,
     "solution": true,
     "task": false
    }
   },
   "outputs": [],
   "source": [
    "# 4.a.\n",
    "# ------------>>>>>>>> RUN THIS CODE CELL <<<<<<<<------------\n",
    "# --------  (run after implementation)\n",
    "# === CODE TYPE: ANSWER \n",
    "\n",
    "def calc_distance(X_test,X_train):\n",
    "    testArray = []\n",
    "    distance = 0\n",
    "    \n",
    "    #Create DataFrame for euclidean distance \n",
    "    dist_dataframe = pd.DataFrame([],\n",
    "        columns = X_train.index,\n",
    "        index = X_test.index)\n",
    "    \n",
    "    #Calculate euclidean distance for each cell on the DataFrame X_test with each cell on the DataFrame X_train\n",
    "    for i in range(len(X_test)):\n",
    "        calcDistRowTest = X_test.loc[X_test.index[i]]\n",
    "        for j in range(len(X_train)):\n",
    "            calcDistRowTrain = X_train.loc[X_train.index[j]]\n",
    "            distance = euclidean_dist(calcDistRowTrain,calcDistRowTest) \n",
    "            testArray.append(distance)\n",
    "        dist_dataframe.iloc[i] = testArray\n",
    "        testArray.clear()\n",
    "    \n",
    "    return dist_dataframe\n",
    "      \n",
    "def euclidean_dist(x,y):\n",
    "    #Calculate euclidean distance function from vectors sqrt(((y0-x0)^2) + ((y1-x1)^2) + ....)\n",
    "    dist=0\n",
    "    for i in range(len(x)):\n",
    "        dist += (y[i] - x[i])**2\n",
    "    dist = np.sqrt(dist)\n",
    "    return dist  "
   ]
  },
  {
   "cell_type": "code",
   "execution_count": 32,
   "metadata": {},
   "outputs": [],
   "source": [
    "# 4.a.\n",
    "# ------------>>>>>>>> RUN THIS CODE CELL <<<<<<<<------------\n",
    "# --------  (run after implementation)\n",
    "# === CODE TYPE: SELF TESTING\n",
    "# Use the following code to test your implementation:\n",
    "file_name = 'data' + os.sep + 'Students-Performance_numeric.csv'\n",
    "student_name, student_id = myName(), myId()\n",
    "assignment_params = get_assignment_params(student_id)\n",
    "X, y = load_dataset(file_name, assignment_params['y_col'], assignment_params['index_col'])\n",
    "X = X[assignment_params['cols_w_filter']]\n",
    "X, y = X.iloc[assignment_params['indices_1st'],:], y.iloc[assignment_params['indices_1st']]\n",
    "X, y = X.iloc[assignment_params['indices_2nd'],:], y.iloc[assignment_params['indices_2nd']]\n",
    "X_train, y_train = X.iloc[:assignment_params['num_train'],:],  y.iloc[:assignment_params['num_train']]\n",
    "X_test, y_test = X.iloc[assignment_params['num_train']:,:], y.iloc[assignment_params['num_train']:]\n",
    "X_train_80, y_train_80 = X_train.iloc[:80,:], y_train.iloc[:80]\n",
    "X_test_20, y_test_20 = X_test.iloc[:20,:], y_test.iloc[:20]\n",
    "trained_scaling_info_80,  X_train_scaled_80 = scale_fit_transform(X_train_80)\n",
    "X_test_scaled_20 = scale_transform_for_test(trained_scaling_info_80,  X_test_20)\n",
    "dist_dataframe = calc_distance(X_test_20,X_train_80)\n",
    "dist_df_scaled = calc_distance(X_test_scaled_20,X_train_scaled_80)\n",
    "# --- add additional code to check your code if needed:\n",
    "# YOUR CODE HERE\n"
   ]
  },
  {
   "cell_type": "code",
   "execution_count": 33,
   "metadata": {},
   "outputs": [],
   "source": [
    "# 4.a.\n",
    "# ------------>>>>>>>> RUN THIS CODE CELL <<<<<<<<------------\n",
    "# --------  (run after implementation, if used)\n",
    "# === CODE TYPE: SELF TESTING\n",
    "# ---- Add your additional tests here if needed:\n",
    "# YOUR CODE HERE\n"
   ]
  },
  {
   "cell_type": "code",
   "execution_count": 34,
   "metadata": {
    "deletable": false,
    "editable": false,
    "nbgrader": {
     "cell_type": "code",
     "checksum": "04b459e74df190ac5ca708e5f9f3a78a",
     "grade": true,
     "grade_id": "test4a-1_calc_distance",
     "locked": true,
     "points": 0.1,
     "schema_version": 3,
     "solution": false,
     "task": false
    }
   },
   "outputs": [
    {
     "name": "stdout",
     "output_type": "stream",
     "text": [
      "Part 1. - Test 1 (name: test4a-1_calc_distance, points: 0.1) - Sanity\n",
      "\t--->Testing the implementation of 'calc_distance' ...\n",
      "\t\tTesing a 'euclidean' distance method ...\n",
      "\n",
      "Good Job!\n",
      "You've passed the 1st test for the 'calc_distance' function implementation :-)\n"
     ]
    }
   ],
   "source": [
    "# 4.a.\n",
    "# ------------>>>>>>>> RUN THIS CODE CELL <<<<<<<<------------\n",
    "# --------  (run only)\n",
    "# === CODE TYPE: GRADED TEST \n",
    "\n",
    "print (\"Part 1. - Test 1 (name: test4a-1_calc_distance, points: 0.1) - Sanity\")\n",
    "print (\"\\t--->Testing the implementation of 'calc_distance' ...\")\n",
    "\n",
    "file_name = 'data' + os.sep + 'Students-Performance_numeric.csv'\n",
    "\n",
    "try:    \n",
    "    student_name, student_id = myName(), myId()\n",
    "    assert type(student_name) is str or type(student_id) is int, \"name is not a string or id is not an integer\"\n",
    "    assignment_params = get_assignment_params(student_id)\n",
    "    print (\"\\t\\tTesing a '\" + assignment_params['dist_method'] + \"' distance method ...\\n\")\n",
    "    X, y = load_dataset(file_name, assignment_params['y_col'], assignment_params['index_col'])\n",
    "    X = X[assignment_params['cols_w_filter']]\n",
    "    X, y = X.iloc[assignment_params['indices_1st'],:], y.iloc[assignment_params['indices_1st']]\n",
    "    X, y = X.iloc[assignment_params['indices_2nd'],:], y.iloc[assignment_params['indices_2nd']]\n",
    "    X_train, y_train = X.iloc[:assignment_params['num_train'],:],  y.iloc[:assignment_params['num_train']]\n",
    "    X_test, y_test = X.iloc[assignment_params['num_train']:,:], y.iloc[assignment_params['num_train']:]\n",
    "    X_train_80, y_train_80 = X_train.iloc[:80,:], y_train.iloc[:80]\n",
    "    X_test_20, y_test_20 = X_test.iloc[:20,:], y_test.iloc[:20]\n",
    "    trained_scaling_info_80,  X_train_scaled_80 = scale_fit_transform(X_train_80)\n",
    "    X_test_scaled_20 = scale_transform_for_test(trained_scaling_info_80,  X_test_20)\n",
    "    dist_dataframe = calc_distance(X_test_20,X_train_80)\n",
    "    dist_df_scaled = calc_distance(X_test_scaled_20,X_train_scaled_80)\n",
    "except Exception as e:\n",
    "    print ('You probably have a syntax or implementation error,  \\nerror Message:',str(e), '\\nTry fixing your code')\n",
    "    raise\n",
    "\n",
    "\n",
    "print (\"Good Job!\\nYou've passed the 1st test for the 'calc_distance' function implementation :-)\")"
   ]
  },
  {
   "cell_type": "code",
   "execution_count": 35,
   "metadata": {
    "deletable": false,
    "editable": false,
    "nbgrader": {
     "cell_type": "code",
     "checksum": "498c3fa08545091613c8f14444dc55bc",
     "grade": true,
     "grade_id": "test4a-2_calc_distance",
     "locked": true,
     "points": 0.6,
     "schema_version": 3,
     "solution": false,
     "task": false
    }
   },
   "outputs": [
    {
     "name": "stdout",
     "output_type": "stream",
     "text": [
      "Part 1. - Test 2 (name: test4a-2_calc_distance, points: 0.6)\n",
      "\t--->Testing the implementation of 'calc_distance' ...\n",
      "\t\tTesing a 'euclidean' distance method ...\n",
      "\n",
      "Good Job!\n",
      "You've passed the 2nd test for the 'calc_distance' function implementation :-)\n"
     ]
    }
   ],
   "source": [
    "# 4.a.\n",
    "# ------------>>>>>>>> RUN THIS CODE CELL <<<<<<<<------------\n",
    "# --------  (run only)\n",
    "# === CODE TYPE: GRADED TEST \n",
    "\n",
    "print (\"Part 1. - Test 2 (name: test4a-2_calc_distance, points: 0.6)\")\n",
    "print (\"\\t--->Testing the implementation of 'calc_distance' ...\")\n",
    "file_name = 'data' + os.sep + 'Students-Performance_numeric.csv'\n",
    "\n",
    "try:    \n",
    "    student_name, student_id = myName(), myId()\n",
    "    assert type(student_name) is str or type(student_id) is int, \"name is not a string or id is not an integer\"\n",
    "    assignment_params = get_assignment_params(student_id)\n",
    "    print (\"\\t\\tTesing a '\" + assignment_params['dist_method'] + \"' distance method ...\\n\")\n",
    "    X, y = load_dataset(file_name, assignment_params['y_col'], assignment_params['index_col'])\n",
    "    X = X[assignment_params['cols_w_filter']]\n",
    "    X, y = X.iloc[assignment_params['indices_1st'],:], y.iloc[assignment_params['indices_1st']]\n",
    "    X, y = X.iloc[assignment_params['indices_2nd'],:], y.iloc[assignment_params['indices_2nd']]\n",
    "    X_train, y_train = X.iloc[:assignment_params['num_train'],:],  y.iloc[:assignment_params['num_train']]\n",
    "    X_test, y_test = X.iloc[assignment_params['num_train']:,:], y.iloc[assignment_params['num_train']:]\n",
    "    X_train_80, y_train_80 = X_train.iloc[:80,:], y_train.iloc[:80]\n",
    "    X_test_20, y_test_20 = X_test.iloc[:20,:], y_test.iloc[:20]\n",
    "    trained_scaling_info_80,  X_train_scaled_80 = scale_fit_transform(X_train_80)\n",
    "    X_test_scaled_20 = scale_transform_for_test(trained_scaling_info_80,  X_test_20)\n",
    "    dist_dataframe = calc_distance(X_test_20,X_train_80)\n",
    "    dist_df_scaled = calc_distance(X_test_scaled_20,X_train_scaled_80)\n",
    "except Exception as e:\n",
    "    print ('You probably have a syntax or implementation error,  \\nerror Message:',str(e), '\\nTry fixing your code')\n",
    "    raise\n",
    "assert dist_dataframe.shape == dist_df_scaled.shape, 'Mismatch shape of scaled and non scaled distance dataframes'\n",
    "np.testing.assert_array_equal(dist_dataframe.index, X_test_scaled_20.index, 'Index of distance dataframe should match test index')\n",
    "np.testing.assert_array_equal(dist_dataframe.columns, X_train_80.index, 'Column names of distance dataframe should match training index')\n",
    "np.testing.assert_array_equal(dist_df_scaled.columns, X_train_80.index, 'Column names of distance dataframe should match training index')\n",
    "\n",
    "print (\"Good Job!\\nYou've passed the 2nd test for the 'calc_distance' function implementation :-)\")"
   ]
  },
  {
   "cell_type": "code",
   "execution_count": 36,
   "metadata": {
    "deletable": false,
    "editable": false,
    "nbgrader": {
     "cell_type": "code",
     "checksum": "80a523fa9e8233647a32bcb3800db531",
     "grade": true,
     "grade_id": "test4a-3_calc_distance",
     "locked": true,
     "points": 0.8,
     "schema_version": 3,
     "solution": false,
     "task": false
    }
   },
   "outputs": [
    {
     "name": "stdout",
     "output_type": "stream",
     "text": [
      "Part 1. - Test 3 (name: test4a-3_calc_distance, points: 0.8)\n",
      "\t--->Testing the implementation of 'calc_distance' ...\n",
      "\n",
      "\t====> Full grading test - the following test is invisible. You will not know if you passed it, before grades are returned to the students\n"
     ]
    }
   ],
   "source": [
    "# 4.a.\n",
    "# ------------>>>>>>>> RUN THIS CODE CELL <<<<<<<<------------\n",
    "# --------  (run only)\n",
    "# === CODE TYPE: GRADED TEST \n",
    "\n",
    "print (\"Part 1. - Test 3 (name: test4a-3_calc_distance, points: 0.8)\")\n",
    "print (\"\\t--->Testing the implementation of 'calc_distance' ...\")\n",
    "print (\"\\n\\t====> Full grading test - the following test is invisible. You will not know if you passed it, before grades are returned to the students\")\n"
   ]
  },
  {
   "cell_type": "markdown",
   "metadata": {
    "deletable": false,
    "editable": false,
    "nbgrader": {
     "cell_type": "markdown",
     "checksum": "281cabf490e111a1a6c344cf1c1554dc",
     "grade": false,
     "grade_id": "cell-8a0a713df12358db",
     "locked": true,
     "schema_version": 3,
     "solution": false,
     "task": false
    }
   },
   "source": [
    "[Go to the beginning of the assignment](#home)\n",
    "<a id=\"predict\"></a>\n",
    "### Part 4.b. - KNN predict - main flow"
   ]
  },
  {
   "cell_type": "markdown",
   "metadata": {
    "deletable": false,
    "editable": false,
    "nbgrader": {
     "cell_type": "markdown",
     "checksum": "efd1992e0d2f4694264314d61250da0e",
     "grade": false,
     "grade_id": "cell-3e712fbfd7f659d1",
     "locked": true,
     "schema_version": 3,
     "solution": false,
     "task": false
    }
   },
   "source": [
    "<b>KNN - main flow (predict) - Permitted method usage</b>:<br />\n",
    "<div class=\"alert alert-success\">\n",
    "<ul><li>&#x2714; use the 'calc_distance' function, implemented above </li>\n",
    "<li>&#x2714; Any function, which calculates maximum, top scores, sorting</li>\n",
    "<li>&#x2714; Any function, which calculates the combination of the above with arg... (such as argmax)</li>\n",
    "<li>&#x2714; Any function, which calculates a square root / sqrt (such as statistic's function)</li>\n",
    "<li>&#x2714; Any other basic vector or scalar mathematical function </li></ul>\n",
    "</div>\n",
    "<hr>\n",
    "<b>KNN - main flow (predict) - Illegal method usage</b>:<br/>\n",
    "<div class=\"alert alert-danger\">\n",
    "    <ul><li>&#x2718; Any function, which performs the main or partial flow of KNN</li></ul>\n",
    "\n",
    "</div>"
   ]
  },
  {
   "cell_type": "markdown",
   "metadata": {
    "deletable": false,
    "editable": false,
    "nbgrader": {
     "cell_type": "markdown",
     "checksum": "468b5e0520a3bc487ea639597f0294cd",
     "grade": false,
     "grade_id": "cell-cec47b56b3edc421",
     "locked": true,
     "schema_version": 3,
     "solution": false,
     "task": false
    }
   },
   "source": [
    "### Part 4.b. Instructions\n",
    "<u>Part 4.b.</u> - KNN - predict;\n",
    "<u>method name</u>: <b>predict</b><br/>\n",
    "\n",
    "<pre>\n",
    "The following is expected:\n",
    "- Change the following function to return a series consisting of the predicted category series. \n",
    "   * to do so, use the 'calc_distance' function, implemented above, to get the distance, between \n",
    "     the feature vector, to each of the training feature vectors.\n",
    "------------\n",
    "input parameter:\n",
    "- X_test - the test set feature vector dataframe\n",
    "- X_train - the train set feature vector dataframe\n",
    "- y_train - the train set category series \n",
    "- k - the number of Nearest Neighbors (we select the majority out of k votes)\n",
    "------------\n",
    "return value:\n",
    "- y_predicted - the predicted category series, for each test set example, determined by the KNN classifier.\n",
    "                  * Note: the returned predicted category series, should contain an index, which\n",
    "                          equals to the X_test index.\n",
    "------------\n",
    "returned statement should look as following:\n",
    "return y_predicted\n",
    "---------------------\n",
    "</pre>"
   ]
  },
  {
   "cell_type": "code",
   "execution_count": 37,
   "metadata": {
    "deletable": false,
    "nbgrader": {
     "cell_type": "code",
     "checksum": "4f5b7d336d8b5b371e01b616261e9fa9",
     "grade": false,
     "grade_id": "cell-fd933b7957439b5d",
     "locked": false,
     "schema_version": 3,
     "solution": true,
     "task": false
    }
   },
   "outputs": [],
   "source": [
    "# 4.b.\n",
    "# ------------>>>>>>>> RUN THIS CODE CELL <<<<<<<<------------\n",
    "# --------  (run after implementation)\n",
    "# === CODE TYPE: ASSISTANCE TO ANSWER\n",
    "# ---- Add assistance code here IF NEEDED:\n",
    "# YOUR CODE HERE\n"
   ]
  },
  {
   "cell_type": "code",
   "execution_count": 38,
   "metadata": {
    "deletable": false,
    "nbgrader": {
     "cell_type": "code",
     "checksum": "eb19d71330512d372590ebdea66d9e58",
     "grade": false,
     "grade_id": "answer-predict",
     "locked": false,
     "schema_version": 3,
     "solution": true,
     "task": false
    }
   },
   "outputs": [],
   "source": [
    "# 4.b.\n",
    "# ------------>>>>>>>> RUN THIS CODE CELL <<<<<<<<------------\n",
    "# --------  (run after implementation)\n",
    "# === CODE TYPE: ANSWER \n",
    "\n",
    "def predict(X_test, X_train, y_train, k):\n",
    "    \n",
    "    #Calculate euclidean distance\n",
    "    dfDistToPredicte = calc_distance(X_test,X_train)\n",
    "    \n",
    "    sortedRowList = []\n",
    "    listOfTrainsMacthId = []\n",
    "    calcPredicte = []\n",
    "    \n",
    "    ''' \n",
    "    Get all the of the sorted cells\n",
    "    and sort it one row by one , each row in X_test is added to getRowSorted and\n",
    "    then add it to sortedRowList with the index match on X_train as sorted row\n",
    "    '''\n",
    "    for ind in dfDistToPredicte.index:\n",
    "        dfDistToPredicte.loc[ind].sort_values\n",
    "        getRowSorted=dfDistToPredicte.T.sort_values(by=ind).T\n",
    "        sortedRowList.append(getRowSorted.loc[ind])\n",
    "\n",
    "    calcPredicte=getKNeighbors(len(X_test),sortedRowList,k)\n",
    "    \n",
    "    #get predicted\n",
    "    for ind in calcPredicte:\n",
    "        listOfTrainsMacthId.append(y_train.loc[ind])\n",
    "    \n",
    "    #Create Series to preticed results\n",
    "    y_predicted = pd.Series(0,index=X_test.index)\n",
    "    \n",
    "    #Get the predicted from the categories\n",
    "    for ind in range(len(X_test)):\n",
    "        predicted=0\n",
    "        for jnd in range(k):\n",
    "            predicted += listOfTrainsMacthId[ind].values[jnd] \n",
    "        if (predicted < k/2):\n",
    "            y_predicted.iloc[ind] = 0\n",
    "        else:\n",
    "            y_predicted.iloc[ind] = 1\n",
    "    \n",
    "    return y_predicted\n",
    "\n",
    "def getKNeighbors(amount,lists,k):\n",
    "    kNeighbors = []\n",
    "    calcPredicte = []\n",
    "    #Get the K Neighbors\n",
    "    for i in range(amount):\n",
    "        for j in range(k):\n",
    "            kNeighbors.append(lists[i].index[j])\n",
    "        #add the K Neighbors to \n",
    "        calcPredicte.append(kNeighbors.copy())\n",
    "        kNeighbors.clear()\n",
    "    return calcPredicte\n",
    "    \n",
    "    \n"
   ]
  },
  {
   "cell_type": "code",
   "execution_count": 39,
   "metadata": {},
   "outputs": [],
   "source": [
    "# 4.b.\n",
    "# ------------>>>>>>>> RUN THIS CODE CELL <<<<<<<<------------\n",
    "# --------  (run after implementation)\n",
    "# === CODE TYPE: SELF TESTING\n",
    "# Use the following code to test your implementation:\n",
    "file_name = 'data' + os.sep + 'Students-Performance_numeric.csv'\n",
    "student_name, student_id = myName(), myId()\n",
    "assignment_params = get_assignment_params(student_id)\n",
    "X, y = load_dataset(file_name, assignment_params['y_col'], assignment_params['index_col'])\n",
    "X = X[assignment_params['cols_w_filter']]\n",
    "X, y = X.iloc[assignment_params['indices_1st'],:], y.iloc[assignment_params['indices_1st']]\n",
    "X, y = X.iloc[assignment_params['indices_2nd'],:], y.iloc[assignment_params['indices_2nd']]\n",
    "X_train, y_train = X.iloc[:assignment_params['num_train'],:],  y.iloc[:assignment_params['num_train']]\n",
    "X_test, y_test = X.iloc[assignment_params['num_train']:,:], y.iloc[assignment_params['num_train']:]\n",
    "X_train_100, y_train_100 = X_train.iloc[100:200,:], y_train.iloc[100:200]\n",
    "X_test_20, y_test_20 = X_test.iloc[20:40,:], y_test.iloc[20:40]\n",
    "trained_scaling_info_100,  X_train_scaled_100 = scale_fit_transform(X_train_100)\n",
    "X_test_scaled_20 = scale_transform_for_test(trained_scaling_info_100,  X_test_20)\n",
    "y_predicted = predict(X_test_20, X_train_100, y_train_100, 1)\n",
    "y_predicted_scaled = predict(X_test_scaled_20, X_train_scaled_100, y_train_100, 1)\n",
    "# --- add additional code to check your code if needed:\n",
    "# YOUR CODE HERE\n"
   ]
  },
  {
   "cell_type": "code",
   "execution_count": 40,
   "metadata": {},
   "outputs": [],
   "source": [
    "# 4.b.\n",
    "# ------------>>>>>>>> RUN THIS CODE CELL <<<<<<<<------------\n",
    "# --------  (run after implementation, if used)\n",
    "# === CODE TYPE: SELF TESTING\n",
    "# ---- Add your additional tests here if needed:\n",
    "# YOUR CODE HERE\n"
   ]
  },
  {
   "cell_type": "code",
   "execution_count": 41,
   "metadata": {
    "deletable": false,
    "editable": false,
    "nbgrader": {
     "cell_type": "code",
     "checksum": "860de92619fb168ff5a05b828c2b9299",
     "grade": true,
     "grade_id": "test4b-1_predict",
     "locked": true,
     "points": 0.1,
     "schema_version": 3,
     "solution": false,
     "task": false
    }
   },
   "outputs": [
    {
     "name": "stdout",
     "output_type": "stream",
     "text": [
      "Part 1. - Test 1 (name: test4b-1_predict, points: 0.1) - Sanity\n",
      "\t--->Testing the implementation of 'predict' ...\n",
      "Good Job!\n",
      "You've passed the 1st test for the 'predict' function implementation :-)\n"
     ]
    }
   ],
   "source": [
    "# 4.b.\n",
    "# ------------>>>>>>>> RUN THIS CODE CELL <<<<<<<<------------\n",
    "# --------  (run only)\n",
    "# === CODE TYPE: GRADED TEST \n",
    "\n",
    "print (\"Part 1. - Test 1 (name: test4b-1_predict, points: 0.1) - Sanity\")\n",
    "print (\"\\t--->Testing the implementation of 'predict' ...\")\n",
    "\n",
    "file_name = 'data' + os.sep + 'Students-Performance_numeric.csv'\n",
    "\n",
    "try:    \n",
    "    student_name, student_id = myName(), myId()\n",
    "    assert type(student_name) is str or type(student_id) is int, \"name is not a string or id is not an integer\"\n",
    "    assignment_params = get_assignment_params(student_id)\n",
    "    X, y = load_dataset(file_name, assignment_params['y_col'], assignment_params['index_col'])\n",
    "    X = X[assignment_params['cols_w_filter']]\n",
    "    X, y = X.iloc[assignment_params['indices_1st'],:], y.iloc[assignment_params['indices_1st']]\n",
    "    X, y = X.iloc[assignment_params['indices_2nd'],:], y.iloc[assignment_params['indices_2nd']]\n",
    "    X_train, y_train = X.iloc[:assignment_params['num_train'],:],  y.iloc[:assignment_params['num_train']]\n",
    "    X_test, y_test = X.iloc[assignment_params['num_train']:,:], y.iloc[assignment_params['num_train']:]\n",
    "    X_train_100, y_train_100 = X_train.iloc[100:200,:], y_train.iloc[100:200]\n",
    "    X_test_20, y_test_20 = X_test.iloc[20:40,:], y_test.iloc[20:40]\n",
    "    trained_scaling_info_100,  X_train_scaled_100 = scale_fit_transform(X_train_100)\n",
    "    X_test_scaled_20 = scale_transform_for_test(trained_scaling_info_100,  X_test_20)\n",
    "    y_predicted = predict(X_test_20, X_train_100, y_train_100, 1)\n",
    "    y_predicted_scaled = predict(X_test_scaled_20, X_train_scaled_100, y_train_100, 1)\n",
    "except Exception as e:\n",
    "    print ('You probably did not implement student-info functions, \\nerror Message:',str(e))\n",
    "    raise\n",
    "# ---------------------------\n",
    "\n",
    "print (\"Good Job!\\nYou've passed the 1st test for the 'predict' function implementation :-)\")"
   ]
  },
  {
   "cell_type": "code",
   "execution_count": 42,
   "metadata": {
    "deletable": false,
    "editable": false,
    "nbgrader": {
     "cell_type": "code",
     "checksum": "ea61700cd9e76cff46365cea687f7e76",
     "grade": true,
     "grade_id": "test4b-2_predict",
     "locked": true,
     "points": 0.9,
     "schema_version": 3,
     "solution": false,
     "task": false
    }
   },
   "outputs": [
    {
     "name": "stdout",
     "output_type": "stream",
     "text": [
      "Part 4.b. - Test 2 (name: test4b-2_predict, points: 0.9)\n",
      "\t--->Testing the implementation of 'predict' ...\n",
      "Good Job!\n",
      "You've passed the 2nd test for the 'predict' function implementation :-)\n"
     ]
    }
   ],
   "source": [
    "# 4.b.\n",
    "# ------------>>>>>>>> RUN THIS CODE CELL <<<<<<<<------------\n",
    "# --------  (run only)\n",
    "# === CODE TYPE: GRADED TEST \n",
    "\n",
    "print (\"Part 4.b. - Test 2 (name: test4b-2_predict, points: 0.9)\")\n",
    "print (\"\\t--->Testing the implementation of 'predict' ...\")\n",
    "\n",
    "file_name = 'data' + os.sep + 'Students-Performance_numeric.csv'\n",
    "\n",
    "try:    \n",
    "    student_name, student_id = myName(), myId()\n",
    "    assert type(student_name) is str or type(student_id) is int, \"name is not a string or id is not an integer\"\n",
    "    assignment_params = get_assignment_params(student_id)\n",
    "    X, y = load_dataset(file_name, assignment_params['y_col'], assignment_params['index_col'])\n",
    "    X = X[assignment_params['cols_w_filter']]\n",
    "    X, y = X.iloc[assignment_params['indices_1st'],:], y.iloc[assignment_params['indices_1st']]\n",
    "    X, y = X.iloc[assignment_params['indices_2nd'],:], y.iloc[assignment_params['indices_2nd']]\n",
    "    X_train, y_train = X.iloc[:assignment_params['num_train'],:],  y.iloc[:assignment_params['num_train']]\n",
    "    X_test, y_test = X.iloc[assignment_params['num_train']:,:], y.iloc[assignment_params['num_train']:]\n",
    "    X_train_100, y_train_100 = X_train.iloc[100:200,:], y_train.iloc[100:200]\n",
    "    X_test_20, y_test_20 = X_test.iloc[20:40,:], y_test.iloc[20:40]\n",
    "    trained_scaling_info_100,  X_train_scaled_100 = scale_fit_transform(X_train_100)\n",
    "    X_test_scaled_20 = scale_transform_for_test(trained_scaling_info_100,  X_test_20)\n",
    "    y_predicted = predict(X_test_20, X_train_100, y_train_100, 3)\n",
    "    y_predicted_scaled = predict(X_test_scaled_20, X_train_scaled_100, y_train_100, 3)\n",
    "except Exception as e:\n",
    "    print ('You probably did not implement student-info functions, \\nerror Message:',str(e))\n",
    "    raise\n",
    "# ---------------------------\n",
    "assert y_predicted.shape==y_predicted_scaled.shape and y_test_20.shape==y_predicted.shape,'Wrong shape for predicted series'\n",
    "np.testing.assert_array_equal(y_predicted.index, y_test_20.index, 'Index of predicted series should match test series')\n",
    "np.testing.assert_array_equal(y_predicted_scaled.index, y_test_20.index, 'Index of predicted series should match test series')\n",
    "np.testing.assert_equal(np.any(np.not_equal(y_predicted_scaled.values,y_test_20.values)), True,'predicted and test series should not be identicle')\n",
    "print (\"Good Job!\\nYou've passed the 2nd test for the 'predict' function implementation :-)\")"
   ]
  },
  {
   "cell_type": "code",
   "execution_count": 43,
   "metadata": {
    "deletable": false,
    "editable": false,
    "nbgrader": {
     "cell_type": "code",
     "checksum": "1e3d4e2de715d0e6e3fad723e2e15d03",
     "grade": true,
     "grade_id": "test4b-3_predict",
     "locked": true,
     "points": 1,
     "schema_version": 3,
     "solution": false,
     "task": false
    }
   },
   "outputs": [
    {
     "name": "stdout",
     "output_type": "stream",
     "text": [
      "Part 4.b. - Test 3 (name: test4b-3_predict, points: 1)\n",
      "\t--->Testing the implementation of 'predict' ...\n",
      "\n",
      "\t====> Full grading test - the following test is invisible. You will not know if you passed it, before grades are returned to the students\n"
     ]
    }
   ],
   "source": [
    "# 4.b.\n",
    "# ------------>>>>>>>> RUN THIS CODE CELL <<<<<<<<------------\n",
    "# --------  (run only)\n",
    "# === CODE TYPE: GRADED TEST \n",
    "\n",
    "print (\"Part 4.b. - Test 3 (name: test4b-3_predict, points: 1)\")\n",
    "print (\"\\t--->Testing the implementation of 'predict' ...\")\n",
    "print (\"\\n\\t====> Full grading test - the following test is invisible. You will not know if you passed it, before grades are returned to the students\")\n",
    "\n"
   ]
  },
  {
   "cell_type": "markdown",
   "metadata": {
    "deletable": false,
    "editable": false,
    "nbgrader": {
     "cell_type": "markdown",
     "checksum": "c0d6af476baf95ba658574b2e213a743",
     "grade": false,
     "grade_id": "cell-3953410819eddfce",
     "locked": true,
     "schema_version": 3,
     "solution": false,
     "task": false
    }
   },
   "source": [
    "[Go to the beginning of the assignment](#home)\n",
    "<a id=\"evaluation\"></a>\n",
    "### Part 5 - Evaluation\n",
    "<img src=\"./images/accuracy.jpg\" alt=\"Accuracy\" width=\"300\" align='left'/>"
   ]
  },
  {
   "cell_type": "markdown",
   "metadata": {
    "deletable": false,
    "editable": false,
    "nbgrader": {
     "cell_type": "markdown",
     "checksum": "76f36dcc6929ba4de2ddd1c7ba4da4c6",
     "grade": false,
     "grade_id": "cell-74964e5634098c86",
     "locked": true,
     "schema_version": 3,
     "solution": false,
     "task": false
    }
   },
   "source": [
    "<b>KNN - main flow (predict) - Permitted method usage</b>:<br />\n",
    "<div class=\"alert alert-success\">\n",
    "<li>&#x2714; Any other basic vector or scalar mathematical function </li></ul>\n",
    "</div>\n",
    "<hr>\n",
    "<b>KNN - main flow (predict) - Illegal method usage</b>:<br/>\n",
    "<div class=\"alert alert-danger\">\n",
    "    <ul><li>&#x2718; Any function, which calculates a confusion matrix</li>\n",
    "    <li>&#x2718; Any function, which calculates percision, recall, accuracy or error rate</li></ul>\n",
    "</div>"
   ]
  },
  {
   "cell_type": "markdown",
   "metadata": {
    "deletable": false,
    "editable": false,
    "nbgrader": {
     "cell_type": "markdown",
     "checksum": "b764e61df4717582398e6aec2c944c63",
     "grade": false,
     "grade_id": "cell-55b2b52f4a8b845c",
     "locked": true,
     "schema_version": 3,
     "solution": false,
     "task": false
    }
   },
   "source": [
    "### Part 5. Instructions\n",
    "<u>Part 5 - Evaluation </u>; \n",
    "<u>method name</u>: <b>evaluate_performance</b><br/>\n",
    "\n",
    "<pre>\n",
    "The following is expected:\n",
    "- the method needs to return the accuracy (correctly predicted ratio)\n",
    "------------\n",
    "input parameter:\n",
    "- y_predicted -  a series of containing all predicted class values per test instance\n",
    "- y_test - a series of containing all actual class values per test instance\n",
    "------------\n",
    "return value:\n",
    "------------\n",
    "- evaluate_value - the value calculated by the evaluation metric assigned for you ahead\n",
    "<br>\n",
    "<b><u>Important Note - for those who need to implement precision or recall</u></b>\n",
    "  * <u>The <b>positive</b> category value</u> refers to <u>the value <b>1</b></u>.\n",
    "  * <u>The <b>negative</b> category value</u> refers to <u>the value <b>0</b></u>.\n",
    "</pre>         "
   ]
  },
  {
   "cell_type": "markdown",
   "metadata": {
    "deletable": false,
    "editable": false,
    "nbgrader": {
     "cell_type": "markdown",
     "checksum": "9e7760a74a1cf67648fb89945a0371d2",
     "grade": false,
     "grade_id": "cell-152284e6bf38ae4f",
     "locked": true,
     "schema_version": 3,
     "solution": false,
     "task": false
    }
   },
   "source": [
    "### 5. Evaluation - you need to <u>implement the following method</u> ..."
   ]
  },
  {
   "cell_type": "code",
   "execution_count": 44,
   "metadata": {
    "deletable": false,
    "editable": false,
    "nbgrader": {
     "cell_type": "code",
     "checksum": "a8ef1ce03b80352a1b740101d3fe4d24",
     "grade": false,
     "grade_id": "cell-810c342a1041c5e4",
     "locked": true,
     "schema_version": 3,
     "solution": false,
     "task": false
    }
   },
   "outputs": [
    {
     "name": "stdout",
     "output_type": "stream",
     "text": [
      "The evaluation metric you need to implement is: error_rate\n"
     ]
    }
   ],
   "source": [
    "## 5.\n",
    "# ------------>>>>>>>> RUN THIS CODE CELL <<<<<<<<------------\n",
    "# === CELL TYPE: IMPLEMENTATION TASKS\n",
    "\n",
    "try:    \n",
    "    student_name, student_id = myName(), myId()\n",
    "    assert type(student_name) is str or type(student_id) is int, \"name is not a string or id is not an integer\"\n",
    "    assignment_params = get_assignment_params(student_id)\n",
    "except Exception as e:\n",
    "    print ('You probably did not implement student-info functions, \\nerror Message:',str(e))\n",
    "    raise\n",
    "# ---------------------------\n",
    "                    \n",
    "print (\"The evaluation metric you need to implement is: \" + assignment_params['eval_metric'])"
   ]
  },
  {
   "cell_type": "code",
   "execution_count": 45,
   "metadata": {
    "deletable": false,
    "nbgrader": {
     "cell_type": "code",
     "checksum": "75ba1b4de0d606564e1f0674670af495",
     "grade": false,
     "grade_id": "cell-6909f244b4cc4cb3",
     "locked": false,
     "schema_version": 3,
     "solution": true,
     "task": false
    }
   },
   "outputs": [],
   "source": [
    "# 5.\n",
    "# ------------>>>>>>>> RUN THIS CODE CELL <<<<<<<<------------\n",
    "# --------  (run after implementation)\n",
    "# === CODE TYPE: ASSISTANCE TO ANSWER\n",
    "# ---- Add assistance code here IF NEEDED:\n",
    "# YOUR CODE HERE\n"
   ]
  },
  {
   "cell_type": "code",
   "execution_count": 46,
   "metadata": {
    "deletable": false,
    "nbgrader": {
     "cell_type": "code",
     "checksum": "5639aa7da3991788f16694a5b67aa1a9",
     "grade": false,
     "grade_id": "answer-evaluate_performance",
     "locked": false,
     "schema_version": 3,
     "solution": true,
     "task": false
    }
   },
   "outputs": [],
   "source": [
    "# 5.\n",
    "# ------------>>>>>>>> RUN THIS CODE CELL <<<<<<<<------------\n",
    "# --------  (run after implementation)\n",
    "# === CODE TYPE: ANSWER \n",
    "\n",
    "def evaluate_performance(y_predicted,y_test):\n",
    "    TP = FN = FP = TN = 0\n",
    "    \n",
    "    for i in range(len(y_test)):\n",
    "        if y_predicted.iloc[i] == 1 and y_test.iloc[i] == 1:\n",
    "            TP += 1\n",
    "        elif y_predicted.iloc[i] == 1 and y_test.iloc[i] == 0:\n",
    "            FP += 1\n",
    "        elif y_predicted.iloc[i] == 0 and y_test.iloc[i] == 1:\n",
    "            FN += 1\n",
    "        elif y_predicted.iloc[i] == 0 and y_test.iloc[i] == 0:\n",
    "            TN += 1\n",
    "            \n",
    "    evaluate_value = (FP+FN)/(TP+FP+FN+TN)\n",
    "    \n",
    "    return evaluate_value\n"
   ]
  },
  {
   "cell_type": "code",
   "execution_count": 47,
   "metadata": {},
   "outputs": [],
   "source": [
    "# 5.\n",
    "# ------------>>>>>>>> RUN THIS CODE CELL <<<<<<<<------------\n",
    "# --------  (run after implementation)\n",
    "# === CODE TYPE: SELF TESTING\n",
    "# Use the following code to test your implementation:\n",
    "file_name = 'data' + os.sep + 'Students-Performance_numeric.csv'\n",
    "student_name, student_id = myName(), myId()\n",
    "assignment_params = get_assignment_params(student_id)\n",
    "indx = [3,1,6,5,7,44,32,14,10,11]\n",
    "y_pred = pd.Series([1,1,1,0,1,0,1,0,1,0],index=indx)\n",
    "y_test = pd.Series([0,0,1,1,1,0,0,0,1,0],index=indx)\n",
    "eval_res = evaluate_performance(y_pred, y_test)\n",
    "# --- add additional code to check your code if needed:\n",
    "# YOUR CODE HERE\n"
   ]
  },
  {
   "cell_type": "code",
   "execution_count": 48,
   "metadata": {},
   "outputs": [],
   "source": [
    "# 5.\n",
    "# ------------>>>>>>>> RUN THIS CODE CELL <<<<<<<<------------\n",
    "# --------  (run after implementation, if used)\n",
    "# === CODE TYPE: SELF TESTING\n",
    "# ---- Add your additional tests here if needed:\n",
    "# YOUR CODE HERE\n"
   ]
  },
  {
   "cell_type": "code",
   "execution_count": 49,
   "metadata": {
    "deletable": false,
    "editable": false,
    "nbgrader": {
     "cell_type": "code",
     "checksum": "332118cc2d02b58cf047816466f01f6f",
     "grade": true,
     "grade_id": "test5-1_evaluate_performance",
     "locked": true,
     "points": 0.1,
     "schema_version": 3,
     "solution": false,
     "task": false
    }
   },
   "outputs": [
    {
     "name": "stdout",
     "output_type": "stream",
     "text": [
      "Part 1. - Test 1 (name: test5-1_evaluate_performance, points: 0.1) - Sanity\n",
      "\t--->Testing the implementation of 'evaluate_performance' ...\n",
      "\t\tTesing a 'error_rate' evaluation method ...\n",
      "\n",
      "Good Job!\n",
      "You've passed the 1st test for the 'evaluate_performance' function implementation :-)\n"
     ]
    }
   ],
   "source": [
    "# 5.\n",
    "# ------------>>>>>>>> RUN THIS CODE CELL <<<<<<<<------------\n",
    "# --------  (run only)\n",
    "# === CODE TYPE: GRADED TEST \n",
    "\n",
    "print (\"Part 1. - Test 1 (name: test5-1_evaluate_performance, points: 0.1) - Sanity\")\n",
    "print (\"\\t--->Testing the implementation of 'evaluate_performance' ...\")\n",
    "\n",
    "file_name = 'data' + os.sep + 'Students-Performance_numeric.csv'\n",
    "\n",
    "try:    \n",
    "    student_name, student_id = myName(), myId()\n",
    "    assert type(student_name) is str or type(student_id) is int, \"name is not a string or id is not an integer\"\n",
    "    assignment_params = get_assignment_params(student_id)\n",
    "    print (\"\\t\\tTesing a '\" + assignment_params['eval_metric'] + \"' evaluation method ...\\n\")\n",
    "    indx = [3,1,6,5,7,44,32,14,10,11]\n",
    "    y_pred = pd.Series([1,1,1,0,1,0,1,0,1,0],index=indx)\n",
    "    y_test = pd.Series([0,0,1,1,1,0,0,0,1,0],index=indx)\n",
    "    eval_res = evaluate_performance(y_pred, y_test)\n",
    "    \n",
    "except Exception as e:\n",
    "    print ('You probably have a syntax or implementation error,  \\nerror Message:',str(e), '\\nTry fixing your code')\n",
    "    raise\n",
    "\n",
    "print (\"Good Job!\\nYou've passed the 1st test for the 'evaluate_performance' function implementation :-)\")"
   ]
  },
  {
   "cell_type": "code",
   "execution_count": 50,
   "metadata": {
    "deletable": false,
    "editable": false,
    "nbgrader": {
     "cell_type": "code",
     "checksum": "7e2a08c39535d728d7ec93034b73232d",
     "grade": true,
     "grade_id": "test5-2_evaluate_performance",
     "locked": true,
     "points": 0.9,
     "schema_version": 3,
     "solution": false,
     "task": false
    }
   },
   "outputs": [
    {
     "name": "stdout",
     "output_type": "stream",
     "text": [
      "Part 2. - Test 2 (name: test5-2_evaluate_performance, points: 0.9)\n",
      "\t--->Testing the implementation of 'evaluate_performance' ...\n",
      "\t\tTesing a 'error_rate' evaluation method ...\n",
      "\n",
      "Good Job!\n",
      "You've passed the 2nd test for the 'evaluate_performance' function implementation :-)\n"
     ]
    }
   ],
   "source": [
    "# 5.\n",
    "# ------------>>>>>>>> RUN THIS CODE CELL <<<<<<<<------------\n",
    "# --------  (run only)\n",
    "# === CODE TYPE: GRADED TEST \n",
    "\n",
    "print (\"Part 2. - Test 2 (name: test5-2_evaluate_performance, points: 0.9)\")\n",
    "print (\"\\t--->Testing the implementation of 'evaluate_performance' ...\")\n",
    "\n",
    "file_name = 'data' + os.sep + 'Students-Performance_numeric.csv'\n",
    "\n",
    "try:    \n",
    "    student_name, student_id = myName(), myId()\n",
    "    assert type(student_name) is str or type(student_id) is int, \"name is not a string or id is not an integer\"\n",
    "    assignment_params = get_assignment_params(student_id)\n",
    "    print (\"\\t\\tTesing a '\" + assignment_params['eval_metric'] + \"' evaluation method ...\\n\")\n",
    "    indx = [3,1,6,5,7,44,32,14,10,11]\n",
    "    y_pred = pd.Series([1,1,1,0,1,0,1,0,1,0],index=indx)\n",
    "    y_test = pd.Series([0,0,1,1,1,0,0,0,1,0],index=indx)\n",
    "    eval_res = evaluate_performance(y_pred, y_test)\n",
    "    \n",
    "except Exception as e:\n",
    "    print ('You probably have a syntax or implementation error,  \\nerror Message:',str(e), '\\nTry fixing your code')\n",
    "    raise\n",
    "    \n",
    "if assignment_params['eval_metric'] == 'precision':\n",
    "    assert eval_res == 0.5, 'Wrong precision value'\n",
    "elif assignment_params['eval_metric'] == 'recall':\n",
    "    assert eval_res == 0.75, 'Wrong recall value'\n",
    "elif assignment_params['eval_metric'] == 'accuracy':\n",
    "    assert eval_res == 0.6, 'Wrong accuracy value'\n",
    "else: # if assignment_params['eval_metric'] == 'error_rate':\n",
    "    assert eval_res == 0.4, 'Wrong error-rate value'\n",
    "    \n",
    "print (\"Good Job!\\nYou've passed the 2nd test for the 'evaluate_performance' function implementation :-)\")"
   ]
  },
  {
   "cell_type": "code",
   "execution_count": null,
   "metadata": {},
   "outputs": [],
   "source": []
  },
  {
   "cell_type": "code",
   "execution_count": null,
   "metadata": {},
   "outputs": [],
   "source": []
  },
  {
   "cell_type": "code",
   "execution_count": null,
   "metadata": {},
   "outputs": [],
   "source": []
  }
 ],
 "metadata": {
  "kernelspec": {
   "display_name": "Python 3",
   "language": "python",
   "name": "python3"
  },
  "language_info": {
   "codemirror_mode": {
    "name": "ipython",
    "version": 3
   },
   "file_extension": ".py",
   "mimetype": "text/x-python",
   "name": "python",
   "nbconvert_exporter": "python",
   "pygments_lexer": "ipython3",
   "version": "3.9.1"
  }
 },
 "nbformat": 4,
 "nbformat_minor": 4
}
