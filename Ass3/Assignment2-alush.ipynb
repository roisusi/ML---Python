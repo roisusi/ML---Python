{
 "cells": [
  {
   "cell_type": "markdown",
   "metadata": {
    "deletable": false,
    "editable": false,
    "nbgrader": {
     "cell_type": "markdown",
     "checksum": "1d2c027c5f96052c649cfd79e34a83d5",
     "grade": false,
     "grade_id": "cell-1ca546be8a265659",
     "locked": true,
     "schema_version": 3,
     "solution": false,
     "task": false
    }
   },
   "source": [
    "<a id=\"home\"></a>\n",
    "## Assignment 2\n",
    "In this assignment you will need to implement functions throughout the regression flow.<br/>\n",
    "\n",
    "To receive YOUR specific task, go to section 1c - [Your personal implementation tasks](#1c), \n",
    "<b>after</b> you run the preceding step - [import packages](#Preceding) and implement & run the [myName](#myName), [myId](#myId) functions. <br/>\n",
    "\n",
    "<b>Index of functions you need to implement (total possible points: 9</b>:<br/>\n",
    "\n",
    "| Section | Section-name | points | Section | Section-name | points | Section | Section-name | points |\n",
    "| :- | :- | :- | :- | :- | :- | :- | :- | :- | \n",
    "| Guidelines | [General assignment instructions](#gen_instructions) | | Imports | [Import packages](#Preceding) | | Part 1. | [Student info](#student_info) | 0.5 |\n",
    "| 1c. | [info: YOUR personal implementation tasks](#1c) | | The dataset | [Dataset description](#about_dataset) |  | Part 2. | [Load the dataset (for linear regression)](#load_dataset) | 1 |\n",
    "| Part 3. | [Scaling](#scaling) | 1.5 | Part 4. | [Linear Regression - predict](#predict) | 1 | Part 5. | [Training - fit](#fit) | 3 |\n",
    "| Part 6. | [Model Evaluation](#evaluation) | 2 | "
   ]
  },
  {
   "cell_type": "markdown",
   "metadata": {
    "deletable": false,
    "editable": false,
    "nbgrader": {
     "cell_type": "markdown",
     "checksum": "46266920851dd342a0391af70676154e",
     "grade": false,
     "grade_id": "cell-2d80a2eeb2074292",
     "locked": true,
     "schema_version": 3,
     "solution": false,
     "task": false
    }
   },
   "source": [
    "<a id=\"gen_instructions\"></a>\n",
    "## Working on the assignment, todo and not todo:\n",
    "<b><u>To-do</u></b>:<br />\n",
    "<div class=\"alert alert-success\">\n",
    "<ul><li>&#x2714; <b> Work by yourself</b> and submit your own assignment, <b>no pairing</b> to other students</li>\n",
    "<li>&#x2714; Test and save your assignment - <b>submit the last tested and saved version</b></li>\n",
    "<li>&#x2714; Work on the <b>original notebook</b> of the assignment</li>\n",
    "<li>&#x2714; submit <b>only</b> the <b>notebook (.ipynb)</b> file</li>\n",
    "    <ul><li>&#x2714;<b>Keep original name</b>: <u>Assignment2.ipynb</u></li></ul>        \n",
    "</div>\n",
    "<b><u>Not to-do</u></b>:<br />\n",
    "<div class=\"alert alert-danger\">\n",
    "<ul><li>&#x2718; do <b>NOT</b> submit an <b>empty assignment</b></li>\n",
    "<li>&#x2718; do <b>NOT submit extra files</b>, <u>unless you're asked to do so</u></li>\n",
    "<li>&#x2718; <b>Do NOT submit a .py/.txt/.rar/.zip (or any non (.ipynb) file)</b> <u>version for the notebook</u> of the assignment</li>\n",
    "<li>&#x2718; <b>do NOT change</b> the notebook file name</li></ul>\n",
    "</div>"
   ]
  },
  {
   "cell_type": "markdown",
   "metadata": {
    "deletable": false,
    "editable": false,
    "nbgrader": {
     "cell_type": "markdown",
     "checksum": "939b2a6d96b7254573ea329529f6705e",
     "grade": false,
     "grade_id": "cell-d45e5e4612dbf6f3",
     "locked": true,
     "schema_version": 3,
     "solution": false,
     "task": false
    }
   },
   "source": [
    "<b>Not good - Any of the following</b>:<br/>\n",
    "<div class=\"alert alert-danger\">\n",
    "<ul><li>&#x2718; Code not Implemented</li>\n",
    "<li>&#x2718; No returned value</li>\n",
    "<li>&#x2718; Did not remove the '<code>raise NotImplementedError()</code>' line:</li></ul><br/>\n",
    "<code>\n",
    "# ------------ >>>>>>>> RUN THIS CODE CELL <<<<<<<< ------------\n",
    "# --------  (run after implementation) \n",
    "# === CODE TYPE: ANSWER\n",
    "def method_to_implement():\n",
    "    # YOUR CODE HERE\n",
    "    raise NotImplementedError()\n",
    "</code></div>"
   ]
  },
  {
   "cell_type": "markdown",
   "metadata": {
    "deletable": false,
    "editable": false,
    "nbgrader": {
     "cell_type": "markdown",
     "checksum": "c753025df7651d1acf84f72da008b2c3",
     "grade": false,
     "grade_id": "cell-05dc672308c1db51",
     "locked": true,
     "schema_version": 3,
     "solution": false,
     "task": false
    }
   },
   "source": [
    "<b>Good - All of the following</b>:<br/>\n",
    "<div class=\"alert alert-success\">\n",
    "<ul>\n",
    "<li>&#x2714; Your code starts one line after the '<code># YOUR CODE HERE</code>' remark</li>\n",
    "<li>&#x2714; Removed the '<code>raise NotImplementedError()</code>' line</li>\n",
    "<li>&#x2714; Implemented code</li>\n",
    "<li>&#x2714; returned expected value</li></ul><br/>\n",
    "<code>\n",
    "# ------------ >>>>>>>> RUN THIS CODE CELL <<<<<<<< ------------\n",
    "# --------  (run after implementation) \n",
    "# === CODE TYPE: ANSWER\n",
    "def method_to_implement():\n",
    "    # YOUR CODE HERE\n",
    "    implemented code ...\n",
    "</code></div>"
   ]
  },
  {
   "cell_type": "markdown",
   "metadata": {
    "deletable": false,
    "editable": false,
    "nbgrader": {
     "cell_type": "markdown",
     "checksum": "805b160212d7b387371bbf7030c3c630",
     "grade": false,
     "grade_id": "cell-04efcf00cc76b758",
     "locked": true,
     "schema_version": 3,
     "solution": false,
     "task": false
    }
   },
   "source": [
    "[Go to the beginning of the assignment](#home)\n",
    "## Preceding Step - import modules (packages)\n",
    "This step is necessary in order to use external modules (packages). <br/>\n",
    "**No other modules are allowed**\n",
    "\n",
    "**Use the following libraries for the assignment, when needed**:"
   ]
  },
  {
   "cell_type": "markdown",
   "metadata": {
    "deletable": false,
    "editable": false,
    "nbgrader": {
     "cell_type": "markdown",
     "checksum": "17ab88acacc48ee665d687d46c1e2bb1",
     "grade": false,
     "grade_id": "cell-83515469f48a0e9f",
     "locked": true,
     "schema_version": 3,
     "solution": false,
     "task": false
    }
   },
   "source": [
    "<b>Import packaged - permitted packages</b>:<br />\n",
    "<div class=\"alert alert-success\">\n",
    "&#x2714; Any package or module imported in the following code cell are permitted\n",
    "</div>\n",
    "<hr>\n",
    "<b>Import packaged - Illegal packages</b>:<br/>\n",
    "<div class=\"alert alert-danger\">\n",
    "&#x2718; Any package or module NOT IMPORTED in the following code cell are ILLEGAL\n",
    "</div>"
   ]
  },
  {
   "cell_type": "code",
   "execution_count": 4,
   "metadata": {},
   "outputs": [],
   "source": [
    "# ------------>>>>>>>> RUN THIS CODE CELL <<<<<<<<------------\n",
    "# === CELL TYPE: IMPORTS AND SETUP \n",
    "\n",
    "import sys                       # for testing use only\n",
    "import os                        # for testing use only\n",
    "from datetime import datetime    # for testing use only\n",
    "import hashlib                   # for testing use only\n",
    "import random                    # for testing use only\n",
    "import pathlib \n",
    "import pandas as pd\n",
    "import numpy as np\n",
    "import math\n",
    "import statistics\n",
    "import matplotlib.pyplot as plt\n",
    "from mpl_toolkits.mplot3d import axes3d, Axes3D\n",
    "get_ipython().run_line_magic('matplotlib', 'inline')"
   ]
  },
  {
   "cell_type": "markdown",
   "metadata": {
    "ExecuteTime": {
     "end_time": "2021-04-04T18:32:42.343120Z",
     "start_time": "2021-04-04T18:32:42.329121Z"
    }
   },
   "source": [
    "[Go to the beginning of the assignment](#home)\n",
    "<a id=\"student_info\"></a>\n",
    "<h3>Part 1 - Student information methods and YOUR personal implementation:</h3><br/>\n",
    "The following 2 cells consist of 2 methods which aim to validate your details.<br/>\n",
    "Please <b>make sure to implement <u>both</u> of them</b><br/><br/>\n",
    "<table align='left'>\n",
    "    <tr><td>\n",
    "        <img src=\"./images/id-card.png\" alt=\"name and id\" width=\"150\" align='left'/>\n",
    "    </td></tr>\n",
    "</table>"
   ]
  },
  {
   "cell_type": "markdown",
   "metadata": {
    "deletable": false,
    "editable": false,
    "nbgrader": {
     "cell_type": "markdown",
     "checksum": "8a22250d6aa19bd838cf91fbb549ae6b",
     "grade": false,
     "grade_id": "cell-eb904e4de8731178",
     "locked": true,
     "schema_version": 3,
     "solution": false,
     "task": false
    }
   },
   "source": [
    "<b>Part 1.a. - Student information - <u>make sure</u></b>:<br />\n",
    "<div class=\"alert alert-success\">\n",
    "&#x2714; Make sure: <u>ID number</u> returned here (the output of myId()) <i>MATCHES</i> <u>ID number in Moodle</u><br />\n",
    "&#x2714; Make sure: <u>ID number</u> returned here (the output of myId()) is an <u>int number</u><br />\n",
    "&#x2714; Make sure: <u>Student name</u> returned here (the output of myName()) is in <u>English</u> and is a <u>string</u><br />\n",
    "</div>\n",
    "<hr>\n",
    "<b>Student information - <u>avoid</u> (make sure you <u>DO NOT do the following</u>)</b>:<br/>\n",
    "<div class=\"alert alert-danger\">\n",
    "&#x2718; Avoid: <u>ID number</u> returned here (the output of myId()) <i>DIFFERENT</i> from <u>ID number in Moodle</u><br/>\n",
    "&#x2718; Avoid: <u>ID number</u> returned here (the output of myId()) as a <u>string</u> or a <u>float</u><br/>\n",
    "</div>"
   ]
  },
  {
   "cell_type": "markdown",
   "metadata": {
    "deletable": false,
    "editable": false,
    "nbgrader": {
     "cell_type": "markdown",
     "checksum": "0b43c6eaa258adfcefa1029cc6e1d437",
     "grade": false,
     "grade_id": "cell-9dd40551edb0a09f",
     "locked": true,
     "schema_version": 3,
     "solution": false,
     "task": false
    }
   },
   "source": [
    "### Part 1.a. Instructions\n",
    "<a id=\"myName\"></a>\n",
    "<u>Part 1.a.</u> Student information methods; \n",
    "<u>method name</u>: <b>myName</b><br/>\n",
    "<pre>\n",
    "Complete the following function to return your full name (as a string)\n",
    "    For example: assume your name is John Smith, you should write:\n",
    "    return 'John Smith'\n",
    "------------\n",
    "return value:\n",
    "- your full name (as a string)\n",
    "---------------------\n",
    "</pre>"
   ]
  },
  {
   "cell_type": "code",
   "execution_count": 5,
   "metadata": {
    "deletable": false,
    "nbgrader": {
     "cell_type": "code",
     "checksum": "f3588f4a6209621c8d10e4a0aea74728",
     "grade": false,
     "grade_id": "answer-my_name",
     "locked": false,
     "schema_version": 3,
     "solution": true,
     "task": false
    }
   },
   "outputs": [],
   "source": [
    "# 1.a.\n",
    "# ------------>>>>>>>> RUN THIS CODE CELL <<<<<<<<------------\n",
    "# --------  (run after implementation)\n",
    "# === CODE TYPE: ANSWER \n",
    "\n",
    "def myName():\n",
    "    return 'Roi Aloosh'"
   ]
  },
  {
   "cell_type": "code",
   "execution_count": 6,
   "metadata": {},
   "outputs": [],
   "source": [
    "# 1.a.\n",
    "# ------------>>>>>>>> RUN THIS CODE CELL <<<<<<<<------------\n",
    "# --------  (run after implementation)\n",
    "# === CODE TYPE: SELF TESTING\n",
    "# Use the following code to test your implementation:\n",
    "# ~~~~ CALL YOUR 'myName' IMPLEMENTATION: ~~~~ #\n",
    "student_name = myName()\n",
    "# --- add additional code to check your code if needed:\n",
    "# YOUR CODE HERE\n"
   ]
  },
  {
   "cell_type": "markdown",
   "metadata": {
    "deletable": false,
    "editable": false,
    "nbgrader": {
     "cell_type": "markdown",
     "checksum": "a01586178c664272046907d1ee5cb6b4",
     "grade": false,
     "grade_id": "cell-20d87842f895d911",
     "locked": true,
     "schema_version": 3,
     "solution": false,
     "task": false
    }
   },
   "source": [
    "<a id=\"myId\"></a>\n",
    "<u>Part 1.b.</u> Student information methods</u>; \n",
    "<u>method name</u>: <b>myId</b><br/>\n",
    "<pre>\n",
    "Complete the following function to return your ID number (as an integer number)\n",
    "    For example: assume your ID number is 1234, you should write:\n",
    "    return 1234\n",
    "------------\n",
    "return value:\n",
    "- idnumber your ID number (as an integer number)\n",
    "------------\n",
    "The return statement should look like the following:\n",
    "return idnumber\n",
    "</pre>"
   ]
  },
  {
   "cell_type": "code",
   "execution_count": 7,
   "metadata": {
    "deletable": false,
    "nbgrader": {
     "cell_type": "code",
     "checksum": "d92b86b5ba850e418318eda24fc9ff00",
     "grade": false,
     "grade_id": "answer-my_id",
     "locked": false,
     "schema_version": 3,
     "solution": true,
     "task": false
    }
   },
   "outputs": [],
   "source": [
    "# 1.b.\n",
    "# ------------>>>>>>>> RUN THIS CODE CELL <<<<<<<<------------\n",
    "# --------  (run after implementation)\n",
    "# === CODE TYPE: ANSWER \n",
    "\n",
    "def myId():\n",
    "    return 313233686"
   ]
  },
  {
   "cell_type": "code",
   "execution_count": 8,
   "metadata": {},
   "outputs": [],
   "source": [
    "# 1.b.\n",
    "# ------------>>>>>>>> RUN THIS CODE CELL <<<<<<<<------------\n",
    "# --------  (run after implementation)\n",
    "# === CODE TYPE: SELF TESTING\n",
    "# Use the following code to test your implementation:\n",
    "# ~~~~ CALL YOUR 'myId' IMPLEMENTATION: ~~~~ #\n",
    "student_id = myId()\n",
    "# --- add additional code to check your code if needed:\n",
    "# YOUR CODE HERE\n"
   ]
  },
  {
   "cell_type": "code",
   "execution_count": 9,
   "metadata": {
    "deletable": false,
    "editable": false,
    "nbgrader": {
     "cell_type": "code",
     "checksum": "722d8ecaeff5467dcc885e2339739fcf",
     "grade": true,
     "grade_id": "test1-1_student_info",
     "locked": true,
     "points": 0.5,
     "schema_version": 3,
     "solution": false,
     "task": false
    }
   },
   "outputs": [
    {
     "name": "stdout",
     "output_type": "stream",
     "text": [
      "Part 1.a. 1.b. - Test 1 (name: test1-1_student_info, points: 0.5)\n",
      "\t--->Testing the implementation of 'myName' and 'myId' ...\n",
      "\n",
      "Good Job!\n",
      "You've passed the test for the implementation of 'myName' and 'myId'  :-)\n",
      "\n",
      "Output dataframe:\n",
      "-----------------\n"
     ]
    },
    {
     "data": {
      "text/html": [
       "<div>\n",
       "<style scoped>\n",
       "    .dataframe tbody tr th:only-of-type {\n",
       "        vertical-align: middle;\n",
       "    }\n",
       "\n",
       "    .dataframe tbody tr th {\n",
       "        vertical-align: top;\n",
       "    }\n",
       "\n",
       "    .dataframe thead th {\n",
       "        text-align: right;\n",
       "    }\n",
       "</style>\n",
       "<table border=\"1\" class=\"dataframe\">\n",
       "  <thead>\n",
       "    <tr style=\"text-align: right;\">\n",
       "      <th></th>\n",
       "      <th>value</th>\n",
       "      <th>type</th>\n",
       "      <th>date_time</th>\n",
       "    </tr>\n",
       "  </thead>\n",
       "  <tbody>\n",
       "    <tr>\n",
       "      <th>student_name</th>\n",
       "      <td>Roi Aloosh</td>\n",
       "      <td>&lt;class 'str'&gt;</td>\n",
       "      <td>2021-04-22 12:57:32</td>\n",
       "    </tr>\n",
       "    <tr>\n",
       "      <th>student_id</th>\n",
       "      <td>313233686</td>\n",
       "      <td>&lt;class 'int'&gt;</td>\n",
       "      <td>2021-04-22 12:57:32</td>\n",
       "    </tr>\n",
       "  </tbody>\n",
       "</table>\n",
       "</div>"
      ],
      "text/plain": [
       "                   value           type            date_time\n",
       "student_name  Roi Aloosh  <class 'str'>  2021-04-22 12:57:32\n",
       "student_id     313233686  <class 'int'>  2021-04-22 12:57:32"
      ]
     },
     "execution_count": 9,
     "metadata": {},
     "output_type": "execute_result"
    }
   ],
   "source": [
    "# 1.a. 1.b.\n",
    "# ------------>>>>>>>> RUN THIS CODE CELL <<<<<<<<------------\n",
    "# --------  (run only)\n",
    "# === CODE TYPE: GRADED TEST \n",
    "\n",
    "print (\"Part 1.a. 1.b. - Test 1 (name: test1-1_student_info, points: 0.5)\")\n",
    "print (\"\\t--->Testing the implementation of 'myName' and 'myId' ...\")\n",
    "\n",
    "# dataframe for output:\n",
    "dt1 = datetime.now()\n",
    "try:\n",
    "    student_name, student_id = myName(), myId()\n",
    "except Exception as e:\n",
    "    print ('You probably have a syntax or implementation error,  \\nerror Message:',str(e), '\\nTry fixing your code')\n",
    "    raise\n",
    "\n",
    "assert type(student_name) is str or type(student_id) is int, \"name is not a string or id is not an integer\"\n",
    "\n",
    "s_datetime =  [dt1.strftime('%Y-%m-%d %H:%M:%S'), datetime.now().strftime('%Y-%m-%d %H:%M:%S')]\n",
    "df_output = pd.DataFrame({'value': [student_name, student_id], 'type': [type(student_name), type(student_id)], 'date_time': s_datetime},index=['student_name','student_id'])\n",
    "\n",
    "print (\"\\nGood Job!\\nYou've passed the test for the implementation of 'myName' and 'myId'  :-)\")\n",
    "\n",
    "print ('\\nOutput dataframe:')\n",
    "print ('-----------------')\n",
    "df_output\n"
   ]
  },
  {
   "cell_type": "markdown",
   "metadata": {
    "deletable": false,
    "editable": false,
    "nbgrader": {
     "cell_type": "markdown",
     "checksum": "cf28a57263ad6ae0c2f78e8e1785794a",
     "grade": false,
     "grade_id": "cell-5f413fb5fa0ef5e6",
     "locked": true,
     "schema_version": 3,
     "solution": false,
     "task": false
    }
   },
   "source": [
    "[Go to the beginning of the assignment](#home)\n",
    "<a id=\"1c\"></a>\n",
    "## 1.c. Info: Your personal implementation tasks - <u>implement the following methods</u> ...\n",
    "Run the following code cell to and you will know what do YOU NEED to implement"
   ]
  },
  {
   "cell_type": "code",
   "execution_count": 10,
   "metadata": {
    "deletable": false,
    "editable": false,
    "nbgrader": {
     "cell_type": "code",
     "checksum": "e3867cae778ad7f4f4d7322170d31c50",
     "grade": false,
     "grade_id": "cell-513699370b1cc799",
     "locked": true,
     "schema_version": 3,
     "solution": false,
     "task": false
    }
   },
   "outputs": [
    {
     "name": "stdout",
     "output_type": "stream",
     "text": [
      "Assignment 2 (- 9 points for the test):\n",
      "-----------------------\n",
      "What do you need to implement?\n",
      "1. methods: myName, myId - Your personal information (- 0.5 points for the test)\n",
      "2. method: load_dataset - load the dataset (- 1 point for the tests)\n",
      "3. methods: scale_fit_transform, scale_transform_for_test \n",
      "\t- the scaling type YOU NEED to implement is: t-distribution standardization (- 1.5 points for the tests)\n",
      "4. Linear Regression - predict (- 1 points for the test)\n",
      "5. Training - fit (- 3 points for the test)\n",
      "6.method: evaluate_regression, calc_r_squared (- 2 points for the tests)\n",
      "\t- Note for 'evaluate_regression' - the evaluation metric YOU NEED to implement is: RMSE\n"
     ]
    }
   ],
   "source": [
    "# 1.c.\n",
    "# ------------>>>>>>>> RUN THIS CODE CELL <<<<<<<<------------\n",
    "# === CELL TYPE: IMPLEMENTATION TASKS\n",
    "\n",
    "# --------------------------------------------------------------- #\n",
    "# Run the following and get information about your specific tasks #\n",
    "# --------------------------------------------------------------- #\n",
    "\n",
    "def get_assignment_params(student_id):\n",
    "    num_modulo = 2 ** 31-1\n",
    "    created_1st_state = int(hashlib.md5(str(student_id).encode('utf-8')).hexdigest(),16) % num_modulo\n",
    "    created_2nd_state = int(hashlib.md5(str(created_1st_state).encode('utf-8')).hexdigest(),16) % num_modulo\n",
    "    created_3rd_state = int(hashlib.md5(str(created_2nd_state).encode('utf-8')).hexdigest(),16) % num_modulo\n",
    "    \n",
    "    scale_types, eval_metrics = ['minmax normalization', 't-distribution standardization'], ['SAE', 'MAE','RMSE']\n",
    "    \n",
    "    assignment_params = {}\n",
    "    \n",
    "    assignment_params['cols'] = ['x_0', 'year', 'is_diesel', 'owner', 'is_automatic', 'km_driven', 'seats', 'mileage (kmpl)', 'max_horse_power', 'is_individual_seller', 'engine_capacity_(cc)']\n",
    "    assignment_params['y_col'], assignment_params['fictive_attr'] = 'selling_price', 'x_0'\n",
    "    \n",
    "    random.seed(created_3rd_state)  \n",
    "    assignment_params['scale_type'] = random.choice(scale_types)\n",
    "    \n",
    "    random.seed(created_2nd_state)  \n",
    "    assignment_params['eval_metric'] = random.choice(eval_metrics)\n",
    "    \n",
    "    return assignment_params\n",
    "# ---------------------------\n",
    "try:    \n",
    "    student_name, student_id = myName(), myId()\n",
    "except Exception as e:\n",
    "    print ('You probably did not implement student-info functions, \\nerror Message:',str(e))\n",
    "    raise\n",
    "assert type(student_name) is str and type(student_id) is int, \"name is not a string or id is not an integer\"         \n",
    "# ---------------------------\n",
    "assignment_params = get_assignment_params(student_id)\n",
    "# ---------------------------\n",
    "print ('Assignment 2 (- 9 points for the test):')\n",
    "print ('-----------------------')\n",
    "print ('What do you need to implement?')\n",
    "print ('1. methods: myName, myId - Your personal information (- 0.5 points for the test)')\n",
    "print ('2. method: load_dataset - load the dataset (- 1 point for the tests)')\n",
    "print (\"3. methods: scale_fit_transform, scale_transform_for_test \\n\\t- the scaling type YOU NEED to implement is: \" + assignment_params['scale_type'] + \" (- 1.5 points for the tests)\")\n",
    "print (\"4. Linear Regression - predict (- 1 points for the test)\")\n",
    "print (\"5. Training - fit (- 3 points for the test)\")\n",
    "print (\"6.method: evaluate_regression, calc_r_squared (- 2 points for the tests)\\n\\t- Note for 'evaluate_regression' - the evaluation metric YOU NEED to implement is: \" + assignment_params['eval_metric'] + \"\")"
   ]
  },
  {
   "cell_type": "markdown",
   "metadata": {
    "ExecuteTime": {
     "end_time": "2021-04-04T18:24:51.298056Z",
     "start_time": "2021-04-04T18:24:51.283020Z"
    },
    "deletable": false,
    "editable": false,
    "nbgrader": {
     "cell_type": "markdown",
     "checksum": "5c018f7ca8e9c716bd48c90232328ff9",
     "grade": false,
     "grade_id": "cell-4c89cb51f39fb734",
     "locked": true,
     "schema_version": 3,
     "solution": false,
     "task": false
    }
   },
   "source": [
    "[Go to the beginning of the assignment](#home)\n",
    "<a id=\"about_dataset\"></a>\n",
    "### About the dataset:\n",
    "The following is an explanation of the columns in the dataset, including the target:\n",
    "* year - manufactured year\n",
    "* selling_price\t- target value, price of the car\n",
    "* is_diesel - binary feature, is the fuel type 'diesel'?\n",
    "* owner - what is the ownership (1 for 1st, 2 for 2nd and so on)\n",
    "* is_automatic - binary feature, is it an 'automatic' gear?\n",
    "* km_driven - how many k.m. were driven before the car was sold.\n",
    "* seats - number of seats in the car\n",
    "* mileage (kmpl) - fuel consumption.\n",
    "* max_horse_power \n",
    "* is_individual_seller - binary feature, is the seller an 'individual' seller?\t\n",
    "* engine_capacity_(cc)"
   ]
  },
  {
   "cell_type": "markdown",
   "metadata": {
    "deletable": false,
    "editable": false,
    "nbgrader": {
     "cell_type": "markdown",
     "checksum": "a11f2f281bd6d911beca13b1f32c6ad6",
     "grade": false,
     "grade_id": "cell-dbb435a4de46fd95",
     "locked": true,
     "schema_version": 3,
     "solution": false,
     "task": false
    }
   },
   "source": [
    "[Go to the beginning of the assignment](#home)\n",
    "<a id=\"load_dataset\"></a>\n",
    "### Part 2 - Loading dataset  (for linear regression)\n",
    "<img src=\"./images/load_dataframe.jpg\" alt=\"load dataframe\" width=\"100\" align='left'/>"
   ]
  },
  {
   "cell_type": "markdown",
   "metadata": {
    "deletable": false,
    "editable": false,
    "nbgrader": {
     "cell_type": "markdown",
     "checksum": "47f1626bda769b13d9a15aa5561d2add",
     "grade": false,
     "grade_id": "cell-b8d826ee12f87734",
     "locked": true,
     "schema_version": 3,
     "solution": false,
     "task": false
    }
   },
   "source": [
    "### Part 2. Instructions\n",
    "<u>Part 2.</u> - load dataset from file; \n",
    "<u>method name</u>: <b>load_dataset</b><br/>\n",
    "\n",
    "<pre>\n",
    "Complete the following function to return a dataframe containing the feature vectors (X) and \n",
    "    a series containing the targets (y).\n",
    "    \n",
    "The feature vector dataframe, should not contain the column of the target. \n",
    "\n",
    "It is expected the the X will contain a fictive column of features, with \n",
    " the constant value of 1, representing the x_0 fictive feature\n",
    "   * The column name should be called 'x_0'.\n",
    "   * The 'x_0' column name should be placed as the first column (before any other columns).\n",
    "------------\n",
    "input parameters:\n",
    "- file_name - a path containing the csv file name, which you need to load the dataset from.\n",
    "                  Note: this is a relative path, you should not edit this value, and use only\n",
    "                        this parameter as the file name.\n",
    "- target_column - the column name which represent the target column.\n",
    "- fictive_attr_name - the name of the fictive feature column, with the constant value of 1, \n",
    "                      representing the x_0 fictive feature.\n",
    "------------\n",
    "The return statement should look like the following:\n",
    "return X, y\n",
    "</pre>\n",
    "For example, `let's assume` we've received the following input parameters:\n",
    "* `file_name=...` - some file name\n",
    "* <code>target_column='price_($k)'</code>\n",
    "* <code>fictive_attr_name='x_0'</code>\n",
    "\n",
    "------\n",
    "\n",
    "<b><u>Step 1</u></b>: Let's assume the following <b>dataframe was loaded from the csv</b> file:<br />\n",
    "\n",
    "| | size | #bedrooms | price_($k) |\n",
    "| :- | :- | :- | :- |\n",
    "| 0 | 2104 | 5 | 460 |\n",
    "| 1 | 1416 | 3 | 232 |\n",
    "| 2 | 852 | 2 | 178 |\n",
    " \n",
    "------\n",
    "\n",
    "<br /><b><u>Step 2</u>: After adding the fictive parameter it should look like this</b>:    \n",
    "\n",
    "| | x_0 | size | #bedrooms | price_($k) |\n",
    "| :- | :- | :- | :- | :- |\n",
    "| 0 | 1 | 2104 | 5 | 460 |\n",
    "| 1 | 1 | 1416 | 3 | 232 |\n",
    "| 2 | 1 | 852 | 2 | 178 |    \n",
    "\n",
    "------\n",
    "\n",
    "<br /><b><u>Step 3</u>: We should return a feature vector dataframe (X) looking like this</b>:\n",
    "\n",
    "| | x_0 | size | #bedrooms |\n",
    "| :- | :- | :- | :- |\n",
    "| 0 | 1 | 2104 | 5 |\n",
    "| 1 | 1 | 1416 | 3 |\n",
    "| 2 | 1 | 852 | 2 |\n",
    "\n",
    "<b>And a target series (y) looking like this</b>:\n",
    "    \n",
    "| | |\n",
    "| :- | :- |\n",
    "| 0 | 460 |\n",
    "| 1 | 232 |\n",
    "| 2 | 178 |\n",
    "\n",
    "-----\n",
    "\n",
    "<b>The return statement should look like this</b>:<br />\n",
    "return X, y"
   ]
  },
  {
   "cell_type": "code",
   "execution_count": 11,
   "metadata": {
    "deletable": false,
    "nbgrader": {
     "cell_type": "code",
     "checksum": "57d187711f83a7f34a33229e517f5b6f",
     "grade": false,
     "grade_id": "answer-load_dataset",
     "locked": false,
     "schema_version": 3,
     "solution": true,
     "task": false
    }
   },
   "outputs": [],
   "source": [
    "# 2.\n",
    "# ------------>>>>>>>> RUN THIS CODE CELL <<<<<<<<------------\n",
    "# --------  (run after implementation)\n",
    "# === CODE TYPE: ANSWER \n",
    "\n",
    "def load_dataset(file_name, target_column,fictive_attr_name):\n",
    "    df = pd.read_csv(file_name)\n",
    "    y = df[target_column]\n",
    "    x = df.drop(labels = target_column, axis=1)\n",
    "    x.insert(loc = 0, column = fictive_attr_name, value=1)\n",
    "    return x, y"
   ]
  },
  {
   "cell_type": "code",
   "execution_count": 12,
   "metadata": {},
   "outputs": [],
   "source": [
    "# 2.\n",
    "# ------------>>>>>>>> RUN THIS CODE CELL <<<<<<<<------------\n",
    "# --------  (run after implementation)\n",
    "# === CODE TYPE: SELF TESTING\n",
    "# Use the following code to test your implementation:\n",
    "file_name = 'data' + os.sep + 'car_prices_train.csv'\n",
    "student_name, student_id = myName(), myId()\n",
    "assignment_params = get_assignment_params(student_id)\n",
    "# ~~~~ CALL YOUR 'load_dataset' IMPLEMENTATION: ~~~~ #\n",
    "X, y = load_dataset(file_name, assignment_params['y_col'], assignment_params['fictive_attr'])\n",
    "# --- add additional code to check your code if needed:\n",
    "# YOUR CODE HERE\n"
   ]
  },
  {
   "cell_type": "code",
   "execution_count": 13,
   "metadata": {},
   "outputs": [],
   "source": [
    "# 2.\n",
    "# ------------>>>>>>>> RUN THIS CODE CELL <<<<<<<<------------\n",
    "# --------  (run after implementation, if used)\n",
    "# === CODE TYPE: SELF TESTING\n",
    "# ---- Add your additional tests here if needed:\n",
    "# YOUR CODE HERE\n"
   ]
  },
  {
   "cell_type": "code",
   "execution_count": 14,
   "metadata": {
    "deletable": false,
    "editable": false,
    "nbgrader": {
     "cell_type": "code",
     "checksum": "385d28692ea84e197bc3a1f7bf98c44d",
     "grade": true,
     "grade_id": "test2-1_load_dataset",
     "locked": true,
     "points": 0.1,
     "schema_version": 3,
     "solution": false,
     "task": false
    }
   },
   "outputs": [
    {
     "name": "stdout",
     "output_type": "stream",
     "text": [
      "Parts 2. - Test 1 (name: test2-1_load_dataset, points: 0.1) - Sanity\n",
      "\t--->Testing the implementation of 'load_dataset' ...\n",
      "\n",
      "Good Job!\n",
      "You've passed the 1st test for the 'load_dataset' function implementation :-)\n"
     ]
    }
   ],
   "source": [
    "# 2.\n",
    "# ------------>>>>>>>> RUN THIS CODE CELL <<<<<<<<------------\n",
    "# --------  (run only)\n",
    "# === CODE TYPE: GRADED TEST \n",
    "\n",
    "print (\"Parts 2. - Test 1 (name: test2-1_load_dataset, points: 0.1) - Sanity\")\n",
    "print (\"\\t--->Testing the implementation of 'load_dataset' ...\")\n",
    "\n",
    "file_name = 'data' + os.sep + 'car_prices_train.csv'\n",
    "try:    \n",
    "    student_name, student_id = myName(), myId()\n",
    "    assert type(student_name) is str and type(student_id) is int, \"name is not a string or id is not an integer\"\n",
    "    assignment_params = get_assignment_params(student_id)\n",
    "    X, y = load_dataset(file_name, assignment_params['y_col'], assignment_params['fictive_attr'])\n",
    "except Exception as e:\n",
    "    print ('You probably have a syntax or implementation error,  \\nerror Message:',str(e), '\\nTry fixing your code')\n",
    "    raise\n",
    "\n",
    "print (\"\\nGood Job!\\nYou've passed the 1st test for the 'load_dataset' function implementation :-)\")"
   ]
  },
  {
   "cell_type": "code",
   "execution_count": 15,
   "metadata": {
    "deletable": false,
    "editable": false,
    "nbgrader": {
     "cell_type": "code",
     "checksum": "57ed26908ec90f13f89df7e95b7e840a",
     "grade": true,
     "grade_id": "test2-2_load_dataset",
     "locked": true,
     "points": 0.4,
     "schema_version": 3,
     "solution": false,
     "task": false
    }
   },
   "outputs": [
    {
     "name": "stdout",
     "output_type": "stream",
     "text": [
      "Parts 2. - Test 2 (name: test2-2_load_dataset, points: 0.4)\n",
      "\t--->Testing the implementation of 'load_dataset' ...\n",
      "\n",
      "Good Job!\n",
      "You've passed the 2nd test for the 'load_dataset' function implementation :-)\n"
     ]
    }
   ],
   "source": [
    "# 2.\n",
    "# ------------>>>>>>>> RUN THIS CODE CELL <<<<<<<<------------\n",
    "# --------  (run only)\n",
    "# === CODE TYPE: GRADED TEST \n",
    "\n",
    "print (\"Parts 2. - Test 2 (name: test2-2_load_dataset, points: 0.4)\")\n",
    "print (\"\\t--->Testing the implementation of 'load_dataset' ...\")\n",
    "\n",
    "file_name = 'data' + os.sep + 'car_prices_train.csv'\n",
    "try:    \n",
    "    student_name, student_id = myName(), myId()\n",
    "    assert type(student_name) is str and type(student_id) is int, \"name is not a string or id is not an integer\"\n",
    "    assignment_params = get_assignment_params(student_id)\n",
    "    X, y = load_dataset(file_name, assignment_params['y_col'], assignment_params['fictive_attr'])\n",
    "except Exception as e:\n",
    "    print ('You probably did not implement student-info functions, \\nerror Message:',str(e))\n",
    "    raise\n",
    "\n",
    "assert assignment_params['fictive_attr'] in X.columns, \"Missing fictive column: %r\" %(assignment_params['fictive_attr'])\n",
    "np.testing.assert_array_equal(X.index, y.index, 'X and y should have the same index')\n",
    "assert (5860, 11) == X.shape, \"Wrong shape for feature vectors dataframe\"\n",
    "\n",
    "print (\"\\nGood Job!\\nYou've passed the 2nd test for the 'load_dataset' function implementation :-)\")"
   ]
  },
  {
   "cell_type": "code",
   "execution_count": 16,
   "metadata": {
    "deletable": false,
    "editable": false,
    "nbgrader": {
     "cell_type": "code",
     "checksum": "7dfed4d703ba7c723f94dd0f12577518",
     "grade": true,
     "grade_id": "test2-3_load_dataset",
     "locked": true,
     "points": 0.5,
     "schema_version": 3,
     "solution": false,
     "task": false
    }
   },
   "outputs": [
    {
     "name": "stdout",
     "output_type": "stream",
     "text": [
      "Parts 2. - Test 3 (name: test2-3_load_dataset, points: 0.5)\n",
      "\t--->Testing the implementation of 'load_dataset' ...\n",
      "\n",
      "Good Job!\n",
      "You've passed the 3rd test for the 'load_dataset' function implementation :-)\n"
     ]
    }
   ],
   "source": [
    "# 2.\n",
    "# ------------>>>>>>>> RUN THIS CODE CELL <<<<<<<<------------\n",
    "# --------  (run only)\n",
    "# === CODE TYPE: GRADED TEST \n",
    "\n",
    "print (\"Parts 2. - Test 3 (name: test2-3_load_dataset, points: 0.5)\")\n",
    "print (\"\\t--->Testing the implementation of 'load_dataset' ...\")\n",
    "\n",
    "file_name = 'data' + os.sep + 'car_prices_test.csv'\n",
    "try:    \n",
    "    student_name, student_id = myName(), myId()\n",
    "    assert type(student_name) is str and type(student_id) is int, \"name is not a string or id is not an integer\"  \n",
    "    assignment_params = get_assignment_params(student_id)\n",
    "    X, y = load_dataset(file_name, assignment_params['y_col'], assignment_params['fictive_attr'])\n",
    "except Exception as e:\n",
    "    print ('You probably did not implement student-info functions, \\nerror Message:',str(e))\n",
    "    raise  \n",
    "\n",
    "np.testing.assert_array_equal(X.columns, assignment_params['cols'], 'Missmatch in column names or order')\n",
    "assert X['seats'].head().mean() == 5.4, \"Wrong 'seats' column values\"\n",
    "assert y.head().mean()//1000 == 572, \"Wrong target values\"\n",
    "\n",
    "print (\"\\nGood Job!\\nYou've passed the 3rd test for the 'load_dataset' function implementation :-)\")"
   ]
  },
  {
   "cell_type": "markdown",
   "metadata": {
    "deletable": false,
    "editable": false,
    "nbgrader": {
     "cell_type": "markdown",
     "checksum": "ef6ebc37be35eb49f549d3b188b6499d",
     "grade": false,
     "grade_id": "cell-8214919fe53618dc",
     "locked": true,
     "schema_version": 3,
     "solution": false,
     "task": false
    }
   },
   "source": [
    "[Go to the beginning of the assignment](#home)\n",
    "<a id=\"scaling\"></a>\n",
    "## Part 3 -  scaling \n",
    "<img src=\"./images/architect-scale.jpg\" alt=\"Scale\" style=\"width: 400px;\" align='left'/>"
   ]
  },
  {
   "cell_type": "markdown",
   "metadata": {
    "deletable": false,
    "editable": false,
    "nbgrader": {
     "cell_type": "markdown",
     "checksum": "a8670a88c1486283a7e48f0526a837e7",
     "grade": false,
     "grade_id": "cell-3bdd465fae39fed0",
     "locked": true,
     "schema_version": 3,
     "solution": false,
     "task": false
    }
   },
   "source": [
    "<b>Scaling (scale_fit_transform, scale_transform_for_test) - Permitted method usage</b>:<br />\n",
    "<div class=\"alert alert-success\">\n",
    "<ul><li>&#x2714; Any function, which calculates the minimum and the maximum (such as numpy's function)</li>\n",
    "<li>&#x2714; Any function, which calculates the average (such as series's function)</li>\n",
    "<li>&#x2714; Any function, which calculates a standard deviation/ std/ stddev (such as dataframe's function)\n",
    "    <ul><li><u>Make sure you use the sample's std</u></li></ul>\n",
    "<li>&#x2714; Any function, which calculates a variance / var (such as statistic's function)</li>\n",
    "    <ul><li><u>Make sure you use the sample's variance</u></li></ul>\n",
    "<li>&#x2714; Any other basic mathematical function (+,*, ...) </li></ul>\n",
    "</div>\n",
    "<hr>\n",
    "<b>Scaling (scale_fit_transform, scale_transform_for_test) - Illegal method usage</b>:<br/>\n",
    "<div class=\"alert alert-danger\">\n",
    "    <ul><li>&#x2718; Any function, which performs the scaling</li></ul>\n",
    "</div>"
   ]
  },
  {
   "cell_type": "markdown",
   "metadata": {
    "deletable": false,
    "editable": false,
    "nbgrader": {
     "cell_type": "markdown",
     "checksum": "2d94ed6e7a3679766e684dbc728a311c",
     "grade": false,
     "grade_id": "cell-8f83456ef4d3a327",
     "locked": true,
     "schema_version": 3,
     "solution": false,
     "task": false
    }
   },
   "source": [
    "### Part 3.a. Instructions\n",
    "<u>Part 3.a.</u> - Scaling (scale dataframe columns, including target);\n",
    "<u>method name</u>: <b>scale_fit_transform</b><br/>\n",
    "\n",
    "<pre>\n",
    "Complete the following function to return a <b>copy</b> of the train set dataframe, \n",
    "       with scaled features and scaled target as well as a dataframe containing the scaled trained information.\n",
    "* Important note 1: The train-set includes both the feature vector and the target, which both should be scaled.\n",
    "* Important note 2: if you need to implement minmax it should be scaled between -1 to 1.\n",
    "* Important note 3: The train-set feature vector includes also the fictive feature called 'x_0'.\n",
    "                    You are expected not to scale this fictive feature\n",
    "------------\n",
    "input parameter:\n",
    "- train_set - the input dataframe, including both the feature vector and the target\n",
    "- fictive_attr_name - the name of the fictive feature column, with the constant value of 1, \n",
    "                      representing the x_0 fictive feature.\n",
    "- target_col_name   - the name of the column representing the target.                      \n",
    "------------\n",
    "return values:\n",
    "- trained_scaling_info - a dataframe containing the trained info for each column, including the target \n",
    "                         (see the example ahead)          \n",
    "- train_set_scaled - a <b>copy</b> of the input train_set dataframe, with scaled columns, including the target \n",
    "                    (the scaling is dependent on the above 'scale_type', which was assigned for you above).\n",
    "------------\n",
    "returned statement should look as following:\n",
    "return trained_scaling_info,  train_set_scaled\n",
    "---------------------\n",
    "</pre>\n",
    "For example, let's assume the value of the input parameter `fictive_attr_name='x_0'`.<br />\n",
    "Let's assume the value of the input parameter `target_col_name='target'`.<br />\n",
    "\n",
    "-----\n",
    "\n",
    "Let's assume the value of the following input `train_set` (including target):\n",
    "\n",
    "| | x_0 | size | #bedrooms | target |\n",
    "| :- | :- | :- | :- | :- |\n",
    "| 0 | 1 | 2104 | 5 | 460 |\n",
    "| 1 | 1 | 1416 | 3 | 232 |\n",
    "| 2 | 1 | 852 | 2 | 178 |\n",
    "\n",
    "------\n",
    "\n",
    "<u>Case 1</u> - the <b>'scale_type'</b> (which is assigned for you ahead equals) <b>'minmax' [-1,1]</b> - <br />\n",
    "<b>Important note: minmax here should be scaled between -1 to 1 here</b>\n",
    "The `trained_scaling_info` output dataframe should look like this:\n",
    "\n",
    "| | min | max |\n",
    "| :- | :- | :- |\n",
    "| size | 852 | 2104 |\n",
    "| #bedrooms | 2 | 5 |\n",
    "| target | 178 | 460 |\n",
    "\n",
    "And the corresponding `train_set_scaled` output dataframe should look like this:\n",
    "\n",
    "| | x_0 | size | #bedrooms | target |\n",
    "| :- | :- | :- | :- | :- |\n",
    "| 0 | 1 | 1 | 1 | 1 |\n",
    "| 1 | 1 | -0.099041534 | -0.333333333 | -0.617021277 |\n",
    "| 2 | 1 | -1 | -1 | -1 |\n",
    "\n",
    "------\n",
    "\n",
    "<u>Case 2</u> - the <b>scale_type</b> </b> (which is assigned for you ahead equals) <b>'standard'</b> - <br />\n",
    "The `trained_scaling_info` output dataframe should look like this:\n",
    "\n",
    "| | mean | std |\n",
    "| :- | :- | :- |\n",
    "| Size | 1457.333333 | 627.022594 |\n",
    "| #bedrooms | 3.333333333 | 1.527525232 |\n",
    "| target | 290 | 149.6796579 |\n",
    "\n",
    "\n",
    "And the corresponding `train_set_scaled` output dataframe should look like this:\n",
    "\n",
    "| | x_0 | size | #bedrooms | target |\n",
    "| :- | :- | :- | :- | :- |\n",
    "| 0 | 1 | 1.031329131 | 1.091089451 | 1.135758876  |\n",
    "| 1 | 1 | -0.065920006 | -0.21821789 | -0.387494205  |\n",
    "| 2 | 1 | -0.965409124 | -0.872871561 | -0.748264671  |\n",
    "\n",
    "-----\n",
    "\n",
    "<b>The return statement should look like this</b>:<br />\n",
    "return trained_scaling_info, train_set_scaled"
   ]
  },
  {
   "cell_type": "markdown",
   "metadata": {
    "deletable": false,
    "editable": false,
    "nbgrader": {
     "cell_type": "markdown",
     "checksum": "63393a7285570635053ca3a76218d45a",
     "grade": false,
     "grade_id": "cell-cce0168515999475",
     "locked": true,
     "schema_version": 3,
     "solution": false,
     "task": false
    }
   },
   "source": [
    "### 3. Scaling - you need to <u>implement the following method</u> ..."
   ]
  },
  {
   "cell_type": "code",
   "execution_count": 17,
   "metadata": {
    "deletable": false,
    "editable": false,
    "nbgrader": {
     "cell_type": "code",
     "checksum": "c26dba13d29200424f6c3f5e798ae043",
     "grade": false,
     "grade_id": "cell-17e1760bbe8eb6ba",
     "locked": true,
     "schema_version": 3,
     "solution": false,
     "task": false
    }
   },
   "outputs": [
    {
     "name": "stdout",
     "output_type": "stream",
     "text": [
      "The scaling type you need to implement is: t-distribution standardization\n"
     ]
    }
   ],
   "source": [
    "## 3.\n",
    "# ------------>>>>>>>> RUN THIS CODE CELL <<<<<<<<------------\n",
    "# === CELL TYPE: IMPLEMENTATION TASKS\n",
    "\n",
    "try:    \n",
    "    student_name, student_id = myName(), myId()\n",
    "    assert type(student_name) is str and type(student_id) is int, \"name is not a string or id is not an integer\"    \n",
    "    assignment_params = get_assignment_params(student_id)\n",
    "except Exception as e:\n",
    "    print ('You probably did not implement student-info functions, \\nerror Message:',str(e))\n",
    "    raise\n",
    "# ----------------------------\n",
    "                    \n",
    "print (\"The scaling type you need to implement is: \" + assignment_params['scale_type'])"
   ]
  },
  {
   "cell_type": "code",
   "execution_count": 18,
   "metadata": {
    "deletable": false,
    "nbgrader": {
     "cell_type": "code",
     "checksum": "1ef9ca3bca30d29907d390938b56feff",
     "grade": false,
     "grade_id": "cell-65aa3333757a1464",
     "locked": false,
     "schema_version": 3,
     "solution": true,
     "task": false
    }
   },
   "outputs": [],
   "source": [
    "# 3.a.\n",
    "# ------------>>>>>>>> RUN THIS CODE CELL <<<<<<<<------------\n",
    "# --------  (run after implementation)\n",
    "# === CODE TYPE: ASSISTANCE TO ANSWER \n",
    "# ---- Add assistance code here IF NEEDED:\n",
    "# YOUR CODE HERE\n"
   ]
  },
  {
   "cell_type": "code",
   "execution_count": 19,
   "metadata": {
    "deletable": false,
    "nbgrader": {
     "cell_type": "code",
     "checksum": "c05480280a6c7c65f66a174f9067feb4",
     "grade": false,
     "grade_id": "answer-scale_fit_transform",
     "locked": false,
     "schema_version": 3,
     "solution": true,
     "task": false
    }
   },
   "outputs": [],
   "source": [
    "# 3.a.\n",
    "# ------------>>>>>>>> RUN THIS CODE CELL <<<<<<<<------------\n",
    "# --------  (run after implementation)\n",
    "# === CODE TYPE: ANSWER \n",
    "\n",
    "def scale_fit_transform(train_set, fictive_attr_name):\n",
    "    train_set_scaled= train_set.copy()\n",
    "    fictive_arr = train_set_scaled[fictive_attr_name]\n",
    "    train_set_scaled = train_set_scaled.drop(labels = fictive_attr_name, axis=1) #without fictive_attr_name\n",
    "    \n",
    "    col_mean = train_set_scaled.mean(axis = 0 )\n",
    "    col_std = train_set_scaled.std(axis = 0 )\n",
    "    \n",
    "    trained_scaling_info = pd.DataFrame({'mean':col_mean, 'std':col_std}, index = train_set_scaled.columns)\n",
    "    \n",
    "    colm = list(train_set_scaled.columns.values)\n",
    "    for i in range(len(colm)):\n",
    "        train_set_scaled[colm[i]] = train_set_scaled[colm[i]].apply(lambda x: (x-col_mean[i])/col_std[i])\n",
    "    train_set_scaled.insert(loc = 0, column=fictive_attr_name, value=fictive_arr)\n",
    "    return trained_scaling_info, train_set_scaled"
   ]
  },
  {
   "cell_type": "code",
   "execution_count": 20,
   "metadata": {
    "scrolled": true
   },
   "outputs": [],
   "source": [
    "# 3.a.\n",
    "# ------------>>>>>>>> RUN THIS CODE CELL <<<<<<<<------------\n",
    "# --------  (run after implementation)\n",
    "# === CODE TYPE: SELF TESTING\n",
    "# Use the following code to test your implementation:\n",
    "file_name_train = 'data' + os.sep + 'car_prices_train.csv'\n",
    "student_name, student_id = myName(), myId()\n",
    "assignment_params = get_assignment_params(student_id)\n",
    "X_train, y_train = load_dataset(file_name_train, assignment_params['y_col'], assignment_params['fictive_attr'])\n",
    "y_train.name='target'\n",
    "train_set=pd.concat([X_train,y_train], axis=1)\n",
    "trained_scaling_info,  train_set_scaled = scale_fit_transform(train_set, assignment_params['fictive_attr'])\n",
    "# ~~~~ CALL YOUR 'train_set_scaled' IMPLEMENTATION: ~~~~ #\n",
    "X_train_scaled,y_train_scaled=train_set_scaled.drop(columns=['target']), train_set_scaled['target']\n",
    "# --- add additional code to check your code if needed:\n",
    "# YOUR CODE HERE\n"
   ]
  },
  {
   "cell_type": "code",
   "execution_count": 21,
   "metadata": {},
   "outputs": [],
   "source": [
    "# 3.a.\n",
    "# ------------>>>>>>>> RUN THIS CODE CELL <<<<<<<<------------\n",
    "# --------  (run after implementation, if used)\n",
    "# === CODE TYPE: SELF TESTING\n",
    "# ---- Add your additional tests here if needed:\n",
    "# YOUR CODE HERE\n"
   ]
  },
  {
   "cell_type": "code",
   "execution_count": 22,
   "metadata": {
    "deletable": false,
    "editable": false,
    "nbgrader": {
     "cell_type": "code",
     "checksum": "0f63d825148c73eb43e9bf3c6b10b604",
     "grade": true,
     "grade_id": "test3a-1_scale_fit_transform",
     "locked": true,
     "points": 0.1,
     "schema_version": 3,
     "solution": false,
     "task": false
    }
   },
   "outputs": [
    {
     "name": "stdout",
     "output_type": "stream",
     "text": [
      "Parts 3.a. - Test 1 (name: test3a-1_scale_fit_transform, points: 0.1) - Sanity\n",
      "\t--->Testing the implementation of 'scale_fit_transform' ...\n",
      "\t\tTesing a 't-distribution standardization' scale type ...\n",
      "\n",
      "Good Job!\n",
      "You've passed the 1st test for the 'scale_fit_transform' function implementation :-)\n"
     ]
    }
   ],
   "source": [
    "# 3.a.\n",
    "# ------------>>>>>>>> RUN THIS CODE CELL <<<<<<<<------------\n",
    "# --------  (run only)\n",
    "# === CODE TYPE: GRADED TEST \n",
    "\n",
    "print (\"Parts 3.a. - Test 1 (name: test3a-1_scale_fit_transform, points: 0.1) - Sanity\")\n",
    "print (\"\\t--->Testing the implementation of 'scale_fit_transform' ...\")\n",
    "\n",
    "file_name_train = 'data' + os.sep + 'car_prices_train.csv'\n",
    "try:        \n",
    "    student_name, student_id = myName(), myId()\n",
    "    assert type(student_name) is str and type(student_id) is int, \"name is not a string or id is not an integer\"  \n",
    "    assignment_params = get_assignment_params(student_id)\n",
    "    print (\"\\t\\tTesing a '\" + assignment_params['scale_type'] + \"' scale type ...\")\n",
    "    X_train, y_train = load_dataset(file_name_train, assignment_params['y_col'], assignment_params['fictive_attr'])\n",
    "    y_train.name='target'\n",
    "    train_set=pd.concat([X_train,y_train], axis=1)\n",
    "    trained_scaling_info,  train_set_scaled = scale_fit_transform(train_set, assignment_params['fictive_attr'])\n",
    "    X_train_scaled,y_train_scaled=train_set_scaled.drop(columns=['target']), train_set_scaled['target']\n",
    "except Exception as e:\n",
    "    print ('You probably have a syntax or implementation error,  \\nerror Message:',str(e), '\\nTry fixing your code')\n",
    "    raise\n",
    "\n",
    "print (\"\\nGood Job!\\nYou've passed the 1st test for the 'scale_fit_transform' function implementation :-)\")"
   ]
  },
  {
   "cell_type": "code",
   "execution_count": 23,
   "metadata": {
    "deletable": false,
    "editable": false,
    "nbgrader": {
     "cell_type": "code",
     "checksum": "c6235ce429156b17e67f4f210411f566",
     "grade": true,
     "grade_id": "test3a-2_scale_fit_transform",
     "locked": true,
     "points": 0.1,
     "schema_version": 3,
     "solution": false,
     "task": false
    }
   },
   "outputs": [
    {
     "name": "stdout",
     "output_type": "stream",
     "text": [
      "Parts 3.a. - Test 2 (name: test3a-2_scale_fit_transform, points: 0.1)\n",
      "\t--->Testing the implementation of 'scale_fit_transform' ...\n",
      "\t\tTesing a 't-distribution standardization' scale type ...\n",
      "\n",
      "Good Job!\n",
      "You've passed the 2nd test for the 'scale_fit_transform' function implementation :-)\n"
     ]
    }
   ],
   "source": [
    "# 3.a.\n",
    "# ------------>>>>>>>> RUN THIS CODE CELL <<<<<<<<------------\n",
    "# --------  (run only)\n",
    "# === CODE TYPE: GRADED TEST \n",
    "\n",
    "print (\"Parts 3.a. - Test 2 (name: test3a-2_scale_fit_transform, points: 0.1)\")\n",
    "print (\"\\t--->Testing the implementation of 'scale_fit_transform' ...\")\n",
    "\n",
    "file_name_train = 'data' + os.sep + 'car_prices_train.csv'\n",
    "try:        \n",
    "    student_name, student_id = myName(), myId()\n",
    "    assert type(student_name) is str and type(student_id) is int, \"name is not a string or id is not an integer\"  \n",
    "    assignment_params = get_assignment_params(student_id)\n",
    "    print (\"\\t\\tTesing a '\" + assignment_params['scale_type'] + \"' scale type ...\")\n",
    "    X_train, y_train = load_dataset(file_name_train, assignment_params['y_col'], assignment_params['fictive_attr'])\n",
    "    y_train.name='target'\n",
    "    train_set=pd.concat([X_train,y_train], axis=1)\n",
    "    trained_scaling_info,  train_set_scaled = scale_fit_transform(train_set, assignment_params['fictive_attr'])\n",
    "    X_train_scaled,y_train_scaled=train_set_scaled.drop(columns=['target']), train_set_scaled['target']\n",
    "except Exception as e:\n",
    "    print ('You probably have a syntax or implementation error,  \\nerror Message:',str(e), '\\nTry fixing your code')\n",
    "    raise\n",
    "np.testing.assert_array_equal(train_set_scaled.columns, assignment_params['cols']+['target'], 'scaled test and test dataframes should have the same column names')\n",
    "\n",
    "print (\"\\nGood Job!\\nYou've passed the 2nd test for the 'scale_fit_transform' function implementation :-)\")"
   ]
  },
  {
   "cell_type": "code",
   "execution_count": 24,
   "metadata": {
    "deletable": false,
    "editable": false,
    "nbgrader": {
     "cell_type": "code",
     "checksum": "e06bc6d908d4ee5369fed30bbe8aadff",
     "grade": true,
     "grade_id": "test3a-3_scale_fit_transform",
     "locked": true,
     "points": 0.5,
     "schema_version": 3,
     "solution": false,
     "task": false
    }
   },
   "outputs": [
    {
     "name": "stdout",
     "output_type": "stream",
     "text": [
      "Parts 3.a. - Test 3 (name: test3a-3_scale_fit_transform, points: 0.5)\n",
      "\t--->Testing the implementation of 'scale_fit_transform' ...\n",
      "\t\tTesing a 't-distribution standardization' scale type ...\n",
      "\n",
      "Good Job!\n",
      "You've passed the 3rd test for the 'scale_fit_transform' function implementation :-)\n"
     ]
    }
   ],
   "source": [
    "# 3.a.\n",
    "# ------------>>>>>>>> RUN THIS CODE CELL <<<<<<<<------------\n",
    "# --------  (run only)\n",
    "# === CODE TYPE: GRADED TEST \n",
    "\n",
    "print (\"Parts 3.a. - Test 3 (name: test3a-3_scale_fit_transform, points: 0.5)\")\n",
    "print (\"\\t--->Testing the implementation of 'scale_fit_transform' ...\")\n",
    "\n",
    "file_name_train = 'data' + os.sep + 'car_prices_train.csv'\n",
    "try:        \n",
    "    student_name, student_id = myName(), myId()\n",
    "    assert type(student_name) is str and type(student_id) is int, \"name is not a string or id is not an integer\"  \n",
    "    assignment_params = get_assignment_params(student_id)\n",
    "    print (\"\\t\\tTesing a '\" + assignment_params['scale_type'] + \"' scale type ...\")\n",
    "    X_train, y_train = load_dataset(file_name_train, assignment_params['y_col'], assignment_params['fictive_attr'])\n",
    "    y_train.name='target'\n",
    "    train_set=pd.concat([X_train,y_train], axis=1)\n",
    "    trained_scaling_info,  train_set_scaled = scale_fit_transform(train_set, assignment_params['fictive_attr'])\n",
    "    X_train_scaled,y_train_scaled=train_set_scaled.drop(columns=['target']), train_set_scaled['target']\n",
    "except Exception as e:\n",
    "    print ('You probably have a syntax or implementation error,  \\nerror Message:',str(e), '\\nTry fixing your code')\n",
    "    raise\n",
    "\n",
    "if 't-distribution standardization' == assignment_params['scale_type']:\n",
    "    assert np.round(train_set_scaled.max().max(),2) == 38.46, 'Wrong max standardized scaled values'\n",
    "else:    \n",
    "    assert np.round(train_set_scaled.mean().min()+0.0006,2) == -0.94, 'Wrong average minmax scaled values'\n",
    "    \n",
    "print (\"\\nGood Job!\\nYou've passed the 3rd test for the 'scale_fit_transform' function implementation :-)\")"
   ]
  },
  {
   "cell_type": "markdown",
   "metadata": {
    "deletable": false,
    "editable": false,
    "nbgrader": {
     "cell_type": "markdown",
     "checksum": "cc9a4a55be9e83ea09bc9a94d32a4daa",
     "grade": false,
     "grade_id": "cell-40bcf181a465a50e",
     "locked": true,
     "schema_version": 3,
     "solution": false,
     "task": false
    }
   },
   "source": [
    "### Part 3.b. Instructions\n",
    "<u>Part 3.b.</u> - Scaling (scale dataframe columns, including target);\n",
    "<u>method name</u>: <b>scale_transform_for_test</b><br/>\n",
    "<pre>\n",
    "Complete the following function to return a <b>copy</b> of the test-set dataframe, \n",
    "       with scaled features and scaled target.\n",
    "* Important note 1: The test-set includes both the feature vector and the target, which both should be scaled.\n",
    "* Important note 2: if you need to implement minmax it should be scaled between -1 to 1.       \n",
    "* Important note 3: The train-set feature vector includes also the fictive feature called 'x_0'.\n",
    "                    You are expected not to scale this fictive feature\n",
    "------------\n",
    "input parameters:\n",
    "- trained_scaling_info - a dataframe containing the trained info for each column, including the target \n",
    "                         (see the example ahead)    \n",
    "- test_set - the input test-set dataframe, including both the feature vector and the target\n",
    "- fictive_attr_name - the name of the fictive feature column, with the constant value of 1, \n",
    "                      representing the x_0 fictive feature.\n",
    "------------\n",
    "return values:\n",
    "- test_set_scaled - a <b>copy</b> of the input train dataframe, with scaled columns, including the target \n",
    "                   (the scaling is dependent on the above 'scale_type', which was assigned for you above)\n",
    "------------\n",
    "returned statement should look as following:\n",
    "return test_set_scaled\n",
    "---------------------\n",
    "</pre>\n",
    "For example, let's assume the following values for the input parameters:\n",
    "* `fictive_attr_name='x_0'`\n",
    "-----\n",
    "\n",
    "The `trained_scaling_info` is from the output of the `scale_fit_transform` previous method.<br />\n",
    "The corresponding input possibilities, depend on the implementation, assigned for you.<br />\n",
    "\n",
    "<u>Expected input case 1</u> - the <b>'scale_type'='minmax' [-1,1]</b><br />\n",
    "<b>Important note: minmax here should be scaled between -1 to 1 here</b><br />\n",
    "Let's assume we've got the following input trained_scaling_info parameter (including target):\n",
    "\n",
    "| | min | max |\n",
    "| :- | :- | :- |\n",
    "| size | 852 | 2104 |\n",
    "| #bedrooms | 2 | 5 |\n",
    "| target | 178 | 460 |\n",
    "\n",
    "-----\n",
    "\n",
    "<u>Expected input case 2</u> - the <b>'scale_type'='standard'</b><br />\n",
    "Let's assume we've got the following input `trained_scaling_info` parameter (including target):\n",
    "\n",
    "| | mean | std |\n",
    "| :- | :- | :- |\n",
    "| Size | 1457.333333 | 627.022594 |\n",
    "| #bedrooms | 3.333333333 | 1.527525232 |\n",
    "| target | 290 | 149.6796579 |\n",
    "\n",
    "-----\n",
    "\n",
    "Let's assume we've got the following input `test_set` parameter (including target):\n",
    "\n",
    "| | x_0 | size | #bedrooms | target |\n",
    "| :- | :- | :- | :- | :- |\n",
    "| 0 | 1 | 1022 | 2 | 200 |\n",
    "| 1 | 1 | 1300 | 2.5 | 220 |\n",
    "| 2 | 1 | 1900 | 5 | 410 |\n",
    "\n",
    "------\n",
    "\n",
    "<u>Expected output case 1</u> - the <b>'scale_type'</b> (which is assigned for you ahead equals) <b>'minmax' [-1,1]</b> - <br />\n",
    "\n",
    "The corresponding `test_set_scaled` output dataframe should look like this:\n",
    "\n",
    "| | x_0 | size | #bedrooms | target |\n",
    "| :- | :- | :- | :- | :- |\n",
    "| 0 | 1 | -0.728434505 | -1 | -0.843971631 |\n",
    "| 1 | 1 | -0.284345048 | -0.666666667 | -0.70212766 |\n",
    "| 2 | 1 | 0.674121406 | 1 | 0.645390071 |\n",
    "\n",
    "------\n",
    "\n",
    "<u>Expected output case 2</u> - the <b>scale_type</b> </b> (which is assigned for you ahead equals) <b>'standard'</b> - <br />\n",
    "\n",
    "The corresponding `test_set_scaled` output dataframe should look like this:\n",
    "\n",
    "| | x_0 | size | #bedrooms | target |\n",
    "| :- | :- | :- | :- | :- |\n",
    "| 0 | 1 | -0.694286518 | -0.872871561 | -0.601284111 |\n",
    "| 1 | 1 | -0.250921314 | -0.545544726 | -0.467665419 |\n",
    "| 2 | 1 | 0.705982003 | 1.091089451 | 0.801712147 |\n",
    "\n",
    "-----\n",
    "\n",
    "<b>The return statement should look like this</b>:<br />\n",
    "return test_set_scaled"
   ]
  },
  {
   "cell_type": "code",
   "execution_count": 25,
   "metadata": {
    "deletable": false,
    "nbgrader": {
     "cell_type": "code",
     "checksum": "ed3147fabb1b02c6eede949fa0e59bab",
     "grade": false,
     "grade_id": "cell-032134bb90236b88",
     "locked": false,
     "schema_version": 3,
     "solution": true,
     "task": false
    }
   },
   "outputs": [],
   "source": [
    "# 3.b.\n",
    "# ------------>>>>>>>> RUN THIS CODE CELL <<<<<<<<------------\n",
    "# --------  (run after implementation)\n",
    "# === CODE TYPE: ASSISTANCE TO ANSWER \n",
    "# ---- Add assistance code here IF NEEDED:\n",
    "# YOUR CODE HERE\n"
   ]
  },
  {
   "cell_type": "code",
   "execution_count": 26,
   "metadata": {
    "deletable": false,
    "nbgrader": {
     "cell_type": "code",
     "checksum": "3e71a31900f8edf321f6f4e928eec173",
     "grade": false,
     "grade_id": "answer-scale_transform_for_test",
     "locked": false,
     "schema_version": 3,
     "solution": true,
     "task": false
    }
   },
   "outputs": [],
   "source": [
    "# 3.b.\n",
    "# ------------>>>>>>>> RUN THIS CODE CELL <<<<<<<<------------\n",
    "# --------  (run after implementation)\n",
    "# === CODE TYPE: ANSWER \n",
    "\n",
    "def scale_transform_for_test(trained_scaling_info,  test_set, fictive_attr_name):\n",
    "    test_set_scaled = test_set.copy()\n",
    "    fictive_arr = test_set_scaled[fictive_attr_name];\n",
    "    test_set_scaled = test_set_scaled.drop(labels = fictive_attr_name, axis=1) #without fictive_attr_name\n",
    "    \n",
    "    col_mean = trained_scaling_info['mean'].values\n",
    "    col_std = trained_scaling_info['std'].values\n",
    "    colm = list(test_set.columns.values)\n",
    "    colm = list(test_set_scaled.columns.values)\n",
    "    for i in range(len(colm)):\n",
    "        test_set_scaled[colm[i]] = test_set_scaled[colm[i]].apply(lambda x: (x-col_mean[i])/col_std[i])\n",
    "    test_set_scaled.insert(loc = 0, column=fictive_attr_name, value=fictive_arr)\n",
    "    \n",
    "    return test_set_scaled"
   ]
  },
  {
   "cell_type": "code",
   "execution_count": 27,
   "metadata": {},
   "outputs": [],
   "source": [
    "# 3.b.\n",
    "# ------------>>>>>>>> RUN THIS CODE CELL <<<<<<<<------------\n",
    "# --------  (run after implementation)\n",
    "# === CODE TYPE: SELF TESTING\n",
    "# Use the following code to test your implementation:\n",
    "# ---- load and scale train-set:\n",
    "file_name_train = 'data' + os.sep + 'car_prices_train.csv'\n",
    "student_name, student_id = myName(), myId()\n",
    "assignment_params = get_assignment_params(student_id)\n",
    "X_train, y_train = load_dataset(file_name_train, assignment_params['y_col'], assignment_params['fictive_attr'])\n",
    "y_train.name='target'\n",
    "train_set=pd.concat([X_train,y_train], axis=1)\n",
    "trained_scaling_info,  train_set_scaled = scale_fit_transform(train_set, assignment_params['fictive_attr'])\n",
    "X_train_scaled,y_train_scaled=train_set_scaled.drop(columns=['target']), train_set_scaled['target']\n",
    "# ---- load and scale test-set:\n",
    "file_name_test  = 'data' + os.sep + 'car_prices_test.csv'\n",
    "X_test, y_test   = load_dataset(file_name_test, assignment_params['y_col'], assignment_params['fictive_attr'])\n",
    "y_test.name='target'\n",
    "test_set =pd.concat([X_test,y_test], axis=1)   \n",
    "# ~~~~ CALL YOUR 'scale_transform_for_test' IMPLEMENTATION: ~~~~ #\n",
    "test_set_scaled = scale_transform_for_test(trained_scaling_info,  test_set, assignment_params['fictive_attr'])\n",
    "X_test_scaled,y_test_scaled=test_set_scaled.drop(columns=['target']), test_set_scaled['target']\n",
    "# --- add additional code to check your code if needed:\n",
    "# YOUR CODE HERE\n"
   ]
  },
  {
   "cell_type": "code",
   "execution_count": 28,
   "metadata": {},
   "outputs": [],
   "source": [
    "# 3.b.\n",
    "# ------------>>>>>>>> RUN THIS CODE CELL <<<<<<<<------------\n",
    "# --------  (run after implementation, if used)\n",
    "# === CODE TYPE: SELF TESTING\n",
    "# ---- Add your additional tests here if needed:\n",
    "# YOUR CODE HERE\n"
   ]
  },
  {
   "cell_type": "code",
   "execution_count": 29,
   "metadata": {
    "deletable": false,
    "editable": false,
    "nbgrader": {
     "cell_type": "code",
     "checksum": "c4b73732c8f46e3fc512bec466b4fca3",
     "grade": true,
     "grade_id": "test3b-1_scale_transform_for_test",
     "locked": true,
     "points": 0.1,
     "schema_version": 3,
     "solution": false,
     "task": false
    }
   },
   "outputs": [
    {
     "name": "stdout",
     "output_type": "stream",
     "text": [
      "Parts 3.b. - Test 1 (name: test3b-1_scale_transform_for_test, points: 0.1) - Sanity\n",
      "\t--->Testing the implementation of 'scale_transform_for_test' ...\n",
      "\n",
      "Good Job!\n",
      "You've passed the 1st test for the 'scale_transform_for_test' function implementation :-)\n"
     ]
    }
   ],
   "source": [
    "# 3.b.\n",
    "# ------------>>>>>>>> RUN THIS CODE CELL <<<<<<<<------------\n",
    "# --------  (run only)\n",
    "# === CODE TYPE: GRADED TEST \n",
    "\n",
    "print (\"Parts 3.b. - Test 1 (name: test3b-1_scale_transform_for_test, points: 0.1) - Sanity\")\n",
    "print (\"\\t--->Testing the implementation of 'scale_transform_for_test' ...\")\n",
    "\n",
    "file_name_train = 'data' + os.sep + 'car_prices_train.csv'\n",
    "file_name_test  = 'data' + os.sep + 'car_prices_test.csv'\n",
    "try:        \n",
    "    student_name, student_id = myName(), myId()\n",
    "    assert type(student_name) is str and type(student_id) is int, \"name is not a string or id is not an integer\"  \n",
    "    assignment_params = get_assignment_params(student_id)\n",
    "    X_train, y_train = load_dataset(file_name_train, assignment_params['y_col'], assignment_params['fictive_attr'])\n",
    "    y_train.name='target'\n",
    "    train_set=pd.concat([X_train,y_train], axis=1)\n",
    "    trained_scaling_info,  train_set_scaled = scale_fit_transform(train_set, assignment_params['fictive_attr'])\n",
    "    X_train_scaled,y_train_scaled=train_set_scaled.drop(columns=['target']), train_set_scaled['target']\n",
    "    file_name_test  = 'data' + os.sep + 'car_prices_test.csv'\n",
    "    X_test, y_test   = load_dataset(file_name_test, assignment_params['y_col'], assignment_params['fictive_attr'])\n",
    "    y_test.name='target'\n",
    "    test_set =pd.concat([X_test,y_test], axis=1)   \n",
    "    test_set_scaled = scale_transform_for_test(trained_scaling_info, test_set, assignment_params['fictive_attr'])\n",
    "    X_test_scaled,y_test_scaled=test_set_scaled.drop(columns=['target']), test_set_scaled['target']\n",
    "except Exception as e:\n",
    "    print ('You probably have a syntax or implementation error,  \\nerror Message:',str(e), '\\nTry fixing your code')\n",
    "    raise\n",
    "\n",
    "print (\"\\nGood Job!\\nYou've passed the 1st test for the 'scale_transform_for_test' function implementation :-)\")"
   ]
  },
  {
   "cell_type": "code",
   "execution_count": 30,
   "metadata": {
    "deletable": false,
    "editable": false,
    "nbgrader": {
     "cell_type": "code",
     "checksum": "8337f6182d1fdd2c7afdd7f355952161",
     "grade": true,
     "grade_id": "test3b-2_scale_transform_for_test",
     "locked": true,
     "points": 0.1,
     "schema_version": 3,
     "solution": false,
     "task": false
    }
   },
   "outputs": [
    {
     "name": "stdout",
     "output_type": "stream",
     "text": [
      "Parts 3.b. - Test 2 (name: test3b-2_scale_transform_for_test, points: 0.1)\n",
      "\t--->Testing the implementation of 'scale_transform_for_test' ...\n",
      "\t\tTesing a 't-distribution standardization' scale type ...\n",
      "\n",
      "Good Job!\n",
      "You've passed the 2nd test for the 'scale_transform_for_test' function implementation :-)\n"
     ]
    }
   ],
   "source": [
    "# 3.b.\n",
    "# ------------>>>>>>>> RUN THIS CODE CELL <<<<<<<<------------\n",
    "# --------  (run only)\n",
    "# === CODE TYPE: GRADED TEST \n",
    "\n",
    "print (\"Parts 3.b. - Test 2 (name: test3b-2_scale_transform_for_test, points: 0.1)\")\n",
    "print (\"\\t--->Testing the implementation of 'scale_transform_for_test' ...\")\n",
    "\n",
    "file_name_train = 'data' + os.sep + 'car_prices_train.csv'\n",
    "file_name_test  = 'data' + os.sep + 'car_prices_test.csv'\n",
    "try:        \n",
    "    student_name, student_id = myName(), myId()\n",
    "    assert type(student_name) is str and type(student_id) is int, \"name is not a string or id is not an integer\"  \n",
    "    assignment_params = get_assignment_params(student_id)\n",
    "    print (\"\\t\\tTesing a '\" + assignment_params['scale_type'] + \"' scale type ...\")\n",
    "    X_train, y_train = load_dataset(file_name_train, assignment_params['y_col'], assignment_params['fictive_attr'])\n",
    "    X_test, y_test   = load_dataset(file_name_test, assignment_params['y_col'], assignment_params['fictive_attr'])\n",
    "    y_train.name,y_test.name='target','target'\n",
    "    train_set=pd.concat([X_train,y_train], axis=1)\n",
    "    test_set =pd.concat([X_test,y_test], axis=1)   \n",
    "    trained_scaling_info,  train_set_scaled = scale_fit_transform(train_set, assignment_params['fictive_attr'])\n",
    "    test_set_scaled = scale_transform_for_test(trained_scaling_info,  test_set, assignment_params['fictive_attr'])\n",
    "    X_train_scaled,y_train_scaled=train_set_scaled.drop(columns=['target']), train_set_scaled['target']\n",
    "    X_test_scaled,y_test_scaled=test_set_scaled.drop(columns=['target']), test_set_scaled['target']\n",
    "except Exception as e:\n",
    "    print ('You probably have a syntax or implementation error,  \\nerror Message:',str(e), '\\nTry fixing your code')\n",
    "    raise\n",
    "np.testing.assert_array_equal(train_set_scaled.columns, test_set_scaled.columns, 'scaled train and test dataframes should have the same column names')\n",
    "\n",
    "print (\"\\nGood Job!\\nYou've passed the 2nd test for the 'scale_transform_for_test' function implementation :-)\")"
   ]
  },
  {
   "cell_type": "code",
   "execution_count": 31,
   "metadata": {
    "deletable": false,
    "editable": false,
    "nbgrader": {
     "cell_type": "code",
     "checksum": "8d6ff665e20639d905e1b523d03fd526",
     "grade": true,
     "grade_id": "test3b-3_scale_transform_for_test",
     "locked": true,
     "points": 0.6,
     "schema_version": 3,
     "solution": false,
     "task": false
    }
   },
   "outputs": [
    {
     "name": "stdout",
     "output_type": "stream",
     "text": [
      "Parts 3.b. - Test 3 (name: test3b-3_scale_transform_for_test, points: 0.6)\n",
      "\t--->Testing the implementation of 'scale_transform_for_test' ...\n",
      "\t\tTesing a 't-distribution standardization' scale type ...\n",
      "\n",
      "Good Job!\n",
      "You've passed the 3rd test for the 'scale_transform_for_test' functions implementation :-)\n"
     ]
    }
   ],
   "source": [
    "# 3.b.\n",
    "# ------------>>>>>>>> RUN THIS CODE CELL <<<<<<<<------------\n",
    "# --------  (run only)\n",
    "# === CODE TYPE: GRADED TEST \n",
    "\n",
    "print (\"Parts 3.b. - Test 3 (name: test3b-3_scale_transform_for_test, points: 0.6)\")\n",
    "print (\"\\t--->Testing the implementation of 'scale_transform_for_test' ...\")\n",
    "\n",
    "file_name_train = 'data' + os.sep + 'car_prices_train.csv'\n",
    "file_name_test  = 'data' + os.sep + 'car_prices_test.csv'\n",
    "try:        \n",
    "    student_name, student_id = myName(), myId()\n",
    "    assert type(student_name) is str and type(student_id) is int, \"name is not a string or id is not an integer\"  \n",
    "    assignment_params = get_assignment_params(student_id)\n",
    "    print (\"\\t\\tTesing a '\" + assignment_params['scale_type'] + \"' scale type ...\")\n",
    "    X_train, y_train = load_dataset(file_name_train, assignment_params['y_col'], assignment_params['fictive_attr'])\n",
    "    X_test, y_test   = load_dataset(file_name_test, assignment_params['y_col'], assignment_params['fictive_attr'])\n",
    "    y_train.name,y_test.name='target','target'\n",
    "    train_set=pd.concat([X_train,y_train], axis=1)\n",
    "    test_set =pd.concat([X_test,y_test], axis=1)   \n",
    "    \n",
    "    trained_scaling_info,  train_set_scaled = scale_fit_transform(train_set, assignment_params['fictive_attr'])\n",
    "    test_set_scaled = scale_transform_for_test(trained_scaling_info,  test_set, assignment_params['fictive_attr'])\n",
    "    X_train_scaled,y_train_scaled=train_set_scaled.drop(columns=['target']), train_set_scaled['target']\n",
    "    X_test_scaled,y_test_scaled=test_set_scaled.drop(columns=['target']), test_set_scaled['target']\n",
    "except Exception as e:\n",
    "    print ('You probably have a syntax or implementation error,  \\nerror Message:',str(e), '\\nTry fixing your code')\n",
    "    raise\n",
    "if 't-distribution standardization' == assignment_params['scale_type']:\n",
    "    assert np.round(test_set_scaled.max().mean()-0.0005,2)== 3.39, 'Wrong max standardized scaled values'\n",
    "else:\n",
    "    assert np.round(test_set_scaled.min().mean()+0.005,2) == -0.8, 'Wrong min minmax scaled values'\n",
    "    \n",
    "print (\"\\nGood Job!\\nYou've passed the 3rd test for the 'scale_transform_for_test' functions implementation :-)\")"
   ]
  },
  {
   "cell_type": "markdown",
   "metadata": {
    "deletable": false,
    "editable": false,
    "nbgrader": {
     "cell_type": "markdown",
     "checksum": "fc3bda4e863d7b0dbc8ead110dd22c5a",
     "grade": false,
     "grade_id": "cell-56014bfe9d8d5c39",
     "locked": true,
     "schema_version": 3,
     "solution": false,
     "task": false
    }
   },
   "source": [
    "[Go to the beginning of the assignment](#home)\n",
    "<a id=\"predict\"></a>\n",
    "### 4. Predict"
   ]
  },
  {
   "cell_type": "markdown",
   "metadata": {
    "deletable": false,
    "editable": false,
    "nbgrader": {
     "cell_type": "markdown",
     "checksum": "8765b27e1bd795d1c69601fc145ff798",
     "grade": false,
     "grade_id": "cell-6b81be6316beb6a8",
     "locked": true,
     "schema_version": 3,
     "solution": false,
     "task": false
    }
   },
   "source": [
    "### Part 4. Instructions\n",
    "<u>Part 4.</u> - predict</u> (Linear regression - predict); \n",
    "<u>method name</u>: <b>predict</b><br/>\n",
    "\n",
    "<pre>\n",
    "Change the following method to calculate and return the linear regression prediction \n",
    "(for either the multivariate or the univariate case).\n",
    " Note: the 'predict' method should be used both for the predictions on the test-set,\n",
    "       as well as during the training process.     \n",
    "------------\n",
    "input parameters:\n",
    "- x_feature_vectors - a dataframe containing all feature vectors for which we want to predict the y_predicted values,\n",
    "                      using the linear regression model's weights.\n",
    "                 Note: it is expected the the x_feature_vectors contain a fictive column of features, with \n",
    "                       the constant value of 1, representing the x_0 fictive feature (called 'x_0').\n",
    "- trained_w - the trained w-vector, i.e. the trained weight vector \n",
    "              (or the weight vector from some step in the training).\n",
    "                 Note: it is expected the the trained_w series contain, the w_0 cell as a first cell.\n",
    "                       The index of all cells are expected to fit the 'columns' (i.e. column titles which\n",
    "                       are the column indexes) of the 'x_feature_vectors' dataframe, including the 'x_0' \n",
    "                       fictive column.\n",
    "------------\n",
    "return value:\n",
    "- y_predicted - a series of the predictions for each input feature vector instance\n",
    "------------\n",
    "The return statement should look like the following:\n",
    "return y_predicted\n",
    "</pre>"
   ]
  },
  {
   "cell_type": "code",
   "execution_count": 32,
   "metadata": {
    "deletable": false,
    "nbgrader": {
     "cell_type": "code",
     "checksum": "0e7b36eaa6fac7a67589039790d171e1",
     "grade": false,
     "grade_id": "cell-58f61e66de055e12",
     "locked": false,
     "schema_version": 3,
     "solution": true,
     "task": false
    }
   },
   "outputs": [],
   "source": [
    "# 4.\n",
    "# ------------>>>>>>>> RUN THIS CODE CELL <<<<<<<<------------\n",
    "# --------  (run after implementation)\n",
    "# === CODE TYPE: ASSISTANCE TO ANSWER \n",
    "# ---- Add assistance code here IF NEEDED:\n",
    "# YOUR CODE HERE\n"
   ]
  },
  {
   "cell_type": "code",
   "execution_count": 33,
   "metadata": {
    "deletable": false,
    "nbgrader": {
     "cell_type": "code",
     "checksum": "a4c09ed5bb7aa583100c93bb2d25ed96",
     "grade": false,
     "grade_id": "answer-predict",
     "locked": false,
     "schema_version": 3,
     "solution": true,
     "task": false
    }
   },
   "outputs": [],
   "source": [
    "# 4.\n",
    "# ------------>>>>>>>> RUN THIS CODE CELL <<<<<<<<------------\n",
    "# --------  (run after implementation)\n",
    "# === CODE TYPE: ANSWER \n",
    "\n",
    "def predict(x_featureVectors,trained_w):\n",
    "    x_featureMul = x_featureVectors.copy()\n",
    "    colm = x_featureMul.columns.values\n",
    "    for i in range(len(colm)):\n",
    "        x_featureMul[colm[i]] = x_featureMul[colm[i]].apply(lambda x: (x* trained_w[i]))\n",
    "    y_predicted = x_featureMul.sum(axis = 1);\n",
    "    print(y_predicted)\n",
    "    return y_predicted"
   ]
  },
  {
   "cell_type": "code",
   "execution_count": 34,
   "metadata": {
    "scrolled": true
   },
   "outputs": [
    {
     "name": "stdout",
     "output_type": "stream",
     "text": [
      "0     204.2\n",
      "1     204.2\n",
      "2     203.8\n",
      "3     204.2\n",
      "4     203.5\n",
      "      ...  \n",
      "95    204.0\n",
      "96    203.8\n",
      "97    203.7\n",
      "98    203.9\n",
      "99    203.7\n",
      "Length: 100, dtype: float64\n"
     ]
    }
   ],
   "source": [
    "# 4.\n",
    "# ------------>>>>>>>> RUN THIS CODE CELL <<<<<<<<------------\n",
    "# --------  (run after implementation)\n",
    "# === CODE TYPE: SELF TESTING\n",
    "# Use the following code to test your implementation:\n",
    "# ---- load and scale test-set:\n",
    "file_name_test  = 'data' + os.sep + 'car_prices_test.csv'\n",
    "X_test, y_test   = load_dataset(file_name_test, assignment_params['y_col'], assignment_params['fictive_attr'])\n",
    "# ---- predict (some of) the test examples (with some of the features), \n",
    "#              using a fake w vector:\n",
    "w_fake = pd.Series([2.5, 0.1],index=X_train_scaled.iloc[:,:2].columns)\n",
    "# ~~~~ CALL YOUR 'predict' IMPLEMENTATION: ~~~~ #\n",
    "y_predicted = predict(X_test.iloc[:100,:2],w_fake)\n",
    "# --- add additional code to check your code if needed:\n",
    "# YOUR CODE HERE\n"
   ]
  },
  {
   "cell_type": "code",
   "execution_count": 35,
   "metadata": {},
   "outputs": [],
   "source": [
    "# 4.\n",
    "# ------------>>>>>>>> RUN THIS CODE CELL <<<<<<<<------------\n",
    "# --------  (run after implementation, if used)\n",
    "# === CODE TYPE: SELF TESTING\n",
    "# ---- Add your additional tests here if needed:\n",
    "# YOUR CODE HERE\n"
   ]
  },
  {
   "cell_type": "code",
   "execution_count": 36,
   "metadata": {
    "deletable": false,
    "editable": false,
    "nbgrader": {
     "cell_type": "code",
     "checksum": "36427278562570d641caeada61ec646f",
     "grade": true,
     "grade_id": "test4-1_predict",
     "locked": true,
     "points": 0.1,
     "schema_version": 3,
     "solution": false,
     "task": false
    }
   },
   "outputs": [
    {
     "name": "stdout",
     "output_type": "stream",
     "text": [
      "Parts 4. - Test 1 (name: test4-1_predict, points: 0.1) - Sanity\n",
      "\t--->Testing the implementation of 'predict' ...\n",
      "0     204.2\n",
      "1     204.2\n",
      "2     203.8\n",
      "3     204.2\n",
      "4     203.5\n",
      "      ...  \n",
      "95    204.0\n",
      "96    203.8\n",
      "97    203.7\n",
      "98    203.9\n",
      "99    203.7\n",
      "Length: 100, dtype: float64\n",
      "\n",
      "Good Job!\n",
      "You've passed the 1st test for the 'predict' function implementation :-)\n"
     ]
    }
   ],
   "source": [
    "# 4.\n",
    "# ------------>>>>>>>> RUN THIS CODE CELL <<<<<<<<------------\n",
    "# --------  (run only)\n",
    "# === CODE TYPE: GRADED TEST \n",
    "\n",
    "print (\"Parts 4. - Test 1 (name: test4-1_predict, points: 0.1) - Sanity\")\n",
    "print (\"\\t--->Testing the implementation of 'predict' ...\")\n",
    "\n",
    "file_name_train = 'data' + os.sep + 'car_prices_train.csv'\n",
    "file_name_test  = 'data' + os.sep + 'car_prices_test.csv'\n",
    "try:        \n",
    "    student_name, student_id = myName(), myId()\n",
    "    assert type(student_name) is str and type(student_id) is int, \"name is not a string or id is not an integer\"  \n",
    "    assignment_params = get_assignment_params(student_id)\n",
    "    X_train, y_train = load_dataset(file_name_train, assignment_params['y_col'], assignment_params['fictive_attr'])\n",
    "    X_test, y_test   = load_dataset(file_name_test, assignment_params['y_col'], assignment_params['fictive_attr'])\n",
    "    y_train.name,y_test.name='target','target'\n",
    "    train_set=pd.concat([X_train,y_train], axis=1)\n",
    "    test_set =pd.concat([X_test,y_test], axis=1)   \n",
    "    trained_scaling_info,  train_set_scaled = scale_fit_transform(train_set, assignment_params['fictive_attr'])\n",
    "    test_set_scaled = scale_transform_for_test(trained_scaling_info,  test_set, assignment_params['fictive_attr'])\n",
    "    X_train_scaled,y_train_scaled=train_set_scaled.drop(columns=['target']), train_set_scaled['target']\n",
    "    X_test_scaled,y_test_scaled=test_set_scaled.drop(columns=['target']), test_set_scaled['target']\n",
    "    w_fake = pd.Series([2.5, 0.1],index=X_train_scaled.iloc[:,:2].columns)\n",
    "    y_predicted = predict(X_test.iloc[:100,:2],w_fake)\n",
    "except Exception as e:\n",
    "    print ('You probably have a syntax or implementation error,  \\nerror Message:',str(e), '\\nTry fixing your code')\n",
    "    raise\n",
    "\n",
    "print (\"\\nGood Job!\\nYou've passed the 1st test for the 'predict' function implementation :-)\")"
   ]
  },
  {
   "cell_type": "code",
   "execution_count": 37,
   "metadata": {
    "deletable": false,
    "editable": false,
    "nbgrader": {
     "cell_type": "code",
     "checksum": "d2a4a0a56f1f69422ac8b79b0c90388a",
     "grade": true,
     "grade_id": "test4-2_predict",
     "locked": true,
     "points": 0.4,
     "schema_version": 3,
     "solution": false,
     "task": false
    }
   },
   "outputs": [
    {
     "name": "stdout",
     "output_type": "stream",
     "text": [
      "Parts 4. - Test 2 (name: test4-2_predict, points: 0.4)\n",
      "\t--->Testing the implementation of 'predict' ...\n",
      "5    2.450072\n",
      "6    2.527480\n",
      "dtype: float64\n",
      "\n",
      "Good Job!\n",
      "You've passed the 2nd test for the 'predict' function implementation :-)\n"
     ]
    }
   ],
   "source": [
    "# 4.\n",
    "# ------------>>>>>>>> RUN THIS CODE CELL <<<<<<<<------------\n",
    "# --------  (run only)\n",
    "# === CODE TYPE: GRADED TEST \n",
    "\n",
    "print (\"Parts 4. - Test 2 (name: test4-2_predict, points: 0.4)\")\n",
    "print (\"\\t--->Testing the implementation of 'predict' ...\")\n",
    "\n",
    "file_name_train = 'data' + os.sep + 'car_prices_train.csv'\n",
    "file_name_test  = 'data' + os.sep + 'car_prices_test.csv'\n",
    "try:        \n",
    "    student_name, student_id = myName(), myId()\n",
    "    assert type(student_name) is str and type(student_id) is int, \"name is not a string or id is not an integer\"  \n",
    "    assignment_params = get_assignment_params(student_id)\n",
    "    X_train, y_train = load_dataset(file_name_train, assignment_params['y_col'], assignment_params['fictive_attr'])\n",
    "    X_test, y_test   = load_dataset(file_name_test, assignment_params['y_col'], assignment_params['fictive_attr'])\n",
    "    y_train.name,y_test.name='target','target'\n",
    "    train_set=pd.concat([X_train,y_train], axis=1)\n",
    "    test_set =pd.concat([X_test,y_test], axis=1)   \n",
    "    trained_scaling_info,  train_set_scaled = scale_fit_transform(train_set, assignment_params['fictive_attr'])\n",
    "    test_set_scaled = scale_transform_for_test(trained_scaling_info,  test_set, assignment_params['fictive_attr'])\n",
    "    X_train_scaled,y_train_scaled=train_set_scaled.drop(columns=['target']), train_set_scaled['target']\n",
    "    X_test_scaled,y_test_scaled=test_set_scaled.drop(columns=['target']), test_set_scaled['target']\n",
    "    w_fake = pd.Series([2.5, 0.1],index=X_train_scaled.iloc[:,:2].columns)\n",
    "    y_predicted = predict(X_test_scaled.iloc[5:7,:2],w_fake)\n",
    "except Exception as e:\n",
    "    print ('You probably have a syntax or implementation error,  \\nerror Message:',str(e), '\\nTry fixing your code')\n",
    "    raise\n",
    "\n",
    "if 't-distribution standardization' == assignment_params['scale_type']:\n",
    "    assert 2.45 == np.round(y_predicted.values[0],2), 'Wrong output for predict'\n",
    "else:    \n",
    "    assert 2.56 == np.round(y_predicted.values[1]-0.0005,2), 'Wrong output for predict'\n",
    "\n",
    "print (\"\\nGood Job!\\nYou've passed the 2nd test for the 'predict' function implementation :-)\")"
   ]
  },
  {
   "cell_type": "code",
   "execution_count": 38,
   "metadata": {
    "deletable": false,
    "editable": false,
    "nbgrader": {
     "cell_type": "code",
     "checksum": "e06044485834d8d3ffba3476c06274ab",
     "grade": true,
     "grade_id": "test4-3_predict",
     "locked": true,
     "points": 0.5,
     "schema_version": 3,
     "solution": false,
     "task": false
    }
   },
   "outputs": [
    {
     "name": "stdout",
     "output_type": "stream",
     "text": [
      "Parts 4. - Test 3 (name: test4-3_predict, points: 0.5)\n",
      "\t--->Testing the implementation of 'predict' ...\n",
      "\n",
      "\t====> Full grading test - the following test is invisible. You will not know if you passed it, before grades are returned to the students\n"
     ]
    }
   ],
   "source": [
    "# 4.\n",
    "# ------------>>>>>>>> RUN THIS CODE CELL <<<<<<<<------------\n",
    "# --------  (run only)\n",
    "# === CODE TYPE: GRADED TEST \n",
    "\n",
    "print (\"Parts 4. - Test 3 (name: test4-3_predict, points: 0.5)\")\n",
    "print (\"\\t--->Testing the implementation of 'predict' ...\")\n",
    "print (\"\\n\\t====> Full grading test - the following test is invisible. You will not know if you passed it, before grades are returned to the students\")\n"
   ]
  },
  {
   "cell_type": "markdown",
   "metadata": {
    "deletable": false,
    "editable": false,
    "nbgrader": {
     "cell_type": "markdown",
     "checksum": "e3f3ab26b733dbefcf3d35601433dc14",
     "grade": false,
     "grade_id": "cell-9dd91b03943bf6b6",
     "locked": true,
     "schema_version": 3,
     "solution": false,
     "task": false
    }
   },
   "source": [
    "[Go to the beginning of the assignment](#home)\n",
    "<a id=\"fit\"></a>\n",
    "### 5. Fit - training\n",
    "<img src=\"./images/gradientDescent_animation.gif\" alt=\"Linear Regression w/Gradient Descent\" width=\"400\" align='left'/>"
   ]
  },
  {
   "cell_type": "markdown",
   "metadata": {
    "deletable": false,
    "editable": false,
    "nbgrader": {
     "cell_type": "markdown",
     "checksum": "000fb6b07d1f5a54f22b317f35e32cb8",
     "grade": false,
     "grade_id": "cell-5737104d8c3cf65d",
     "locked": true,
     "schema_version": 3,
     "solution": false,
     "task": false
    }
   },
   "source": [
    "### Part 5. Instructions\n",
    "<u>Part 5.</u> - multivariate linear regression</u> (training with gradient descent);\n",
    "<u>method name</u>: <b>fit</b><br/>\n",
    "\n",
    "<pre>\n",
    "Change the following method to train a multivariate (two or more features) linear regression model, \n",
    "using the gradient descent algorithm and returns the trained wight vector w.\n",
    "  Notes: \n",
    "  * note that the initial value of the weight vectors should be 0 for every attribute (including w_0).\n",
    "  Note also: you should use the predict method for interim prediction, during training.\n",
    "------------\n",
    "input parameters:\n",
    "- X_train - a dataframe containing all feature vectors of the train set.\n",
    "- y_train - a series of containing all target values per train instance.\n",
    "- alpha - the learning rate\n",
    "- num_iterations - number of iterations to run multivariate gradient descent\n",
    "------------\n",
    "return value:\n",
    "- trained_w - a series containing the values of the vector of weights (w), including w_0\n",
    "              * note the indexes should be equal to the 'X_train' dataframe's column names\n",
    "                (which are actually column indexes), including 'x_0'\n",
    "------------\n",
    "The return statement should look like the following:\n",
    "return trained_w\n",
    "</pre>\n",
    "\n",
    "#### possible output:\n",
    "The possible 'trained_w' might look like this:\n",
    "\n",
    "| | |\n",
    "| :- | :- |\n",
    "| x_0 | -0.00524 |\n",
    "| year | -2.33335 |\n",
    "| is_diesel | -1.11111 |\n",
    "| owner | 3.00097 |\n",
    "| is_automatic | -0.11424 |\n",
    "| km_driven | -1.03333 |\n",
    "| seats | 2.545454 |\n",
    "| mileage (kmpl) | 0.121212 |\n",
    "| max_horse_power | 0.972972 |\n",
    "| is_individual_seller | -0.012013014 |\n",
    "| engine_capacity_(cc) | 0.100101102103 |"
   ]
  },
  {
   "cell_type": "code",
   "execution_count": 39,
   "metadata": {
    "deletable": false,
    "nbgrader": {
     "cell_type": "code",
     "checksum": "5de95c9c5ad040f13cdafb6dcf5d1e18",
     "grade": false,
     "grade_id": "cell-5facc5dfbf2b358a",
     "locked": false,
     "schema_version": 3,
     "solution": true,
     "task": false
    }
   },
   "outputs": [],
   "source": [
    "# 5.\n",
    "# ------------>>>>>>>> RUN THIS CODE CELL <<<<<<<<------------\n",
    "# --------  (run after implementation)\n",
    "# === CODE TYPE: ASSISTANCE TO ANSWER \n",
    "# ---- Add assistance code here IF NEEDED:\n",
    "# YOUR CODE HERE\n"
   ]
  },
  {
   "cell_type": "code",
   "execution_count": 40,
   "metadata": {
    "deletable": false,
    "nbgrader": {
     "cell_type": "code",
     "checksum": "d4637be8607aee1609f30b0a00858284",
     "grade": false,
     "grade_id": "answer-fit",
     "locked": false,
     "schema_version": 3,
     "solution": true,
     "task": false
    }
   },
   "outputs": [],
   "source": [
    "# 5.\n",
    "# ------------>>>>>>>> RUN THIS CODE CELL <<<<<<<<------------\n",
    "# --------  (run after implementation)\n",
    "# === CODE TYPE: ANSWER \n",
    "\n",
    "def fit(X_train,y_train,alpha,num_iterations):\n",
    "    from IPython.display import display\n",
    "    row = list(X_train.columns.values) \n",
    "    trained_w = pd.Series(0, index= X_train.columns.values)\n",
    "    trained_w_temp = trained_w.copy()\n",
    "    for i in range(num_iterations):\n",
    "        y_predicted = predict(X_train,trained_w)\n",
    "        display(y_predicted)\n",
    "        delta = y_predicted - y_train\n",
    "        for ii in range(X_train.shape[1]): #num of culomn\n",
    "            sum1 = 0\n",
    "            if ii == 0:\n",
    "                sum1 = delta.sum()\n",
    "                total = alpha * 2 * (1/(X_train.shape[0])) *sum1\n",
    "                trained_w_temp.loc[row[0]] = trained_w_temp.loc[row[0]] - total\n",
    "            else :\n",
    "                sum1 = 0\n",
    "                for iii in range(X_train.shape[0]):\n",
    "                    temp = 0\n",
    "                    temp = X_train.iloc[iii,ii]\n",
    "                    temp = temp * delta.iloc[iii]\n",
    "                    sum1 += temp\n",
    "                total = alpha * 2 * (1/(X_train.shape[0])) *sum1\n",
    "                trained_w_temp.loc[row[ii]] =trained_w_temp.loc[row[ii]] - total\n",
    "        trained_w = trained_w_temp.copy()\n",
    "    \n",
    "    display(trained_w)\n",
    "    return trained_w"
   ]
  },
  {
   "cell_type": "code",
   "execution_count": 41,
   "metadata": {},
   "outputs": [
    {
     "name": "stdout",
     "output_type": "stream",
     "text": [
      "0       0.0\n",
      "1       0.0\n",
      "2       0.0\n",
      "3       0.0\n",
      "4       0.0\n",
      "       ... \n",
      "5855    0.0\n",
      "5856    0.0\n",
      "5857    0.0\n",
      "5858    0.0\n",
      "5859    0.0\n",
      "Length: 5860, dtype: float64\n"
     ]
    },
    {
     "data": {
      "text/plain": [
       "0       0.0\n",
       "1       0.0\n",
       "2       0.0\n",
       "3       0.0\n",
       "4       0.0\n",
       "       ... \n",
       "5855    0.0\n",
       "5856    0.0\n",
       "5857    0.0\n",
       "5858    0.0\n",
       "5859    0.0\n",
       "Length: 5860, dtype: float64"
      ]
     },
     "metadata": {},
     "output_type": "display_data"
    },
    {
     "data": {
      "text/plain": [
       "x_0     9.336483e-19\n",
       "year    8.157969e-03\n",
       "dtype: float64"
      ]
     },
     "metadata": {},
     "output_type": "display_data"
    }
   ],
   "source": [
    "# 5.\n",
    "# ------------>>>>>>>> RUN THIS CODE CELL <<<<<<<<------------\n",
    "# --------  (run after implementation)\n",
    "# === CODE TYPE: SELF TESTING\n",
    "# Use the following code to test your implementation:\n",
    "# ---- load and scale train-set:\n",
    "file_name_train = 'data' + os.sep + 'car_prices_train.csv'\n",
    "student_name, student_id = myName(), myId()\n",
    "assignment_params = get_assignment_params(student_id)\n",
    "X_train, y_train = load_dataset(file_name_train, assignment_params['y_col'], assignment_params['fictive_attr'])\n",
    "y_train.name='target'\n",
    "train_set=pd.concat([X_train,y_train], axis=1)\n",
    "trained_scaling_info,  train_set_scaled = scale_fit_transform(train_set, assignment_params['fictive_attr'])\n",
    "# ---- fit [only 1D (1st 2 columns)] - perform training and get model:\n",
    "X_train_scaled,y_train_scaled=train_set_scaled.drop(columns=['target']).iloc[:,:2], train_set_scaled['target']\n",
    "alpha,num_iterations = 0.01,1\n",
    "# ~~~~ CALL YOUR 'fit' IMPLEMENTATION: ~~~~ #\n",
    "trained_w = fit(X_train_scaled,y_train_scaled,alpha,num_iterations)    \n",
    "# --- add additional code to check your code if needed:\n",
    "# YOUR CODE HERE\n"
   ]
  },
  {
   "cell_type": "code",
   "execution_count": 66,
   "metadata": {},
   "outputs": [],
   "source": [
    "# 5.\n",
    "# ------------>>>>>>>> RUN THIS CODE CELL <<<<<<<<------------\n",
    "# --------  (run after implementation, if used)\n",
    "# === CODE TYPE: SELF TESTING\n",
    "# ---- Add your additional tests here if needed:\n",
    "# YOUR CODE HERE\n"
   ]
  },
  {
   "cell_type": "code",
   "execution_count": 67,
   "metadata": {
    "deletable": false,
    "editable": false,
    "nbgrader": {
     "cell_type": "code",
     "checksum": "2440d7a401507642d73ce20debe8e93b",
     "grade": true,
     "grade_id": "test5-1_fit",
     "locked": true,
     "points": 0.1,
     "schema_version": 3,
     "solution": false,
     "task": false
    }
   },
   "outputs": [
    {
     "name": "stdout",
     "output_type": "stream",
     "text": [
      "Parts 5. - Test 1 (name: test5-1_fit, points: 0.1) - Sanity\n",
      "\t--->Testing the implementation of 'fit' ...\n",
      "0       0.0\n",
      "1       0.0\n",
      "2       0.0\n",
      "3       0.0\n",
      "4       0.0\n",
      "       ... \n",
      "5855    0.0\n",
      "5856    0.0\n",
      "5857    0.0\n",
      "5858    0.0\n",
      "5859    0.0\n",
      "Length: 5860, dtype: float64\n"
     ]
    },
    {
     "data": {
      "text/plain": [
       "0       0.0\n",
       "1       0.0\n",
       "2       0.0\n",
       "3       0.0\n",
       "4       0.0\n",
       "       ... \n",
       "5855    0.0\n",
       "5856    0.0\n",
       "5857    0.0\n",
       "5858    0.0\n",
       "5859    0.0\n",
       "Length: 5860, dtype: float64"
      ]
     },
     "metadata": {},
     "output_type": "display_data"
    },
    {
     "data": {
      "text/plain": [
       "x_0     9.336483e-19\n",
       "year    8.157969e-03\n",
       "dtype: float64"
      ]
     },
     "metadata": {},
     "output_type": "display_data"
    },
    {
     "name": "stdout",
     "output_type": "stream",
     "text": [
      "\n",
      "Good Job!\n",
      "You've passed the 1st test for the 'fit' function implementation :-)\n"
     ]
    }
   ],
   "source": [
    "# 5.\n",
    "# ------------>>>>>>>> RUN THIS CODE CELL <<<<<<<<------------\n",
    "# --------  (run only)\n",
    "# === CODE TYPE: GRADED TEST \n",
    "\n",
    "print (\"Parts 5. - Test 1 (name: test5-1_fit, points: 0.1) - Sanity\")\n",
    "print (\"\\t--->Testing the implementation of 'fit' ...\")\n",
    "\n",
    "file_name_train = 'data' + os.sep + 'car_prices_train.csv'\n",
    "file_name_test  = 'data' + os.sep + 'car_prices_test.csv'\n",
    "try:        \n",
    "    student_name, student_id = myName(), myId()\n",
    "    assert type(student_name) is str and type(student_id) is int, \"name is not a string or id is not an integer\"  \n",
    "    assignment_params = get_assignment_params(student_id)\n",
    "    X_train, y_train = load_dataset(file_name_train, assignment_params['y_col'], assignment_params['fictive_attr'])\n",
    "    X_test, y_test   = load_dataset(file_name_test, assignment_params['y_col'], assignment_params['fictive_attr'])\n",
    "    y_train.name,y_test.name='target','target'\n",
    "    train_set=pd.concat([X_train,y_train], axis=1)\n",
    "    test_set =pd.concat([X_test,y_test], axis=1)   \n",
    "    trained_scaling_info,  train_set_scaled = scale_fit_transform(train_set, assignment_params['fictive_attr'])\n",
    "    test_set_scaled = scale_transform_for_test(trained_scaling_info,  test_set, assignment_params['fictive_attr'])\n",
    "    X_train_scaled,y_train_scaled=train_set_scaled.drop(columns=['target']).iloc[:,:2], train_set_scaled['target']\n",
    "    X_test_scaled,y_test_scaled=test_set_scaled.drop(columns=['target']).iloc[:,:2], test_set_scaled['target']\n",
    "    alpha,num_iterations = 0.01,1\n",
    "    trained_w = fit(X_train_scaled,y_train_scaled,alpha,num_iterations)    \n",
    "except Exception as e:\n",
    "    print ('You probably have a syntax or implementation error,  \\nerror Message:',str(e), '\\nTry fixing your code')\n",
    "\n",
    "print (\"\\nGood Job!\\nYou've passed the 1st test for the 'fit' function implementation :-)\")"
   ]
  },
  {
   "cell_type": "code",
   "execution_count": 68,
   "metadata": {
    "deletable": false,
    "editable": false,
    "nbgrader": {
     "cell_type": "code",
     "checksum": "1e3a08db60bbb4cff4e90b7b53a1d45a",
     "grade": true,
     "grade_id": "test5-2_fit",
     "locked": true,
     "points": 0.2,
     "schema_version": 3,
     "solution": false,
     "task": false
    }
   },
   "outputs": [
    {
     "name": "stdout",
     "output_type": "stream",
     "text": [
      "Parts 5. - Test 2 (name: test5-2_fit, points: 0.2) - Sanity (2)\n",
      "\t--->Testing the implementation of 'fit' ...\n",
      "0       0.0\n",
      "1       0.0\n",
      "2       0.0\n",
      "3       0.0\n",
      "4       0.0\n",
      "       ... \n",
      "5855    0.0\n",
      "5856    0.0\n",
      "5857    0.0\n",
      "5858    0.0\n",
      "5859    0.0\n",
      "Length: 5860, dtype: float64\n"
     ]
    },
    {
     "data": {
      "text/plain": [
       "0       0.0\n",
       "1       0.0\n",
       "2       0.0\n",
       "3       0.0\n",
       "4       0.0\n",
       "       ... \n",
       "5855    0.0\n",
       "5856    0.0\n",
       "5857    0.0\n",
       "5858    0.0\n",
       "5859    0.0\n",
       "Length: 5860, dtype: float64"
      ]
     },
     "metadata": {},
     "output_type": "display_data"
    },
    {
     "name": "stdout",
     "output_type": "stream",
     "text": [
      "0       0.004347\n",
      "1       0.004347\n",
      "2      -0.004073\n",
      "3      -0.006178\n",
      "4       0.008557\n",
      "          ...   \n",
      "5855    0.010662\n",
      "5856    0.000137\n",
      "5857    0.000137\n",
      "5858   -0.006178\n",
      "5859    0.008557\n",
      "Length: 5860, dtype: float64\n"
     ]
    },
    {
     "data": {
      "text/plain": [
       "0       0.004347\n",
       "1       0.004347\n",
       "2      -0.004073\n",
       "3      -0.006178\n",
       "4       0.008557\n",
       "          ...   \n",
       "5855    0.010662\n",
       "5856    0.000137\n",
       "5857    0.000137\n",
       "5858   -0.006178\n",
       "5859    0.008557\n",
       "Length: 5860, dtype: float64"
      ]
     },
     "metadata": {},
     "output_type": "display_data"
    },
    {
     "data": {
      "text/plain": [
       "x_0     1.903673e-18\n",
       "year    1.615281e-02\n",
       "dtype: float64"
      ]
     },
     "metadata": {},
     "output_type": "display_data"
    },
    {
     "name": "stdout",
     "output_type": "stream",
     "text": [
      "\n",
      "Good Job!\n",
      "You've passed the 2nd test for the 'fit' function implementation :-)\n"
     ]
    }
   ],
   "source": [
    "# 5.\n",
    "# ------------>>>>>>>> RUN THIS CODE CELL <<<<<<<<------------\n",
    "# --------  (run only)\n",
    "# === CODE TYPE: GRADED TEST \n",
    "\n",
    "print (\"Parts 5. - Test 2 (name: test5-2_fit, points: 0.2) - Sanity (2)\")\n",
    "print (\"\\t--->Testing the implementation of 'fit' ...\")\n",
    "\n",
    "file_name_train = 'data' + os.sep + 'car_prices_train.csv'\n",
    "file_name_test  = 'data' + os.sep + 'car_prices_test.csv'\n",
    "try:        \n",
    "    student_name, student_id = myName(), myId()\n",
    "    assert type(student_name) is str and type(student_id) is int, \"name is not a string or id is not an integer\"  \n",
    "    assignment_params = get_assignment_params(student_id)\n",
    "    X_train, y_train = load_dataset(file_name_train, assignment_params['y_col'], assignment_params['fictive_attr'])\n",
    "    X_test, y_test   = load_dataset(file_name_test, assignment_params['y_col'], assignment_params['fictive_attr'])\n",
    "    y_train.name,y_test.name='target','target'\n",
    "    train_set=pd.concat([X_train,y_train], axis=1)\n",
    "    test_set =pd.concat([X_test,y_test], axis=1)   \n",
    "    trained_scaling_info,  train_set_scaled = scale_fit_transform(train_set, assignment_params['fictive_attr'])\n",
    "    test_set_scaled = scale_transform_for_test(trained_scaling_info,  test_set, assignment_params['fictive_attr'])\n",
    "    X_train_scaled,y_train_scaled=train_set_scaled.drop(columns=['target']).iloc[:,:2], train_set_scaled['target']\n",
    "    X_test_scaled,y_test_scaled=test_set_scaled.drop(columns=['target']).iloc[:,:2], test_set_scaled['target']\n",
    "    alpha,num_iterations = 0.01,2\n",
    "    trained_w = fit(X_train_scaled,y_train_scaled,alpha,num_iterations)    \n",
    "except Exception as e:\n",
    "    print ('You probably have a syntax or implementation error,  \\nerror Message:',str(e), '\\nTry fixing your code')\n",
    "\n",
    "print (\"\\nGood Job!\\nYou've passed the 2nd test for the 'fit' function implementation :-)\")"
   ]
  },
  {
   "cell_type": "code",
   "execution_count": 69,
   "metadata": {
    "deletable": false,
    "editable": false,
    "nbgrader": {
     "cell_type": "code",
     "checksum": "dbf504672f9d7556821b043775950620",
     "grade": true,
     "grade_id": "test5-3_fit",
     "locked": true,
     "points": 0.2,
     "schema_version": 3,
     "solution": false,
     "task": false
    }
   },
   "outputs": [
    {
     "name": "stdout",
     "output_type": "stream",
     "text": [
      "Parts 5. - Test 3 (name: test5-3_fit, points: 0.2) - Sanity (3)\n",
      "\t--->Testing the implementation of 'fit' ...\n",
      "0       0.0\n",
      "1       0.0\n",
      "2       0.0\n",
      "3       0.0\n",
      "4       0.0\n",
      "       ... \n",
      "5855    0.0\n",
      "5856    0.0\n",
      "5857    0.0\n",
      "5858    0.0\n",
      "5859    0.0\n",
      "Length: 5860, dtype: float64\n"
     ]
    },
    {
     "data": {
      "text/plain": [
       "0       0.0\n",
       "1       0.0\n",
       "2       0.0\n",
       "3       0.0\n",
       "4       0.0\n",
       "       ... \n",
       "5855    0.0\n",
       "5856    0.0\n",
       "5857    0.0\n",
       "5858    0.0\n",
       "5859    0.0\n",
       "Length: 5860, dtype: float64"
      ]
     },
     "metadata": {},
     "output_type": "display_data"
    },
    {
     "name": "stdout",
     "output_type": "stream",
     "text": [
      "0       0.004347\n",
      "1       0.004347\n",
      "2      -0.004073\n",
      "3      -0.006178\n",
      "4       0.008557\n",
      "          ...   \n",
      "5855    0.010662\n",
      "5856    0.000137\n",
      "5857    0.000137\n",
      "5858   -0.006178\n",
      "5859    0.008557\n",
      "Length: 5860, dtype: float64\n"
     ]
    },
    {
     "data": {
      "text/plain": [
       "0       0.004347\n",
       "1       0.004347\n",
       "2      -0.004073\n",
       "3      -0.006178\n",
       "4       0.008557\n",
       "          ...   \n",
       "5855    0.010662\n",
       "5856    0.000137\n",
       "5857    0.000137\n",
       "5858   -0.006178\n",
       "5859    0.008557\n",
       "Length: 5860, dtype: float64"
      ]
     },
     "metadata": {},
     "output_type": "display_data"
    },
    {
     "name": "stdout",
     "output_type": "stream",
     "text": [
      "0       0.008607\n",
      "1       0.008607\n",
      "2      -0.008065\n",
      "3      -0.012233\n",
      "4       0.016942\n",
      "          ...   \n",
      "5855    0.021110\n",
      "5856    0.000271\n",
      "5857    0.000271\n",
      "5858   -0.012233\n",
      "5859    0.016942\n",
      "Length: 5860, dtype: float64\n"
     ]
    },
    {
     "data": {
      "text/plain": [
       "0       0.008607\n",
       "1       0.008607\n",
       "2      -0.008065\n",
       "3      -0.012233\n",
       "4       0.016942\n",
       "          ...   \n",
       "5855    0.021110\n",
       "5856    0.000271\n",
       "5857    0.000271\n",
       "5858   -0.012233\n",
       "5859    0.016942\n",
       "Length: 5860, dtype: float64"
      ]
     },
     "metadata": {},
     "output_type": "display_data"
    },
    {
     "name": "stdout",
     "output_type": "stream",
     "text": [
      "0       0.012781\n",
      "1       0.012781\n",
      "2      -0.011977\n",
      "3      -0.018166\n",
      "4       0.025160\n",
      "          ...   \n",
      "5855    0.031350\n",
      "5856    0.000402\n",
      "5857    0.000402\n",
      "5858   -0.018166\n",
      "5859    0.025160\n",
      "Length: 5860, dtype: float64\n"
     ]
    },
    {
     "data": {
      "text/plain": [
       "0       0.012781\n",
       "1       0.012781\n",
       "2      -0.011977\n",
       "3      -0.018166\n",
       "4       0.025160\n",
       "          ...   \n",
       "5855    0.031350\n",
       "5856    0.000402\n",
       "5857    0.000402\n",
       "5858   -0.018166\n",
       "5859    0.025160\n",
       "Length: 5860, dtype: float64"
      ]
     },
     "metadata": {},
     "output_type": "display_data"
    },
    {
     "name": "stdout",
     "output_type": "stream",
     "text": [
      "0       0.016873\n",
      "1       0.016873\n",
      "2      -0.015810\n",
      "3      -0.023981\n",
      "4       0.033214\n",
      "          ...   \n",
      "5855    0.041385\n",
      "5856    0.000531\n",
      "5857    0.000531\n",
      "5858   -0.023981\n",
      "5859    0.033214\n",
      "Length: 5860, dtype: float64\n"
     ]
    },
    {
     "data": {
      "text/plain": [
       "0       0.016873\n",
       "1       0.016873\n",
       "2      -0.015810\n",
       "3      -0.023981\n",
       "4       0.033214\n",
       "          ...   \n",
       "5855    0.041385\n",
       "5856    0.000531\n",
       "5857    0.000531\n",
       "5858   -0.023981\n",
       "5859    0.033214\n",
       "Length: 5860, dtype: float64"
      ]
     },
     "metadata": {},
     "output_type": "display_data"
    },
    {
     "name": "stdout",
     "output_type": "stream",
     "text": [
      "0       0.020882\n",
      "1       0.020882\n",
      "2      -0.019567\n",
      "3      -0.029679\n",
      "4       0.041107\n",
      "          ...   \n",
      "5855    0.051219\n",
      "5856    0.000657\n",
      "5857    0.000657\n",
      "5858   -0.029679\n",
      "5859    0.041107\n",
      "Length: 5860, dtype: float64\n"
     ]
    },
    {
     "data": {
      "text/plain": [
       "0       0.020882\n",
       "1       0.020882\n",
       "2      -0.019567\n",
       "3      -0.029679\n",
       "4       0.041107\n",
       "          ...   \n",
       "5855    0.051219\n",
       "5856    0.000657\n",
       "5857    0.000657\n",
       "5858   -0.029679\n",
       "5859    0.041107\n",
       "Length: 5860, dtype: float64"
      ]
     },
     "metadata": {},
     "output_type": "display_data"
    },
    {
     "name": "stdout",
     "output_type": "stream",
     "text": [
      "0       0.024811\n",
      "1       0.024811\n",
      "2      -0.023249\n",
      "3      -0.035264\n",
      "4       0.048841\n",
      "          ...   \n",
      "5855    0.060856\n",
      "5856    0.000781\n",
      "5857    0.000781\n",
      "5858   -0.035264\n",
      "5859    0.048841\n",
      "Length: 5860, dtype: float64\n"
     ]
    },
    {
     "data": {
      "text/plain": [
       "0       0.024811\n",
       "1       0.024811\n",
       "2      -0.023249\n",
       "3      -0.035264\n",
       "4       0.048841\n",
       "          ...   \n",
       "5855    0.060856\n",
       "5856    0.000781\n",
       "5857    0.000781\n",
       "5858   -0.035264\n",
       "5859    0.048841\n",
       "Length: 5860, dtype: float64"
      ]
     },
     "metadata": {},
     "output_type": "display_data"
    },
    {
     "name": "stdout",
     "output_type": "stream",
     "text": [
      "0       0.028662\n",
      "1       0.028662\n",
      "2      -0.026857\n",
      "3      -0.040737\n",
      "4       0.056421\n",
      "          ...   \n",
      "5855    0.070301\n",
      "5856    0.000902\n",
      "5857    0.000902\n",
      "5858   -0.040737\n",
      "5859    0.056421\n",
      "Length: 5860, dtype: float64\n"
     ]
    },
    {
     "data": {
      "text/plain": [
       "0       0.028662\n",
       "1       0.028662\n",
       "2      -0.026857\n",
       "3      -0.040737\n",
       "4       0.056421\n",
       "          ...   \n",
       "5855    0.070301\n",
       "5856    0.000902\n",
       "5857    0.000902\n",
       "5858   -0.040737\n",
       "5859    0.056421\n",
       "Length: 5860, dtype: float64"
      ]
     },
     "metadata": {},
     "output_type": "display_data"
    },
    {
     "name": "stdout",
     "output_type": "stream",
     "text": [
      "0       0.032436\n",
      "1       0.032436\n",
      "2      -0.030393\n",
      "3      -0.046100\n",
      "4       0.063850\n",
      "          ...   \n",
      "5855    0.079557\n",
      "5856    0.001021\n",
      "5857    0.001021\n",
      "5858   -0.046100\n",
      "5859    0.063850\n",
      "Length: 5860, dtype: float64\n"
     ]
    },
    {
     "data": {
      "text/plain": [
       "0       0.032436\n",
       "1       0.032436\n",
       "2      -0.030393\n",
       "3      -0.046100\n",
       "4       0.063850\n",
       "          ...   \n",
       "5855    0.079557\n",
       "5856    0.001021\n",
       "5857    0.001021\n",
       "5858   -0.046100\n",
       "5859    0.063850\n",
       "Length: 5860, dtype: float64"
      ]
     },
     "metadata": {},
     "output_type": "display_data"
    },
    {
     "name": "stdout",
     "output_type": "stream",
     "text": [
      "0       0.036134\n",
      "1       0.036134\n",
      "2      -0.033858\n",
      "3      -0.051357\n",
      "4       0.071130\n",
      "          ...   \n",
      "5855    0.088628\n",
      "5856    0.001138\n",
      "5857    0.001138\n",
      "5858   -0.051357\n",
      "5859    0.071130\n",
      "Length: 5860, dtype: float64\n"
     ]
    },
    {
     "data": {
      "text/plain": [
       "0       0.036134\n",
       "1       0.036134\n",
       "2      -0.033858\n",
       "3      -0.051357\n",
       "4       0.071130\n",
       "          ...   \n",
       "5855    0.088628\n",
       "5856    0.001138\n",
       "5857    0.001138\n",
       "5858   -0.051357\n",
       "5859    0.071130\n",
       "Length: 5860, dtype: float64"
      ]
     },
     "metadata": {},
     "output_type": "display_data"
    },
    {
     "data": {
      "text/plain": [
       "x_0     9.906372e-18\n",
       "year    7.461685e-02\n",
       "dtype: float64"
      ]
     },
     "metadata": {},
     "output_type": "display_data"
    },
    {
     "name": "stdout",
     "output_type": "stream",
     "text": [
      "\n",
      "Good Job!\n",
      "You've passed the 3rd test for the 'fit' function implementation :-)\n"
     ]
    }
   ],
   "source": [
    "# 5.\n",
    "# ------------>>>>>>>> RUN THIS CODE CELL <<<<<<<<------------\n",
    "# --------  (run only)\n",
    "# === CODE TYPE: GRADED TEST \n",
    "\n",
    "print (\"Parts 5. - Test 3 (name: test5-3_fit, points: 0.2) - Sanity (3)\")\n",
    "print (\"\\t--->Testing the implementation of 'fit' ...\")\n",
    "\n",
    "file_name_train = 'data' + os.sep + 'car_prices_train.csv'\n",
    "file_name_test  = 'data' + os.sep + 'car_prices_test.csv'\n",
    "try:        \n",
    "    student_name, student_id = myName(), myId()\n",
    "    assert type(student_name) is str and type(student_id) is int, \"name is not a string or id is not an integer\"  \n",
    "    assignment_params = get_assignment_params(student_id)\n",
    "    X_train, y_train = load_dataset(file_name_train, assignment_params['y_col'], assignment_params['fictive_attr'])\n",
    "    X_test, y_test   = load_dataset(file_name_test, assignment_params['y_col'], assignment_params['fictive_attr'])\n",
    "    y_train.name,y_test.name='target','target'\n",
    "    train_set=pd.concat([X_train,y_train], axis=1)\n",
    "    test_set =pd.concat([X_test,y_test], axis=1)   \n",
    "    trained_scaling_info,  train_set_scaled = scale_fit_transform(train_set, assignment_params['fictive_attr'])\n",
    "    test_set_scaled = scale_transform_for_test(trained_scaling_info,  test_set, assignment_params['fictive_attr'])\n",
    "    X_train_scaled,y_train_scaled=train_set_scaled.drop(columns=['target']).iloc[:,:2], train_set_scaled['target']\n",
    "    X_test_scaled,y_test_scaled=test_set_scaled.drop(columns=['target']).iloc[:,:2], test_set_scaled['target']\n",
    "    alpha,num_iterations = 0.01,10\n",
    "    trained_w = fit(X_train_scaled,y_train_scaled,alpha,num_iterations)    \n",
    "except Exception as e:\n",
    "    print ('You probably have a syntax or implementation error,  \\nerror Message:',str(e), '\\nTry fixing your code')\n",
    "\n",
    "print (\"\\nGood Job!\\nYou've passed the 3rd test for the 'fit' function implementation :-)\")"
   ]
  },
  {
   "cell_type": "code",
   "execution_count": 55,
   "metadata": {
    "deletable": false,
    "editable": false,
    "nbgrader": {
     "cell_type": "code",
     "checksum": "a790c299b435a044bb24ea22837faedd",
     "grade": true,
     "grade_id": "test5-4_fit",
     "locked": true,
     "points": 1.3,
     "schema_version": 3,
     "solution": false,
     "task": false
    }
   },
   "outputs": [
    {
     "name": "stdout",
     "output_type": "stream",
     "text": [
      "Parts 5. - Test 4 (name: test5-4_fit, points: 1.3)\n",
      "\t--->Testing the implementation of 'fit' ...\n"
     ]
    },
    {
     "data": {
      "text/plain": [
       "0       0.0\n",
       "1       0.0\n",
       "2       0.0\n",
       "3       0.0\n",
       "4       0.0\n",
       "       ... \n",
       "5855    0.0\n",
       "5856    0.0\n",
       "5857    0.0\n",
       "5858    0.0\n",
       "5859    0.0\n",
       "Length: 5860, dtype: float64"
      ]
     },
     "metadata": {},
     "output_type": "display_data"
    },
    {
     "data": {
      "text/plain": [
       "0       0.019462\n",
       "1       0.029708\n",
       "2      -0.016163\n",
       "3      -0.026668\n",
       "4       0.115535\n",
       "          ...   \n",
       "5855   -0.015995\n",
       "5856    0.012192\n",
       "5857   -0.028787\n",
       "5858   -0.025482\n",
       "5859   -0.007247\n",
       "Length: 5860, dtype: float64"
      ]
     },
     "metadata": {},
     "output_type": "display_data"
    },
    {
     "data": {
      "text/plain": [
       "0       0.038025\n",
       "1       0.057536\n",
       "2      -0.031533\n",
       "3      -0.051945\n",
       "4       0.225343\n",
       "          ...   \n",
       "5855   -0.030921\n",
       "5856    0.023265\n",
       "5857   -0.055911\n",
       "5858   -0.049740\n",
       "5859   -0.013950\n",
       "Length: 5860, dtype: float64"
      ]
     },
     "metadata": {},
     "output_type": "display_data"
    },
    {
     "data": {
      "text/plain": [
       "0       0.055735\n",
       "1       0.083595\n",
       "2      -0.046153\n",
       "3      -0.075906\n",
       "4       0.329717\n",
       "          ...   \n",
       "5855   -0.044847\n",
       "5856    0.033297\n",
       "5857   -0.081470\n",
       "5858   -0.072836\n",
       "5859   -0.020146\n",
       "Length: 5860, dtype: float64"
      ]
     },
     "metadata": {},
     "output_type": "display_data"
    },
    {
     "data": {
      "text/plain": [
       "0       0.072638\n",
       "1       0.107993\n",
       "2      -0.060061\n",
       "3      -0.098621\n",
       "4       0.428935\n",
       "          ...   \n",
       "5855   -0.057840\n",
       "5856    0.042365\n",
       "5857   -0.105555\n",
       "5858   -0.094825\n",
       "5859   -0.025871\n",
       "Length: 5860, dtype: float64"
      ]
     },
     "metadata": {},
     "output_type": "display_data"
    },
    {
     "data": {
      "text/plain": [
       "0       0.088773\n",
       "1       0.130826\n",
       "2      -0.073295\n",
       "3      -0.120158\n",
       "4       0.523261\n",
       "          ...   \n",
       "5855   -0.069959\n",
       "5856    0.050538\n",
       "5857   -0.128252\n",
       "5858   -0.115762\n",
       "5859   -0.031157\n",
       "Length: 5860, dtype: float64"
      ]
     },
     "metadata": {},
     "output_type": "display_data"
    },
    {
     "data": {
      "text/plain": [
       "0       0.104180\n",
       "1       0.152190\n",
       "2      -0.085891\n",
       "3      -0.140578\n",
       "4       0.612946\n",
       "          ...   \n",
       "5855   -0.081262\n",
       "5856    0.057880\n",
       "5857   -0.149641\n",
       "5858   -0.135698\n",
       "5859   -0.036035\n",
       "Length: 5860, dtype: float64"
      ]
     },
     "metadata": {},
     "output_type": "display_data"
    },
    {
     "data": {
      "text/plain": [
       "0       0.118897\n",
       "1       0.172172\n",
       "2      -0.097881\n",
       "3      -0.159942\n",
       "4       0.698226\n",
       "          ...   \n",
       "5855   -0.091803\n",
       "5856    0.064454\n",
       "5857   -0.169799\n",
       "5858   -0.154682\n",
       "5859   -0.040533\n",
       "Length: 5860, dtype: float64"
      ]
     },
     "metadata": {},
     "output_type": "display_data"
    },
    {
     "data": {
      "text/plain": [
       "0       0.132958\n",
       "1       0.190854\n",
       "2      -0.109298\n",
       "3      -0.178307\n",
       "4       0.779326\n",
       "          ...   \n",
       "5855   -0.101631\n",
       "5856    0.070315\n",
       "5857   -0.188798\n",
       "5858   -0.172760\n",
       "5859   -0.044678\n",
       "Length: 5860, dtype: float64"
      ]
     },
     "metadata": {},
     "output_type": "display_data"
    },
    {
     "data": {
      "text/plain": [
       "0       0.146397\n",
       "1       0.208316\n",
       "2      -0.120171\n",
       "3      -0.195724\n",
       "4       0.856458\n",
       "          ...   \n",
       "5855   -0.110793\n",
       "5856    0.075518\n",
       "5857   -0.206704\n",
       "5858   -0.189977\n",
       "5859   -0.048494\n",
       "Length: 5860, dtype: float64"
      ]
     },
     "metadata": {},
     "output_type": "display_data"
    },
    {
     "data": {
      "text/plain": [
       "x_0                     2.764569e-18\n",
       "year                    6.642977e-02\n",
       "is_diesel               3.220582e-02\n",
       "owner                  -3.540389e-02\n",
       "is_automatic            9.256685e-02\n",
       "km_driven              -3.289975e-02\n",
       "seats                   1.818593e-03\n",
       "mileage (kmpl)         -1.415615e-02\n",
       "max_horse_power         1.219612e-01\n",
       "is_individual_seller   -5.821840e-02\n",
       "engine_capacity_(cc)    6.923206e-02\n",
       "dtype: float64"
      ]
     },
     "metadata": {},
     "output_type": "display_data"
    },
    {
     "name": "stdout",
     "output_type": "stream",
     "text": [
      "\n",
      "Good Job!\n",
      "You've passed the 4th test for the 'fit' function implementation :-)\n"
     ]
    }
   ],
   "source": [
    "# 5.\n",
    "# ------------>>>>>>>> RUN THIS CODE CELL <<<<<<<<------------\n",
    "# --------  (run only)\n",
    "# === CODE TYPE: GRADED TEST \n",
    "\n",
    "print (\"Parts 5. - Test 4 (name: test5-4_fit, points: 1.3)\")\n",
    "print (\"\\t--->Testing the implementation of 'fit' ...\")\n",
    "\n",
    "file_name_train = 'data' + os.sep + 'car_prices_train.csv'\n",
    "file_name_test  = 'data' + os.sep + 'car_prices_test.csv'\n",
    "try:        \n",
    "    student_name, student_id = myName(), myId()\n",
    "    assert type(student_name) is str and type(student_id) is int, \"name is not a string or id is not an integer\"  \n",
    "    assignment_params = get_assignment_params(student_id)\n",
    "    X_train, y_train = load_dataset(file_name_train, assignment_params['y_col'], assignment_params['fictive_attr'])\n",
    "    X_test, y_test   = load_dataset(file_name_test, assignment_params['y_col'], assignment_params['fictive_attr'])\n",
    "    y_train.name,y_test.name='target','target'\n",
    "    train_set=pd.concat([X_train,y_train], axis=1)\n",
    "    test_set =pd.concat([X_test,y_test], axis=1)   \n",
    "    trained_scaling_info,  train_set_scaled = scale_fit_transform(train_set, assignment_params['fictive_attr'])\n",
    "    test_set_scaled = scale_transform_for_test(trained_scaling_info,  test_set, assignment_params['fictive_attr'])\n",
    "    X_train_scaled,y_train_scaled=train_set_scaled.drop(columns=['target']), train_set_scaled['target']\n",
    "    X_test_scaled,y_test_scaled=test_set_scaled.drop(columns=['target']), test_set_scaled['target']\n",
    "    alpha,num_iterations = 0.01,10\n",
    "    trained_w = fit(X_train_scaled,y_train_scaled,alpha,num_iterations)    \n",
    "except Exception as e:\n",
    "    print ('You probably have a syntax or implementation error,  \\nerror Message:',str(e), '\\nTry fixing your code')\n",
    "    raise\n",
    "\n",
    "if 't-distribution standardization' == assignment_params['scale_type']:\n",
    "    assert -0.014==list(np.round(trained_w.values+0.00005,3))[7], 'Wrong output for weight vector after 10th round'\n",
    "else:    \n",
    "    assert 0.05==list(np.round(trained_w.values-0.00055,3))[6], 'Wrong output for weight vector after 10th round'\n",
    "    \n",
    "print (\"\\nGood Job!\\nYou've passed the 4th test for the 'fit' function implementation :-)\")"
   ]
  },
  {
   "cell_type": "code",
   "execution_count": 542,
   "metadata": {
    "deletable": false,
    "editable": false,
    "nbgrader": {
     "cell_type": "code",
     "checksum": "ffdade717f148b8178c0534b5868e121",
     "grade": true,
     "grade_id": "test5-5_fit",
     "locked": true,
     "points": 1.2,
     "schema_version": 3,
     "solution": false,
     "task": false
    }
   },
   "outputs": [
    {
     "name": "stdout",
     "output_type": "stream",
     "text": [
      "Parts 5. - Test 5 (name: test5-5_fit, points: 1.2)\n",
      "\t--->Testing the implementation of 'fit' ...\n",
      "\n",
      "\t====> Full grading test - the following test is invisible. You will not know if you passed it, before grades are returned to the students\n"
     ]
    }
   ],
   "source": [
    "# 5.\n",
    "# ------------>>>>>>>> RUN THIS CODE CELL <<<<<<<<------------\n",
    "# --------  (run only)\n",
    "# === CODE TYPE: GRADED TEST \n",
    "\n",
    "print (\"Parts 5. - Test 5 (name: test5-5_fit, points: 1.2)\")\n",
    "print (\"\\t--->Testing the implementation of 'fit' ...\")\n",
    "print (\"\\n\\t====> Full grading test - the following test is invisible. You will not know if you passed it, before grades are returned to the students\")"
   ]
  },
  {
   "cell_type": "markdown",
   "metadata": {
    "deletable": false,
    "editable": false,
    "nbgrader": {
     "cell_type": "markdown",
     "checksum": "b9341e191f8268753658de9319596560",
     "grade": false,
     "grade_id": "cell-e8b7128a0aaf704e",
     "locked": true,
     "schema_version": 3,
     "solution": false,
     "task": false
    }
   },
   "source": [
    "[Go to the beginning of the assignment](#home)\n",
    "<a id=\"evaluation\"></a>\n",
    "### 6. Evaluation\n",
    "This section includes 2 function implementations:\n",
    "* 6.a. SAE, MAE or RMSE (depending on your assigned method ahead)\n",
    "* 6.b. R^2 (for everyone)\n",
    "\n",
    "### Note: all the following <u>metrics are explained in</u> the presentations of the <u>9th lecture and 9th  exercise</u>\n",
    "This includes all the following metrics:<br />\n",
    "SAE, MAE, SSE, MSE, RMSE, SST or R^2"
   ]
  },
  {
   "cell_type": "markdown",
   "metadata": {
    "deletable": false,
    "editable": false,
    "nbgrader": {
     "cell_type": "markdown",
     "checksum": "8019d1c0abbaf8ebc15b8099f1f7ba55",
     "grade": false,
     "grade_id": "cell-5681082cc7bdeb43",
     "locked": true,
     "schema_version": 3,
     "solution": false,
     "task": false
    }
   },
   "source": [
    "<b>Regression - Evaluation (6.a., 6.b.) - Allowed method usage</b>:<br />\n",
    "<div class=\"alert alert-success\">\n",
    "&#x2714; Any other basic vector or scalar mathematical function<br />\n",
    "&#x2714; Any statistical function<br />\n",
    "</div>\n",
    "<hr>\n",
    "<b>Regression - Evaluation (6.a., 6.b.) - Illegal method usage</b>:<br/>\n",
    "<div class=\"alert alert-danger\">\n",
    "&#x2718; Any function, which calculates SAE, MAE, SSE, MSE, RMSE, SST or R^2\n",
    "</div>"
   ]
  },
  {
   "cell_type": "markdown",
   "metadata": {
    "deletable": false,
    "editable": false,
    "nbgrader": {
     "cell_type": "markdown",
     "checksum": "0517bcb859cde2cca9b7aee1b468b10b",
     "grade": false,
     "grade_id": "cell-39730f7ae6609b46",
     "locked": true,
     "schema_version": 3,
     "solution": false,
     "task": false
    }
   },
   "source": [
    "### Part 6.a. Instructions\n",
    "<u>Part 6.a.</u> - Evaluation regression;\n",
    "<u>method name</u>: <b>evaluate_regression</b><br/>\n",
    "\n",
    "<pre>\n",
    "Complete the following function to return the calculated performance evaluation value, \n",
    "from the evaluation metric, assigned to you ahead (SAE, MAE or RMSE).\n",
    "       Note: The evaluation is calculated between y_test (the actual test values) and y_predicted (the predicted values).\n",
    "------------\n",
    "input parameter:\n",
    "- y_test - a series of containing all actual target values per test instance\n",
    "- y_predicted -  a series of containing all predicted target values per test instance\n",
    "------------\n",
    "return value:\n",
    "- evaluate_value - the (float) value calculated by the evaluation metric (assigned for you ahead)\n",
    "------------\n",
    "The return statement should look like the following:\n",
    "return evaluation_value\n",
    "</pre>\n",
    "\n",
    "#### Possible input \n",
    "<u>y_test series</u>:\n",
    "\n",
    "| | |\n",
    "| :- | :- |\n",
    "| 0 | 2.271517751  |\n",
    "| 1 | -0.774988409  |\n",
    "| 2 | -1.496529342  |\n",
    "| ... | ...  |\n",
    "\n",
    "\n",
    "<u>y_predicted</u>:\n",
    "\n",
    "| | |\n",
    "| :- | :- |\n",
    "| 0 | -0.617021277 |\n",
    "| 1 | -1.202568221 |\n",
    "| 2 | -0.935330839 |\n",
    "| ... | ...  |\n",
    "\n",
    "\n",
    "#### Possible output\n",
    "1.2421"
   ]
  },
  {
   "cell_type": "markdown",
   "metadata": {
    "deletable": false,
    "editable": false,
    "nbgrader": {
     "cell_type": "markdown",
     "checksum": "a64b7ed1a6670a3231941200279a51c0",
     "grade": false,
     "grade_id": "cell-e8bc2de912f6e650",
     "locked": true,
     "schema_version": 3,
     "solution": false,
     "task": false
    }
   },
   "source": [
    "### 6.a. Regression Evaluation (6.a.) - you need to <u>implement the following method</u> ..."
   ]
  },
  {
   "cell_type": "code",
   "execution_count": 543,
   "metadata": {
    "deletable": false,
    "editable": false,
    "nbgrader": {
     "cell_type": "code",
     "checksum": "eb2ccb75e6fdea021e9983385f7152d5",
     "grade": false,
     "grade_id": "cell-13720d723430d967",
     "locked": true,
     "schema_version": 3,
     "solution": false,
     "task": false
    }
   },
   "outputs": [
    {
     "name": "stdout",
     "output_type": "stream",
     "text": [
      "The evaluation metric you need to implement is: RMSE\n"
     ]
    }
   ],
   "source": [
    "## 6.a.\n",
    "# ------------>>>>>>>> RUN THIS CODE CELL <<<<<<<<------------\n",
    "# === CELL TYPE: IMPLEMENTATION TASKS\n",
    "\n",
    "try:    \n",
    "    student_name, student_id = myName(), myId()\n",
    "    assert type(student_name) is str and type(student_id) is int, \"name is not a string or id is not an integer\"\n",
    "    assignment_params = get_assignment_params(student_id)\n",
    "except Exception as e:\n",
    "    print ('You probably did not implement student-info functions, \\nerror Message:',str(e))\n",
    "    raise\n",
    "# ---------------------------\n",
    "                    \n",
    "print (\"The evaluation metric you need to implement is: \" + assignment_params['eval_metric'])"
   ]
  },
  {
   "cell_type": "code",
   "execution_count": 544,
   "metadata": {
    "deletable": false,
    "nbgrader": {
     "cell_type": "code",
     "checksum": "f47aba09492e4fb0afbbd4b6599e3675",
     "grade": false,
     "grade_id": "cell-e2c529031b105bdd",
     "locked": false,
     "schema_version": 3,
     "solution": true,
     "task": false
    }
   },
   "outputs": [],
   "source": [
    "# 6.a.\n",
    "# ------------>>>>>>>> RUN THIS CODE CELL <<<<<<<<------------\n",
    "# --------  (run after implementation)\n",
    "# === CODE TYPE: ASSISTANCE TO ANSWER \n",
    "# ---- Add assistance code here IF NEEDED:\n",
    "# YOUR CODE HERE\n"
   ]
  },
  {
   "cell_type": "code",
   "execution_count": 545,
   "metadata": {
    "deletable": false,
    "nbgrader": {
     "cell_type": "code",
     "checksum": "162de5023644543b682ba80bfc190e33",
     "grade": false,
     "grade_id": "answer-evaluate_regression",
     "locked": false,
     "schema_version": 3,
     "solution": true,
     "task": false
    }
   },
   "outputs": [],
   "source": [
    "# 6.a.\n",
    "# ------------>>>>>>>> RUN THIS CODE CELL <<<<<<<<------------\n",
    "# --------  (run after implementation)\n",
    "# === CODE TYPE: ANSWER \n",
    "\n",
    "def evaluate_regression(y_test, y_predicted):\n",
    "    sum1 = 0\n",
    "    for i in range(y_test.shape[0]):\n",
    "        sum1 += (y_test.iloc[i] - y_predicted.iloc[i])**2\n",
    "    sum1 = sum1 * (1/y_test.shape[0])\n",
    "    evaluation_value = math.sqrt(sum1)\n",
    "    return evaluation_value"
   ]
  },
  {
   "cell_type": "code",
   "execution_count": 546,
   "metadata": {},
   "outputs": [],
   "source": [
    "# 6.a.\n",
    "# ------------>>>>>>>> RUN THIS CODE CELL <<<<<<<<------------\n",
    "# --------  (run after implementation)\n",
    "# === CODE TYPE: SELF TESTING\n",
    "# Use the following code to test your implementation:\n",
    "# ---- load test-set:\n",
    "file_name_test  = 'data' + os.sep + 'car_prices_test.csv'\n",
    "student_name, student_id = myName(), myId()\n",
    "assignment_params = get_assignment_params(student_id)\n",
    "X_test, y_test   = load_dataset(file_name_test, assignment_params['y_col'], assignment_params['fictive_attr'])\n",
    "y_partial_test = y_test.iloc[1:6]\n",
    "y_fake_predicted = pd.Series([100000, 200000, 900000, 300000, 400000],y_partial_test.index)\n",
    "# ~~~~ CALL YOUR 'evaluate_regression' IMPLEMENTATION: ~~~~ #\n",
    "evaluation_value = evaluate_regression(y_partial_test,y_fake_predicted)\n",
    "# --- add additional code to check your code if needed:\n",
    "# YOUR CODE HERE\n"
   ]
  },
  {
   "cell_type": "code",
   "execution_count": 547,
   "metadata": {},
   "outputs": [],
   "source": [
    "# 6.a.\n",
    "# ------------>>>>>>>> RUN THIS CODE CELL <<<<<<<<------------\n",
    "# --------  (run after implementation, if used)\n",
    "# === CODE TYPE: SELF TESTING\n",
    "# ---- Add your additional tests here if needed:\n",
    "# YOUR CODE HERE\n"
   ]
  },
  {
   "cell_type": "code",
   "execution_count": 548,
   "metadata": {
    "deletable": false,
    "editable": false,
    "nbgrader": {
     "cell_type": "code",
     "checksum": "020f4d8361a9f69be1f649096c80792f",
     "grade": true,
     "grade_id": "test6a-1_evaluate_regression",
     "locked": true,
     "points": 0.2,
     "schema_version": 3,
     "solution": false,
     "task": false
    }
   },
   "outputs": [
    {
     "name": "stdout",
     "output_type": "stream",
     "text": [
      "Parts 6.a. - Test 1 (name: test6a-1_evaluate_regression, points: 0.2) - Sanity\n",
      "\t--->Testing the implementation of 'evaluate_regression' ...\n",
      "\t\tTesing a 'RMSE' evaluation metric ...\n",
      "\n",
      "Good Job!\n",
      "You've passed the 1st test for the 'evaluate_regression' function implementation :-)\n"
     ]
    }
   ],
   "source": [
    "# 6.a.\n",
    "# ------------>>>>>>>> RUN THIS CODE CELL <<<<<<<<------------\n",
    "# --------  (run only)\n",
    "# === CODE TYPE: GRADED TEST \n",
    "\n",
    "print (\"Parts 6.a. - Test 1 (name: test6a-1_evaluate_regression, points: 0.2) - Sanity\")\n",
    "print (\"\\t--->Testing the implementation of 'evaluate_regression' ...\")\n",
    "\n",
    "file_name_train = 'data' + os.sep + 'car_prices_train.csv'\n",
    "file_name_test  = 'data' + os.sep + 'car_prices_test.csv'\n",
    "try:        \n",
    "    student_name, student_id = myName(), myId()\n",
    "    assert type(student_name) is str and type(student_id) is int, \"name is not a string or id is not an integer\"  \n",
    "    assignment_params = get_assignment_params(student_id)\n",
    "    X_train, y_train = load_dataset(file_name_train, assignment_params['y_col'], assignment_params['fictive_attr'])\n",
    "    X_test, y_test   = load_dataset(file_name_test, assignment_params['y_col'], assignment_params['fictive_attr'])\n",
    "    y_test = y_test.iloc[1:6]\n",
    "    y_predicted = pd.Series([100000, 200000, 900000, 300000, 400000],y_test.index)\n",
    "\n",
    "    print (\"\\t\\tTesing a '\" + assignment_params['eval_metric'] + \"' evaluation metric ...\")\n",
    "    evaluation_value = evaluate_regression(y_test,y_predicted)\n",
    "except Exception as e:\n",
    "    print ('You probably have a syntax or implementation error,  \\nerror Message:',str(e), '\\nTry fixing your code')\n",
    "    raise\n",
    "\n",
    "print (\"\\nGood Job!\\nYou've passed the 1st test for the 'evaluate_regression' function implementation :-)\")"
   ]
  },
  {
   "cell_type": "code",
   "execution_count": 549,
   "metadata": {
    "deletable": false,
    "editable": false,
    "nbgrader": {
     "cell_type": "code",
     "checksum": "30118c0477d6680a3c8da2571112031f",
     "grade": true,
     "grade_id": "test6a-2_evaluate_regression",
     "locked": true,
     "points": 0.5,
     "schema_version": 3,
     "solution": false,
     "task": false
    }
   },
   "outputs": [
    {
     "name": "stdout",
     "output_type": "stream",
     "text": [
      "Parts 6.a. - Test 2 (name: test6a-2_evaluate_regression, points: 0.5)\n",
      "\t--->Testing the implementation of 'evaluate_regression' ...\n",
      "\t\tTesing a 'RMSE' evaluation metric ...\n",
      "\n",
      "Good Job!\n",
      "You've passed the 2nd test for the 'evaluate_regression' function implementation :-)\n"
     ]
    }
   ],
   "source": [
    "# 6.a.\n",
    "# ------------>>>>>>>> RUN THIS CODE CELL <<<<<<<<------------\n",
    "# --------  (run only)\n",
    "# === CODE TYPE: GRADED TEST \n",
    "\n",
    "print (\"Parts 6.a. - Test 2 (name: test6a-2_evaluate_regression, points: 0.5)\")\n",
    "print (\"\\t--->Testing the implementation of 'evaluate_regression' ...\")\n",
    "\n",
    "file_name_train = 'data' + os.sep + 'car_prices_train.csv'\n",
    "file_name_test  = 'data' + os.sep + 'car_prices_test.csv'\n",
    "try:        \n",
    "    student_name, student_id = myName(), myId()\n",
    "    assert type(student_name) is str and type(student_id) is int, \"name is not a string or id is not an integer\"  \n",
    "    assignment_params = get_assignment_params(student_id)\n",
    "    X_train, y_train = load_dataset(file_name_train, assignment_params['y_col'], assignment_params['fictive_attr'])\n",
    "    X_test, y_test   = load_dataset(file_name_test, assignment_params['y_col'], assignment_params['fictive_attr'])\n",
    "    y_test = y_test.iloc[1:6]\n",
    "    y_predicted = pd.Series([100000, 200000, 900000, 300000, 400000],y_test.index)\n",
    "    print (\"\\t\\tTesing a '\" + assignment_params['eval_metric'] + \"' evaluation metric ...\")\n",
    "    evaluation_value = evaluate_regression(y_test,y_predicted)\n",
    "except Exception as e:\n",
    "    print ('You probably have a syntax or implementation error,  \\nerror Message:',str(e), '\\nTry fixing your code')\n",
    "    raise\n",
    "if assignment_params['eval_metric'] == 'SAE':\n",
    "    assert 2356==evaluation_value//1000, 'Wrong SAE evaluation value'\n",
    "elif assignment_params['eval_metric'] == 'MAE':\n",
    "    assert 4712==evaluation_value//100, 'Wrong MAE evaluation value'\n",
    "else: # if assignment_params['eval_metric'] == 'RMSE':\n",
    "    assert 564775==np.round(evaluation_value-0.3,0), 'Wrong RMSE evaluation value'\n",
    "    \n",
    "print (\"\\nGood Job!\\nYou've passed the 2nd test for the 'evaluate_regression' function implementation :-)\")"
   ]
  },
  {
   "cell_type": "markdown",
   "metadata": {
    "deletable": false,
    "editable": false,
    "nbgrader": {
     "cell_type": "markdown",
     "checksum": "040f9e68eee135dc20fbf64e001c6f0a",
     "grade": false,
     "grade_id": "cell-368d133891ed06b7",
     "locked": true,
     "schema_version": 3,
     "solution": false,
     "task": false
    }
   },
   "source": [
    "### Part 6.b. Instructions\n",
    "<u>Part 6.b.</u> - Calculate the r^2 evaluation performance metric; \n",
    "<u>method name</u>: <b>calc_r_squared</b><br/>\n",
    "\n",
    "<pre>\n",
    "Complete the following function to return the calculated r^2 evaluation value, \n",
    "from the r^2 evaluation metric, assigned to you ahead (SAE, MAE or RMSE).\n",
    "       Note: The evaluation is calculated between y_test (the actual test values) and y_predicted (the predicted values).\n",
    "------------\n",
    "input parameter:\n",
    "- y_test - a series of containing all actual target values per test instance\n",
    "- y_predicted -  a series of containing all predicted target values per test instance\n",
    "------------\n",
    "return value:\n",
    "- evaluation_value - the r^2 value you've calculated (float number)\n",
    "------------\n",
    "The return statement should look like the following:\n",
    "return evaluate_value\n",
    "</pre>"
   ]
  },
  {
   "cell_type": "markdown",
   "metadata": {
    "deletable": false,
    "editable": false,
    "nbgrader": {
     "cell_type": "markdown",
     "checksum": "d920ef31d3c94a1cb5fa2ea4c1d174c4",
     "grade": false,
     "grade_id": "cell-35fb1f5ff0d8d271",
     "locked": true,
     "schema_version": 3,
     "solution": false,
     "task": false
    }
   },
   "source": [
    "[Go to the beginning of the assignment](#home)\n",
    "<a id=\"calc_r_square\"></a>\n",
    "### 6.b. The R-squared (R^2) regression evaluation metric\n",
    "\n",
    "#### Possible input \n",
    "<u>y_test series</u>:\n",
    "\n",
    "| | |\n",
    "| :- | :- |\n",
    "| 0 | 2.271517751  |\n",
    "| 1 | -0.774988409  |\n",
    "| 2 | -1.496529342  |\n",
    "| ... | ...  |\n",
    "\n",
    "\n",
    "<u>y_predicted</u>:\n",
    "\n",
    "| | |\n",
    "| :- | :- |\n",
    "| 0 | -0.617021277 |\n",
    "| 1 | -1.202568221 |\n",
    "| 2 | -0.935330839 |\n",
    "| ... | ...  |\n",
    "\n",
    "\n",
    "#### Possible output\n",
    "0.345345"
   ]
  },
  {
   "cell_type": "code",
   "execution_count": 550,
   "metadata": {
    "deletable": false,
    "nbgrader": {
     "cell_type": "code",
     "checksum": "eb3ca6d32e10cfb0ce0ad08f2ebf2cab",
     "grade": false,
     "grade_id": "cell-95fb09e1930a31f5",
     "locked": false,
     "schema_version": 3,
     "solution": true,
     "task": false
    }
   },
   "outputs": [],
   "source": [
    "# 6.b.\n",
    "# ------------>>>>>>>> RUN THIS CODE CELL <<<<<<<<------------\n",
    "# --------  (run after implementation)\n",
    "# === CODE TYPE: ASSISTANCE TO ANSWER \n",
    "# ---- Add assistance code here IF NEEDED:\n",
    "# YOUR CODE HERE\n"
   ]
  },
  {
   "cell_type": "code",
   "execution_count": 551,
   "metadata": {
    "deletable": false,
    "nbgrader": {
     "cell_type": "code",
     "checksum": "36a7da344beb486087b7e9185b73e777",
     "grade": false,
     "grade_id": "answer-calc_r_squared",
     "locked": false,
     "schema_version": 3,
     "solution": true,
     "task": false
    }
   },
   "outputs": [],
   "source": [
    "# 6.b.\n",
    "# ------------>>>>>>>> RUN THIS CODE CELL <<<<<<<<------------\n",
    "# --------  (run after implementation)\n",
    "# === CODE TYPE: ANSWER \n",
    "\n",
    "def calc_r_squared(y_test,y_predicted):\n",
    "    sse = 0.0\n",
    "    yavg = 0.0\n",
    "    sst = 0.0\n",
    "    for i in range(y_test.shape[0]):\n",
    "        sse += (y_test.iloc[i] - y_predicted.iloc[i])**2\n",
    "        yavg += y_test.iloc[i]\n",
    "    yavg = yavg * (1 / y_test.shape[0])\n",
    "    for i in range(y_test.shape[0]):\n",
    "        sst += (y_test.iloc[i] - yavg)**2\n",
    "    evaluate_value = 1-( sse / sst)  \n",
    "    return evaluate_value"
   ]
  },
  {
   "cell_type": "code",
   "execution_count": 552,
   "metadata": {},
   "outputs": [],
   "source": [
    "# 6.b.\n",
    "# ------------>>>>>>>> RUN THIS CODE CELL <<<<<<<<------------\n",
    "# --------  (run after implementation)\n",
    "# === CODE TYPE: SELF TESTING\n",
    "# Use the following code to test your implementation:\n",
    "# ---- load test-set:\n",
    "file_name_test  = 'data' + os.sep + 'car_prices_test.csv'\n",
    "student_name, student_id = myName(), myId()\n",
    "assignment_params = get_assignment_params(student_id)\n",
    "X_test, y_test   = load_dataset(file_name_test, assignment_params['y_col'], assignment_params['fictive_attr'])\n",
    "# ---- fake predict:\n",
    "y_fake_test = y_test.iloc[2:7]/10000\n",
    "y_fake_predicted = pd.Series([50, 10, 40, 30, 40],y_fake_test.index)\n",
    "# ---- evaluate fake predict:\n",
    "# ~~~~ CALL YOUR 'calc_r_squared' IMPLEMENTATION: ~~~~ #\n",
    "evaluation_value = calc_r_squared(y_fake_predicted,y_fake_predicted)\n",
    "# --- add additional code to check your code if needed:\n",
    "# YOUR CODE HERE\n"
   ]
  },
  {
   "cell_type": "code",
   "execution_count": 553,
   "metadata": {},
   "outputs": [],
   "source": [
    "# 6.b.\n",
    "# ------------>>>>>>>> RUN THIS CODE CELL <<<<<<<<------------\n",
    "# --------  (run after implementation, if used)\n",
    "# === CODE TYPE: SELF TESTING\n",
    "# ---- Add your additional tests here if needed:\n",
    "# YOUR CODE HERE\n"
   ]
  },
  {
   "cell_type": "code",
   "execution_count": 554,
   "metadata": {
    "deletable": false,
    "editable": false,
    "nbgrader": {
     "cell_type": "code",
     "checksum": "66bbd46616e2bfd6e25ef69427b5f792",
     "grade": true,
     "grade_id": "test6b-1_calc_r_squared",
     "locked": true,
     "points": 0.1,
     "schema_version": 3,
     "solution": false,
     "task": false
    }
   },
   "outputs": [
    {
     "name": "stdout",
     "output_type": "stream",
     "text": [
      "Parts 6.b. - Test 2 (name: test6b-1_calc_r_squared, points: 0.1) - Sanity\n",
      "\t--->Testing the implementation of 'calc_r_squared' ...\n",
      "\n",
      "Good Job!\n",
      "You've passed the 1st test for the 'calc_r_squared' function implementation :-)\n"
     ]
    }
   ],
   "source": [
    "# 6.b.\n",
    "# ------------>>>>>>>> RUN THIS CODE CELL <<<<<<<<------------\n",
    "# --------  (run only)\n",
    "# === CODE TYPE: GRADED TEST \n",
    "\n",
    "print (\"Parts 6.b. - Test 2 (name: test6b-1_calc_r_squared, points: 0.1) - Sanity\")\n",
    "print (\"\\t--->Testing the implementation of 'calc_r_squared' ...\")\n",
    "\n",
    "file_name_train = 'data' + os.sep + 'car_prices_train.csv'\n",
    "file_name_test  = 'data' + os.sep + 'car_prices_test.csv'\n",
    "try:        \n",
    "    student_name, student_id = myName(), myId()\n",
    "    assert type(student_name) is str and type(student_id) is int, \"name is not a string or id is not an integer\"  \n",
    "    assignment_params = get_assignment_params(student_id)\n",
    "    X_train, y_train = load_dataset(file_name_train, assignment_params['y_col'], assignment_params['fictive_attr'])\n",
    "    X_test, y_test   = load_dataset(file_name_test, assignment_params['y_col'], assignment_params['fictive_attr'])\n",
    "    y_test = y_test.iloc[2:7]/10000\n",
    "    y_predicted = pd.Series([50, 10, 40, 30, 40],y_test.index)\n",
    "    evaluation_value = calc_r_squared(y_test,y_predicted)\n",
    "except Exception as e:\n",
    "    print ('You probably have a syntax or implementation error,  \\nerror Message:',str(e), '\\nTry fixing your code')\n",
    "    raise\n",
    "\n",
    "print (\"\\nGood Job!\\nYou've passed the 1st test for the 'calc_r_squared' function implementation :-)\")"
   ]
  },
  {
   "cell_type": "code",
   "execution_count": 555,
   "metadata": {
    "deletable": false,
    "editable": false,
    "nbgrader": {
     "cell_type": "code",
     "checksum": "6ff492e255e171f4a67654848c52f26b",
     "grade": true,
     "grade_id": "test6b-2_calc_r_squared",
     "locked": true,
     "points": 0.4,
     "schema_version": 3,
     "solution": false,
     "task": false
    }
   },
   "outputs": [
    {
     "name": "stdout",
     "output_type": "stream",
     "text": [
      "Parts 6.b. - Test 2 (name: test6b-2_calc_r_squared, points: 0.4)\n",
      "\t--->Testing the implementation of 'calc_r_squared' ...\n",
      "\n",
      "Good Job!\n",
      "You've passed the 2nd test for the 'calc_r_squared' function implementation :-)\n"
     ]
    }
   ],
   "source": [
    "# 6.b.\n",
    "# ------------>>>>>>>> RUN THIS CODE CELL <<<<<<<<------------\n",
    "# --------  (run only)\n",
    "# === CODE TYPE: GRADED TEST \n",
    "\n",
    "print (\"Parts 6.b. - Test 2 (name: test6b-2_calc_r_squared, points: 0.4)\")\n",
    "print (\"\\t--->Testing the implementation of 'calc_r_squared' ...\")\n",
    "\n",
    "file_name_train = 'data' + os.sep + 'car_prices_train.csv'\n",
    "file_name_test  = 'data' + os.sep + 'car_prices_test.csv'\n",
    "try:        \n",
    "    student_name, student_id = myName(), myId()\n",
    "    assert type(student_name) is str and type(student_id) is int, \"name is not a string or id is not an integer\"  \n",
    "    assignment_params = get_assignment_params(student_id)\n",
    "    X_train, y_train = load_dataset(file_name_train, assignment_params['y_col'], assignment_params['fictive_attr'])\n",
    "    X_test, y_test   = load_dataset(file_name_test, assignment_params['y_col'], assignment_params['fictive_attr'])\n",
    "    y_test = y_test.iloc[2:7]/10000\n",
    "    y_predicted = pd.Series([50, 10, 40, 30, 40],y_test.index)\n",
    "    evaluation_value = calc_r_squared(y_test,y_predicted)\n",
    "except Exception as e:\n",
    "    print ('You probably have a syntax or implementation error,  \\nerror Message:',str(e), '\\nTry fixing your code')\n",
    "    raise\n",
    "assert 0.158==np.round(evaluation_value-0.0005,3), 'Wrong R^2 evaluation value'\n",
    "\n",
    "print (\"\\nGood Job!\\nYou've passed the 2nd test for the 'calc_r_squared' function implementation :-)\")"
   ]
  },
  {
   "cell_type": "code",
   "execution_count": 556,
   "metadata": {
    "deletable": false,
    "editable": false,
    "nbgrader": {
     "cell_type": "code",
     "checksum": "c2c4348ea707077406b7086775d7cf20",
     "grade": true,
     "grade_id": "test6b-3_calc_r_squared",
     "locked": true,
     "points": 0.8,
     "schema_version": 3,
     "solution": false,
     "task": false
    }
   },
   "outputs": [
    {
     "name": "stdout",
     "output_type": "stream",
     "text": [
      "Parts 6.b. - Test 3 (name: test6b-3_calc_r_squared, points: 0.8)\n",
      "\t--->Testing the implementation of 'calc_r_squared' ...\n",
      "\t\tTesing a 't-distribution standardization' scale type ...\n",
      "\n",
      "Good Job!\n",
      "You've passed the 3rd test for the 'calc_r_squared' function implementation :-)\n"
     ]
    }
   ],
   "source": [
    "# 6.b.\n",
    "# ------------>>>>>>>> RUN THIS CODE CELL <<<<<<<<------------\n",
    "# --------  (run only)\n",
    "# === CODE TYPE: GRADED TEST \n",
    "\n",
    "print (\"Parts 6.b. - Test 3 (name: test6b-3_calc_r_squared, points: 0.8)\")\n",
    "print (\"\\t--->Testing the implementation of 'calc_r_squared' ...\")\n",
    "\n",
    "file_name_train = 'data' + os.sep + 'car_prices_train.csv'\n",
    "file_name_test  = 'data' + os.sep + 'car_prices_test.csv'\n",
    "try:        \n",
    "    student_name, student_id = myName(), myId()\n",
    "    assert type(student_name) is str and type(student_id) is int, \"name is not a string or id is not an integer\"  \n",
    "    assignment_params = get_assignment_params(student_id)\n",
    "    X_train, y_train = load_dataset(file_name_train, assignment_params['y_col'], assignment_params['fictive_attr'])\n",
    "    X_test, y_test   = load_dataset(file_name_test, assignment_params['y_col'], assignment_params['fictive_attr'])\n",
    "    y_train.name,y_test.name='target','target'\n",
    "    train_set=pd.concat([X_train,y_train], axis=1)\n",
    "    test_set =pd.concat([X_test,y_test], axis=1)   \n",
    "    trained_scaling_info,  train_set_scaled = scale_fit_transform(train_set, assignment_params['fictive_attr'])\n",
    "    test_set_scaled = scale_transform_for_test(trained_scaling_info,  test_set, assignment_params['fictive_attr'])\n",
    "    X_train_scaled,y_train_scaled=train_set_scaled.drop(columns=['target']), train_set_scaled['target']\n",
    "    X_test_scaled,y_test_scaled=test_set_scaled.drop(columns=['target']), test_set_scaled['target']\n",
    "    alpha,num_iterations = 0.01,100\n",
    "    trained_w = fit(X_train_scaled,y_train_scaled,alpha,num_iterations)\n",
    "    y_predicted = predict(X_test_scaled, trained_w)\n",
    "    evaluation_value = calc_r_squared(y_test_scaled,y_predicted)\n",
    "except Exception as e:\n",
    "    print ('You probably have a syntax or implementation error,  \\nerror Message:',str(e), '\\nTry fixing your code')\n",
    "    raise\n",
    "\n",
    "print (\"\\t\\tTesing a '\" + assignment_params['scale_type'] + \"' scale type ...\")\n",
    "if 't-distribution standardization' == assignment_params['scale_type']:\n",
    "    assert 0.689==np.round(evaluation_value-0.0002,3), 'Wrong R^2 evaluation value'\n",
    "else: # if 'minmax normalization' == assignment_params['scale_type']:\n",
    "    assert 0.338==np.round(evaluation_value+0.0001,3), 'Wrong R^2 evaluation value'\n",
    "\n",
    "print (\"\\nGood Job!\\nYou've passed the 3rd test for the 'calc_r_squared' function implementation :-)\")"
   ]
  },
  {
   "cell_type": "code",
   "execution_count": null,
   "metadata": {},
   "outputs": [],
   "source": []
  }
 ],
 "metadata": {
  "kernelspec": {
   "display_name": "Python 3",
   "language": "python",
   "name": "python3"
  },
  "language_info": {
   "codemirror_mode": {
    "name": "ipython",
    "version": 3
   },
   "file_extension": ".py",
   "mimetype": "text/x-python",
   "name": "python",
   "nbconvert_exporter": "python",
   "pygments_lexer": "ipython3",
   "version": "3.9.2"
  }
 },
 "nbformat": 4,
 "nbformat_minor": 4
}
