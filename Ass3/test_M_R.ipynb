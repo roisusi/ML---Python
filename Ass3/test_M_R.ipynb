{
 "cells": [
  {
   "cell_type": "code",
   "execution_count": 11,
   "id": "generous-stock",
   "metadata": {
    "scrolled": true
   },
   "outputs": [
    {
     "data": {
      "text/html": [
       "<div>\n",
       "<style scoped>\n",
       "    .dataframe tbody tr th:only-of-type {\n",
       "        vertical-align: middle;\n",
       "    }\n",
       "\n",
       "    .dataframe tbody tr th {\n",
       "        vertical-align: top;\n",
       "    }\n",
       "\n",
       "    .dataframe thead th {\n",
       "        text-align: right;\n",
       "    }\n",
       "</style>\n",
       "<table border=\"1\" class=\"dataframe\">\n",
       "  <thead>\n",
       "    <tr style=\"text-align: right;\">\n",
       "      <th></th>\n",
       "      <th>x_0</th>\n",
       "      <th>Size</th>\n",
       "      <th>badroom</th>\n",
       "      <th>age</th>\n",
       "      <th>price</th>\n",
       "    </tr>\n",
       "  </thead>\n",
       "  <tbody>\n",
       "    <tr>\n",
       "      <th>0</th>\n",
       "      <td>1</td>\n",
       "      <td>2104</td>\n",
       "      <td>5</td>\n",
       "      <td>45</td>\n",
       "      <td>460</td>\n",
       "    </tr>\n",
       "    <tr>\n",
       "      <th>1</th>\n",
       "      <td>1</td>\n",
       "      <td>1416</td>\n",
       "      <td>3</td>\n",
       "      <td>40</td>\n",
       "      <td>232</td>\n",
       "    </tr>\n",
       "    <tr>\n",
       "      <th>2</th>\n",
       "      <td>1</td>\n",
       "      <td>852</td>\n",
       "      <td>2</td>\n",
       "      <td>36</td>\n",
       "      <td>178</td>\n",
       "    </tr>\n",
       "  </tbody>\n",
       "</table>\n",
       "</div>"
      ],
      "text/plain": [
       "   x_0  Size  badroom  age  price\n",
       "0    1  2104        5   45    460\n",
       "1    1  1416        3   40    232\n",
       "2    1   852        2   36    178"
      ]
     },
     "metadata": {},
     "output_type": "display_data"
    },
    {
     "name": "stdout",
     "output_type": "stream",
     "text": [
      "X\n"
     ]
    },
    {
     "data": {
      "text/html": [
       "<div>\n",
       "<style scoped>\n",
       "    .dataframe tbody tr th:only-of-type {\n",
       "        vertical-align: middle;\n",
       "    }\n",
       "\n",
       "    .dataframe tbody tr th {\n",
       "        vertical-align: top;\n",
       "    }\n",
       "\n",
       "    .dataframe thead th {\n",
       "        text-align: right;\n",
       "    }\n",
       "</style>\n",
       "<table border=\"1\" class=\"dataframe\">\n",
       "  <thead>\n",
       "    <tr style=\"text-align: right;\">\n",
       "      <th></th>\n",
       "      <th>x_0</th>\n",
       "      <th>Size</th>\n",
       "      <th>badroom</th>\n",
       "      <th>age</th>\n",
       "    </tr>\n",
       "  </thead>\n",
       "  <tbody>\n",
       "    <tr>\n",
       "      <th>0</th>\n",
       "      <td>1</td>\n",
       "      <td>2104</td>\n",
       "      <td>5</td>\n",
       "      <td>45</td>\n",
       "    </tr>\n",
       "    <tr>\n",
       "      <th>1</th>\n",
       "      <td>1</td>\n",
       "      <td>1416</td>\n",
       "      <td>3</td>\n",
       "      <td>40</td>\n",
       "    </tr>\n",
       "    <tr>\n",
       "      <th>2</th>\n",
       "      <td>1</td>\n",
       "      <td>852</td>\n",
       "      <td>2</td>\n",
       "      <td>36</td>\n",
       "    </tr>\n",
       "  </tbody>\n",
       "</table>\n",
       "</div>"
      ],
      "text/plain": [
       "   x_0  Size  badroom  age\n",
       "0    1  2104        5   45\n",
       "1    1  1416        3   40\n",
       "2    1   852        2   36"
      ]
     },
     "metadata": {},
     "output_type": "display_data"
    },
    {
     "name": "stdout",
     "output_type": "stream",
     "text": [
      "y\n"
     ]
    },
    {
     "data": {
      "text/plain": [
       "0    460\n",
       "1    232\n",
       "2    178\n",
       "Name: price, dtype: int64"
      ]
     },
     "metadata": {},
     "output_type": "display_data"
    },
    {
     "name": "stdout",
     "output_type": "stream",
     "text": [
      "df_students\n"
     ]
    },
    {
     "data": {
      "text/html": [
       "<div>\n",
       "<style scoped>\n",
       "    .dataframe tbody tr th:only-of-type {\n",
       "        vertical-align: middle;\n",
       "    }\n",
       "\n",
       "    .dataframe tbody tr th {\n",
       "        vertical-align: top;\n",
       "    }\n",
       "\n",
       "    .dataframe thead th {\n",
       "        text-align: right;\n",
       "    }\n",
       "</style>\n",
       "<table border=\"1\" class=\"dataframe\">\n",
       "  <thead>\n",
       "    <tr style=\"text-align: right;\">\n",
       "      <th></th>\n",
       "      <th>x_0</th>\n",
       "      <th>Size</th>\n",
       "      <th>badroom</th>\n",
       "      <th>age</th>\n",
       "      <th>price</th>\n",
       "    </tr>\n",
       "  </thead>\n",
       "  <tbody>\n",
       "    <tr>\n",
       "      <th>0</th>\n",
       "      <td>1</td>\n",
       "      <td>2104</td>\n",
       "      <td>5</td>\n",
       "      <td>45</td>\n",
       "      <td>460</td>\n",
       "    </tr>\n",
       "    <tr>\n",
       "      <th>1</th>\n",
       "      <td>1</td>\n",
       "      <td>1416</td>\n",
       "      <td>3</td>\n",
       "      <td>40</td>\n",
       "      <td>232</td>\n",
       "    </tr>\n",
       "    <tr>\n",
       "      <th>2</th>\n",
       "      <td>1</td>\n",
       "      <td>852</td>\n",
       "      <td>2</td>\n",
       "      <td>36</td>\n",
       "      <td>178</td>\n",
       "    </tr>\n",
       "  </tbody>\n",
       "</table>\n",
       "</div>"
      ],
      "text/plain": [
       "   x_0  Size  badroom  age  price\n",
       "0    1  2104        5   45    460\n",
       "1    1  1416        3   40    232\n",
       "2    1   852        2   36    178"
      ]
     },
     "metadata": {},
     "output_type": "display_data"
    },
    {
     "name": "stdout",
     "output_type": "stream",
     "text": [
      "trained_w\n"
     ]
    },
    {
     "data": {
      "text/plain": [
       "x_0        0\n",
       "Size       0\n",
       "badroom    0\n",
       "age        0\n",
       "price      0\n",
       "dtype: int64"
      ]
     },
     "metadata": {},
     "output_type": "display_data"
    },
    {
     "name": "stdout",
     "output_type": "stream",
     "text": [
      "y_predict\n"
     ]
    },
    {
     "data": {
      "text/plain": [
       "0    0\n",
       "1    0\n",
       "2    0\n",
       "dtype: int64"
      ]
     },
     "metadata": {},
     "output_type": "display_data"
    },
    {
     "name": "stdout",
     "output_type": "stream",
     "text": [
      "SUMMMMM\n",
      "x_0           -870\n",
      "Size      -1448008\n",
      "badroom      -3352\n",
      "age         -36388\n",
      "price      -297108\n",
      "dtype: int64\n",
      "trained_w trained_w trained_w\n"
     ]
    },
    {
     "data": {
      "text/plain": [
       "x_0           58.000000\n",
       "Size       96533.866667\n",
       "badroom      223.466667\n",
       "age         2425.866667\n",
       "price      19807.200000\n",
       "dtype: float64"
      ]
     },
     "metadata": {},
     "output_type": "display_data"
    },
    {
     "data": {
      "text/html": [
       "<div>\n",
       "<style scoped>\n",
       "    .dataframe tbody tr th:only-of-type {\n",
       "        vertical-align: middle;\n",
       "    }\n",
       "\n",
       "    .dataframe tbody tr th {\n",
       "        vertical-align: top;\n",
       "    }\n",
       "\n",
       "    .dataframe thead th {\n",
       "        text-align: right;\n",
       "    }\n",
       "</style>\n",
       "<table border=\"1\" class=\"dataframe\">\n",
       "  <thead>\n",
       "    <tr style=\"text-align: right;\">\n",
       "      <th></th>\n",
       "      <th>x_0</th>\n",
       "      <th>Size</th>\n",
       "      <th>badroom</th>\n",
       "      <th>age</th>\n",
       "      <th>price</th>\n",
       "    </tr>\n",
       "  </thead>\n",
       "  <tbody>\n",
       "    <tr>\n",
       "      <th>0</th>\n",
       "      <td>0</td>\n",
       "      <td>-460</td>\n",
       "      <td>-967840</td>\n",
       "      <td>-2300</td>\n",
       "      <td>-20700</td>\n",
       "    </tr>\n",
       "    <tr>\n",
       "      <th>1</th>\n",
       "      <td>0</td>\n",
       "      <td>-232</td>\n",
       "      <td>-328512</td>\n",
       "      <td>-696</td>\n",
       "      <td>-9280</td>\n",
       "    </tr>\n",
       "    <tr>\n",
       "      <th>2</th>\n",
       "      <td>0</td>\n",
       "      <td>-178</td>\n",
       "      <td>-151656</td>\n",
       "      <td>-356</td>\n",
       "      <td>-6408</td>\n",
       "    </tr>\n",
       "    <tr>\n",
       "      <th>3</th>\n",
       "      <td>0</td>\n",
       "      <td>-870</td>\n",
       "      <td>-1448008</td>\n",
       "      <td>-3352</td>\n",
       "      <td>-36388</td>\n",
       "    </tr>\n",
       "  </tbody>\n",
       "</table>\n",
       "</div>"
      ],
      "text/plain": [
       "   x_0  Size   badroom    age   price\n",
       "0    0  -460   -967840  -2300  -20700\n",
       "1    0  -232   -328512   -696   -9280\n",
       "2    0  -178   -151656   -356   -6408\n",
       "3    0  -870  -1448008  -3352  -36388"
      ]
     },
     "metadata": {},
     "output_type": "display_data"
    }
   ],
   "source": [
    "import pandas as pd\n",
    "import numpy as np\n",
    "import os                        # for testing use only\n",
    "from IPython.display import display\n",
    "\n",
    "\n",
    "file = 'data' + os.sep + 'LinerMreg.csv'\n",
    "df_students = pd.read_csv(file)\n",
    "\n",
    "df_students\n",
    "target_column = df_students.columns[3] \n",
    "df_students.insert(0,'x_0',1)   \n",
    "X = df_students.drop([target_column],axis=1)\n",
    "y = df_students[target_column]\n",
    "\n",
    "display(df_students)\n",
    "print(\"X\")\n",
    "display(X)\n",
    "print(\"y\")\n",
    "display(y)\n",
    "\n",
    "df = pd.DataFrame([],\n",
    "index=[0,1,2],\n",
    "columns=df_students.columns)\n",
    "df['x_0'] = 0\n",
    "\n",
    "trained_w = pd.Series(0, index= df_students.columns.values)\n",
    "\n",
    "\n",
    "for it in range(1):\n",
    "    print(\"df_students\")\n",
    "    display(df_students)\n",
    "    print(\"trained_w\")\n",
    "    display(trained_w)\n",
    "    y_predict = predict(df_students,trained_w) #hy = w0x0 + w1x1 + .... wdxd\n",
    "    print(\"y_predict\")\n",
    "    display(y_predict)\n",
    "    sumy = y_predict - y #sum -> (y^ - yi)*xi \n",
    "    dd = df_students.T@sumy\n",
    "    print(\"SUMMMMM\")\n",
    "    print(dd)\n",
    "    trained_w = trained_w - (0.1*2/len(y))*dd\n",
    "    print(\"trained_w trained_w trained_w\")\n",
    "    display(trained_w)\n",
    "\n",
    "\n",
    "\n",
    "\n",
    "\n",
    "for i in range(len(y)):\n",
    "    for j in range(len(df_students.columns)-1):\n",
    "        df.iloc[i,j+1] = (df.iloc[i,0] - y.iloc[i])*X.iloc[i,j]  \n",
    "    \n",
    "\n",
    "pbf = df.sum(axis = 1, skipna = True)\n",
    "#print(pbf)\n",
    "\n",
    "\n",
    "    \n",
    "dd = df.T.dot([1,1,1])\n",
    "df = df.append(dd, ignore_index=True)\n",
    "\n",
    "\n",
    "\n",
    "#display(df.sum(axis = 0, skipna = True))        \n",
    "        \n",
    "display(df)\n",
    "\n",
    "\n",
    "\n",
    "\n",
    "        \n",
    "\n",
    "\n",
    "\n",
    "\n"
   ]
  },
  {
   "cell_type": "code",
   "execution_count": 12,
   "id": "inclusive-suffering",
   "metadata": {},
   "outputs": [],
   "source": [
    "def predict(x_featureVectors,trained_w):\n",
    "    # YOUR CODE HERE\n",
    "    # @ - does dot product and save is as <class 'pandas.core.series.Series'> \n",
    "    from IPython.display import display\n",
    "    #display(x_featureVectors)\n",
    "    #display(trained_w)\n",
    "\n",
    "    y_predicted = x_featureVectors@trained_w\n",
    "    #display(y_predicted)\n",
    "    return y_predicted\n"
   ]
  },
  {
   "cell_type": "code",
   "execution_count": null,
   "id": "brief-relevance",
   "metadata": {},
   "outputs": [],
   "source": []
  },
  {
   "cell_type": "code",
   "execution_count": null,
   "id": "choice-broad",
   "metadata": {},
   "outputs": [],
   "source": []
  },
  {
   "cell_type": "code",
   "execution_count": null,
   "id": "chubby-delivery",
   "metadata": {},
   "outputs": [],
   "source": []
  }
 ],
 "metadata": {
  "kernelspec": {
   "display_name": "Python 3",
   "language": "python",
   "name": "python3"
  },
  "language_info": {
   "codemirror_mode": {
    "name": "ipython",
    "version": 3
   },
   "file_extension": ".py",
   "mimetype": "text/x-python",
   "name": "python",
   "nbconvert_exporter": "python",
   "pygments_lexer": "ipython3",
   "version": "3.9.2"
  }
 },
 "nbformat": 4,
 "nbformat_minor": 5
}
